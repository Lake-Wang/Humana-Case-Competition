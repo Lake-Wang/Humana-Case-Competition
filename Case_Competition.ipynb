{
 "nbformat": 4,
 "nbformat_minor": 0,
 "metadata": {
  "colab": {
   "provenance": [
    {
     "file_id": "16AnPy0ZMMgk8FKLosXxkdYLLBYd58Uxc",
     "timestamp": 1696536714731
    },
    {
     "file_id": "1JRA4Q0mjVv3agKV5cEDc_Q-x5ehfNa6l",
     "timestamp": 1696521833405
    },
    {
     "file_id": "1AaVQnFN8DGVO5XTN2n_DJKFGFXu51hJU",
     "timestamp": 1696514877420
    }
   ]
  },
  "kernelspec": {
   "name": "python3",
   "display_name": "Python 3"
  },
  "language_info": {
   "name": "python"
  }
 },
 "cells": [
  {
   "cell_type": "code",
   "execution_count": 1,
   "metadata": {
    "id": "nXhpEGEUdg3Z",
    "executionInfo": {
     "status": "ok",
     "timestamp": 1697375990145,
     "user_tz": 240,
     "elapsed": 856,
     "user": {
      "displayName": "Hao Huang",
      "userId": "01836457921775189398"
     }
    }
   },
   "outputs": [],
   "source": [
    "import pandas as pd\n",
    "import warnings\n",
    "warnings.filterwarnings(\"ignore\", category=DeprecationWarning)"
   ]
  },
  {
   "cell_type": "code",
   "source": [
    "from sklearn.metrics import roc_auc_score\n",
    "from sklearn import model_selection\n",
    "import xgboost as xgb\n",
    "from sklearn import tree\n",
    "from sklearn.ensemble import AdaBoostClassifier\n",
    "from sklearn.ensemble import RandomForestClassifier\n",
    "from sklearn.linear_model import LogisticRegression\n",
    "from sklearn.discriminant_analysis import QuadraticDiscriminantAnalysis\n",
    "from sklearn import metrics\n",
    "from category_encoders.cat_boost import CatBoostEncoder\n",
    "!pip install catboost\n",
    "from catboost import CatBoostClassifier\n",
    "from sklearn.model_selection import GridSearchCV\n",
    "from sklearn.model_selection import StratifiedKFold\n",
    "import matplotlib.pyplot as plt"
   ],
   "metadata": {
    "id": "KvRKEJA17-sV",
    "colab": {
     "base_uri": "https://localhost:8080/"
    },
    "outputId": "c65cd436-d47c-4ebd-b1ec-89dca7e437a3",
    "executionInfo": {
     "status": "ok",
     "timestamp": 1697376010423,
     "user_tz": 240,
     "elapsed": 20280,
     "user": {
      "displayName": "Hao Huang",
      "userId": "01836457921775189398"
     }
    }
   },
   "execution_count": 2,
   "outputs": [
    {
     "output_type": "stream",
     "name": "stdout",
     "text": [
      "Collecting category-encoders\n",
      "  Downloading category_encoders-2.6.2-py2.py3-none-any.whl (81 kB)\n",
      "\u001B[?25l     \u001B[90m━━━━━━━━━━━━━━━━━━━━━━━━━━━━━━━━━━━━━━━━\u001B[0m \u001B[32m0.0/81.8 kB\u001B[0m \u001B[31m?\u001B[0m eta \u001B[36m-:--:--\u001B[0m\r\u001B[2K     \u001B[90m━━━━━━━━━━━━━━━━━━━━━━━━━━━━━━━━━━━━━━━━\u001B[0m \u001B[32m81.8/81.8 kB\u001B[0m \u001B[31m3.5 MB/s\u001B[0m eta \u001B[36m0:00:00\u001B[0m\n",
      "\u001B[?25hRequirement already satisfied: numpy>=1.14.0 in /usr/local/lib/python3.10/dist-packages (from category-encoders) (1.23.5)\n",
      "Requirement already satisfied: scikit-learn>=0.20.0 in /usr/local/lib/python3.10/dist-packages (from category-encoders) (1.2.2)\n",
      "Requirement already satisfied: scipy>=1.0.0 in /usr/local/lib/python3.10/dist-packages (from category-encoders) (1.11.3)\n",
      "Requirement already satisfied: statsmodels>=0.9.0 in /usr/local/lib/python3.10/dist-packages (from category-encoders) (0.14.0)\n",
      "Requirement already satisfied: pandas>=1.0.5 in /usr/local/lib/python3.10/dist-packages (from category-encoders) (1.5.3)\n",
      "Requirement already satisfied: patsy>=0.5.1 in /usr/local/lib/python3.10/dist-packages (from category-encoders) (0.5.3)\n",
      "Requirement already satisfied: python-dateutil>=2.8.1 in /usr/local/lib/python3.10/dist-packages (from pandas>=1.0.5->category-encoders) (2.8.2)\n",
      "Requirement already satisfied: pytz>=2020.1 in /usr/local/lib/python3.10/dist-packages (from pandas>=1.0.5->category-encoders) (2023.3.post1)\n",
      "Requirement already satisfied: six in /usr/local/lib/python3.10/dist-packages (from patsy>=0.5.1->category-encoders) (1.16.0)\n",
      "Requirement already satisfied: joblib>=1.1.1 in /usr/local/lib/python3.10/dist-packages (from scikit-learn>=0.20.0->category-encoders) (1.3.2)\n",
      "Requirement already satisfied: threadpoolctl>=2.0.0 in /usr/local/lib/python3.10/dist-packages (from scikit-learn>=0.20.0->category-encoders) (3.2.0)\n",
      "Requirement already satisfied: packaging>=21.3 in /usr/local/lib/python3.10/dist-packages (from statsmodels>=0.9.0->category-encoders) (23.2)\n",
      "Installing collected packages: category-encoders\n",
      "Successfully installed category-encoders-2.6.2\n",
      "Collecting catboost\n",
      "  Downloading catboost-1.2.2-cp310-cp310-manylinux2014_x86_64.whl (98.7 MB)\n",
      "\u001B[2K     \u001B[90m━━━━━━━━━━━━━━━━━━━━━━━━━━━━━━━━━━━━━━━━\u001B[0m \u001B[32m98.7/98.7 MB\u001B[0m \u001B[31m11.2 MB/s\u001B[0m eta \u001B[36m0:00:00\u001B[0m\n",
      "\u001B[?25hRequirement already satisfied: graphviz in /usr/local/lib/python3.10/dist-packages (from catboost) (0.20.1)\n",
      "Requirement already satisfied: matplotlib in /usr/local/lib/python3.10/dist-packages (from catboost) (3.7.1)\n",
      "Requirement already satisfied: numpy>=1.16.0 in /usr/local/lib/python3.10/dist-packages (from catboost) (1.23.5)\n",
      "Requirement already satisfied: pandas>=0.24 in /usr/local/lib/python3.10/dist-packages (from catboost) (1.5.3)\n",
      "Requirement already satisfied: scipy in /usr/local/lib/python3.10/dist-packages (from catboost) (1.11.3)\n",
      "Requirement already satisfied: plotly in /usr/local/lib/python3.10/dist-packages (from catboost) (5.15.0)\n",
      "Requirement already satisfied: six in /usr/local/lib/python3.10/dist-packages (from catboost) (1.16.0)\n",
      "Requirement already satisfied: python-dateutil>=2.8.1 in /usr/local/lib/python3.10/dist-packages (from pandas>=0.24->catboost) (2.8.2)\n",
      "Requirement already satisfied: pytz>=2020.1 in /usr/local/lib/python3.10/dist-packages (from pandas>=0.24->catboost) (2023.3.post1)\n",
      "Requirement already satisfied: contourpy>=1.0.1 in /usr/local/lib/python3.10/dist-packages (from matplotlib->catboost) (1.1.1)\n",
      "Requirement already satisfied: cycler>=0.10 in /usr/local/lib/python3.10/dist-packages (from matplotlib->catboost) (0.12.1)\n",
      "Requirement already satisfied: fonttools>=4.22.0 in /usr/local/lib/python3.10/dist-packages (from matplotlib->catboost) (4.43.1)\n",
      "Requirement already satisfied: kiwisolver>=1.0.1 in /usr/local/lib/python3.10/dist-packages (from matplotlib->catboost) (1.4.5)\n",
      "Requirement already satisfied: packaging>=20.0 in /usr/local/lib/python3.10/dist-packages (from matplotlib->catboost) (23.2)\n",
      "Requirement already satisfied: pillow>=6.2.0 in /usr/local/lib/python3.10/dist-packages (from matplotlib->catboost) (9.4.0)\n",
      "Requirement already satisfied: pyparsing>=2.3.1 in /usr/local/lib/python3.10/dist-packages (from matplotlib->catboost) (3.1.1)\n",
      "Requirement already satisfied: tenacity>=6.2.0 in /usr/local/lib/python3.10/dist-packages (from plotly->catboost) (8.2.3)\n",
      "Installing collected packages: catboost\n",
      "Successfully installed catboost-1.2.2\n"
     ]
    }
   ]
  },
  {
   "cell_type": "markdown",
   "source": [
    "## training data"
   ],
   "metadata": {
    "id": "XjhStzslFWe3"
   }
  },
  {
   "cell_type": "code",
   "source": [
    "patient_df = pd.read_csv('target_train.csv')"
   ],
   "metadata": {
    "id": "QDODlBCAvvVB",
    "executionInfo": {
     "status": "ok",
     "timestamp": 1697376010587,
     "user_tz": 240,
     "elapsed": 175,
     "user": {
      "displayName": "Hao Huang",
      "userId": "01836457921775189398"
     }
    }
   },
   "execution_count": 3,
   "outputs": []
  },
  {
   "cell_type": "code",
   "source": [
    "medical_df = pd.read_csv('medclms_train.csv')"
   ],
   "metadata": {
    "id": "mo7gZJH8djAs",
    "executionInfo": {
     "status": "ok",
     "timestamp": 1697376011315,
     "user_tz": 240,
     "elapsed": 900,
     "user": {
      "displayName": "Hao Huang",
      "userId": "01836457921775189398"
     }
    }
   },
   "execution_count": 4,
   "outputs": []
  },
  {
   "cell_type": "code",
   "source": [
    "# drop duplicate claims\n",
    "medical_df.drop(columns=['medclm_key','clm_unique_key'],inplace=True)\n",
    "medical_df.drop_duplicates(inplace = True)"
   ],
   "metadata": {
    "id": "ADctnYYC2QHB",
    "executionInfo": {
     "status": "ok",
     "timestamp": 1697376011778,
     "user_tz": 240,
     "elapsed": 468,
     "user": {
      "displayName": "Hao Huang",
      "userId": "01836457921775189398"
     }
    }
   },
   "execution_count": 5,
   "outputs": []
  },
  {
   "cell_type": "code",
   "source": [
    "# calculate % of null-value in each column\n",
    "medical_df.isna().sum()/medical_df.shape[0]"
   ],
   "metadata": {
    "id": "5h0QRIAVzAyp",
    "colab": {
     "base_uri": "https://localhost:8080/"
    },
    "executionInfo": {
     "status": "ok",
     "timestamp": 1697376011946,
     "user_tz": 240,
     "elapsed": 173,
     "user": {
      "displayName": "Hao Huang",
      "userId": "01836457921775189398"
     }
    },
    "outputId": "f2965c38-c8ce-405a-8591-499c5224e97f"
   },
   "execution_count": 6,
   "outputs": [
    {
     "output_type": "execute_result",
     "data": {
      "text/plain": [
       "therapy_id                 0.000000\n",
       "primary_diag_cd            0.000000\n",
       "visit_date                 0.000000\n",
       "diag_cd2                   0.302310\n",
       "diag_cd3                   0.495988\n",
       "diag_cd4                   0.624573\n",
       "diag_cd5                   0.730951\n",
       "diag_cd6                   0.783267\n",
       "diag_cd7                   0.825014\n",
       "diag_cd8                   0.853984\n",
       "diag_cd9                   0.877864\n",
       "process_date               0.000000\n",
       "reversal_ind               0.986933\n",
       "pot                        0.000000\n",
       "util_cat                   0.543383\n",
       "hedis_pot                  0.000000\n",
       "clm_type                   0.000000\n",
       "ade_diagnosis              0.000000\n",
       "seizure_diagnosis          0.000000\n",
       "pain_diagnosis             0.000000\n",
       "fatigue_diagnosis          0.000000\n",
       "nausea_diagnosis           0.000000\n",
       "hyperglycemia_diagnosis    0.000000\n",
       "constipation_diagnosis     0.000000\n",
       "diarrhea_diagnosis         0.000000\n",
       "dtype: float64"
      ]
     },
     "metadata": {},
     "execution_count": 6
    }
   ]
  },
  {
   "cell_type": "code",
   "source": [
    "# drop columns with 60% of null-value\n",
    "medical_df.drop(columns=['diag_cd4','diag_cd5','diag_cd6','diag_cd7',\n",
    "                         'diag_cd8','diag_cd9','reversal_ind'],inplace=True)"
   ],
   "metadata": {
    "id": "V3zVkeJu1Yda",
    "executionInfo": {
     "status": "ok",
     "timestamp": 1697376012118,
     "user_tz": 240,
     "elapsed": 176,
     "user": {
      "displayName": "Hao Huang",
      "userId": "01836457921775189398"
     }
    }
   },
   "execution_count": 7,
   "outputs": []
  },
  {
   "cell_type": "code",
   "source": [
    "time_df = patient_df[['therapy_id','therapy_start_date']]\n",
    "time_df.therapy_start_date = pd.to_datetime(time_df.therapy_start_date)\n",
    "medical_df = medical_df.merge(time_df, how='left', on='therapy_id')\n",
    "medical_df.visit_date = pd.to_datetime(medical_df.visit_date)"
   ],
   "metadata": {
    "id": "nokO3NwjlnPa",
    "colab": {
     "base_uri": "https://localhost:8080/"
    },
    "executionInfo": {
     "status": "ok",
     "timestamp": 1697376012118,
     "user_tz": 240,
     "elapsed": 12,
     "user": {
      "displayName": "Hao Huang",
      "userId": "01836457921775189398"
     }
    },
    "outputId": "83ab26df-2344-4d3d-a4cd-cb19e5458de6"
   },
   "execution_count": 8,
   "outputs": [
    {
     "output_type": "stream",
     "name": "stderr",
     "text": [
      "<ipython-input-8-06dea78dc2db>:2: SettingWithCopyWarning: \n",
      "A value is trying to be set on a copy of a slice from a DataFrame.\n",
      "Try using .loc[row_indexer,col_indexer] = value instead\n",
      "\n",
      "See the caveats in the documentation: https://pandas.pydata.org/pandas-docs/stable/user_guide/indexing.html#returning-a-view-versus-a-copy\n",
      "  time_df.therapy_start_date = pd.to_datetime(time_df.therapy_start_date)\n"
     ]
    }
   ]
  },
  {
   "cell_type": "code",
   "source": [
    "medical_df['time_diff'] = (medical_df.visit_date-medical_df.therapy_start_date).dt.total_seconds() / 3600\n",
    "medical_df = medical_df[medical_df['time_diff']>0]"
   ],
   "metadata": {
    "id": "1qV10oPWlo0M",
    "executionInfo": {
     "status": "ok",
     "timestamp": 1697376012119,
     "user_tz": 240,
     "elapsed": 7,
     "user": {
      "displayName": "Hao Huang",
      "userId": "01836457921775189398"
     }
    }
   },
   "execution_count": 9,
   "outputs": []
  },
  {
   "cell_type": "code",
   "source": [
    "# drop irrevalant columns\n",
    "medical_df.drop(columns=['visit_date','process_date','time_diff','therapy_start_date'],inplace=True)"
   ],
   "metadata": {
    "id": "I_jPTGB7aDN3",
    "executionInfo": {
     "status": "ok",
     "timestamp": 1697376012119,
     "user_tz": 240,
     "elapsed": 6,
     "user": {
      "displayName": "Hao Huang",
      "userId": "01836457921775189398"
     }
    }
   },
   "execution_count": 10,
   "outputs": []
  },
  {
   "cell_type": "code",
   "source": [
    "# medical_df['therapy_id'].value_counts()"
   ],
   "metadata": {
    "id": "Yfaf31E5eRkI",
    "executionInfo": {
     "status": "ok",
     "timestamp": 1697376012119,
     "user_tz": 240,
     "elapsed": 6,
     "user": {
      "displayName": "Hao Huang",
      "userId": "01836457921775189398"
     }
    }
   },
   "execution_count": 11,
   "outputs": []
  },
  {
   "cell_type": "code",
   "source": [
    "medical_df.info()"
   ],
   "metadata": {
    "id": "hMWSM0azwAoS",
    "colab": {
     "base_uri": "https://localhost:8080/"
    },
    "executionInfo": {
     "status": "ok",
     "timestamp": 1697376012364,
     "user_tz": 240,
     "elapsed": 15,
     "user": {
      "displayName": "Hao Huang",
      "userId": "01836457921775189398"
     }
    },
    "outputId": "7419a477-eebf-46fe-8219-ab8f894d6555"
   },
   "execution_count": 12,
   "outputs": [
    {
     "output_type": "stream",
     "name": "stdout",
     "text": [
      "<class 'pandas.core.frame.DataFrame'>\n",
      "Int64Index: 16855 entries, 1 to 41248\n",
      "Data columns (total 16 columns):\n",
      " #   Column                   Non-Null Count  Dtype \n",
      "---  ------                   --------------  ----- \n",
      " 0   therapy_id               16855 non-null  object\n",
      " 1   primary_diag_cd          16855 non-null  object\n",
      " 2   diag_cd2                 12014 non-null  object\n",
      " 3   diag_cd3                 8773 non-null   object\n",
      " 4   pot                      16855 non-null  object\n",
      " 5   util_cat                 8087 non-null   object\n",
      " 6   hedis_pot                16855 non-null  object\n",
      " 7   clm_type                 16855 non-null  object\n",
      " 8   ade_diagnosis            16855 non-null  int64 \n",
      " 9   seizure_diagnosis        16855 non-null  int64 \n",
      " 10  pain_diagnosis           16855 non-null  int64 \n",
      " 11  fatigue_diagnosis        16855 non-null  int64 \n",
      " 12  nausea_diagnosis         16855 non-null  int64 \n",
      " 13  hyperglycemia_diagnosis  16855 non-null  int64 \n",
      " 14  constipation_diagnosis   16855 non-null  int64 \n",
      " 15  diarrhea_diagnosis       16855 non-null  int64 \n",
      "dtypes: int64(8), object(8)\n",
      "memory usage: 2.2+ MB\n"
     ]
    }
   ]
  },
  {
   "cell_type": "code",
   "source": [
    "medical_df.fillna(\"Missing\",inplace=True)"
   ],
   "metadata": {
    "id": "No9aQPu03Bag",
    "executionInfo": {
     "status": "ok",
     "timestamp": 1697376012526,
     "user_tz": 240,
     "elapsed": 169,
     "user": {
      "displayName": "Hao Huang",
      "userId": "01836457921775189398"
     }
    }
   },
   "execution_count": 13,
   "outputs": []
  },
  {
   "cell_type": "code",
   "source": [
    "# get top 10 value in 'primary_diag_cd' and change others to 'other'\n",
    "# top_values = medical_df['primary_diag_cd'].value_counts().index[:11]\n",
    "# medical_df.loc[~medical_df['primary_diag_cd'].isin(top_values), 'primary_diag_cd'] = 'Other'\n",
    "# medical_df.loc[~medical_df['diag_cd2'].isin(top_values), 'diag_cd2'] = 'Other'\n",
    "# medical_df.loc[~medical_df['diag_cd3'].isin(top_values), 'diag_cd3'] = 'Other'\n"
   ],
   "metadata": {
    "id": "oSbV6c6VJg5J",
    "executionInfo": {
     "status": "ok",
     "timestamp": 1697376012527,
     "user_tz": 240,
     "elapsed": 8,
     "user": {
      "displayName": "Hao Huang",
      "userId": "01836457921775189398"
     }
    }
   },
   "execution_count": 14,
   "outputs": []
  },
  {
   "cell_type": "code",
   "source": [
    "# Define a custom function to determine the most frequent non-\"other\" string\n",
    "def most_frequent_non_missing(group):\n",
    "    non_missing_values = group[group != 'Missing']\n",
    "    if non_missing_values.empty:\n",
    "        return 'Missing'\n",
    "    else:\n",
    "        return non_missing_values.mode().iloc[0]\n",
    "\n",
    "def most_frequent_non_unknown(group):\n",
    "    non_unknown_values = group[group != 'Unknown']\n",
    "    if non_unknown_values.empty:\n",
    "        return 'Unknown'\n",
    "    else:\n",
    "        return non_unknown_values.mode().iloc[0]\n",
    "\n",
    "# def most_frequent_non_null(group):\n",
    "#     non_null_values = group[group.notnull()]\n",
    "#     if non_null_values.empty:\n",
    "#         return 'null'\n",
    "#     else:\n",
    "#         return non_null_values.mode().iloc[0]\n",
    "\n",
    "def most_frequent_non_other(group):\n",
    "    non_other_values = group[group != 'Other']\n",
    "    if non_other_values.empty:\n",
    "        return 'Other'\n",
    "    else:\n",
    "        return non_other_values.mode().iloc[0]\n",
    "\n",
    "# Group by 'id' and apply the custom function\n",
    "result1 = medical_df.groupby('therapy_id')['primary_diag_cd'].agg(most_frequent_non_missing).reset_index()\n",
    "result2 = medical_df.groupby('therapy_id')['diag_cd2'].agg(most_frequent_non_missing).reset_index()\n",
    "result3 = medical_df.groupby('therapy_id')['diag_cd3'].agg(most_frequent_non_missing).reset_index()\n",
    "result4 = medical_df.groupby('therapy_id')['pot'].agg(most_frequent_non_unknown).reset_index()\n",
    "result5 = medical_df.groupby('therapy_id')['util_cat'].agg(most_frequent_non_missing).reset_index()\n",
    "result6 = medical_df.groupby('therapy_id')['hedis_pot'].agg(most_frequent_non_other).reset_index()"
   ],
   "metadata": {
    "id": "hkgyei3jYEWD",
    "executionInfo": {
     "status": "ok",
     "timestamp": 1697376015693,
     "user_tz": 240,
     "elapsed": 3174,
     "user": {
      "displayName": "Hao Huang",
      "userId": "01836457921775189398"
     }
    }
   },
   "execution_count": 15,
   "outputs": []
  },
  {
   "cell_type": "code",
   "source": [
    "diagnosis_ind = medical_df.groupby('therapy_id').agg(lambda x: (x == 1).any()).reset_index()\n",
    "to_process = medical_df.columns[8:]\n",
    "diagnosis_ind[to_process] = diagnosis_ind[to_process].astype(int)\n",
    "cols = range(1,8)\n",
    "diagnosis_ind.drop(diagnosis_ind.columns[cols], axis=1, inplace=True)"
   ],
   "metadata": {
    "id": "ZVzntY_yRB8V",
    "executionInfo": {
     "status": "ok",
     "timestamp": 1697376017664,
     "user_tz": 240,
     "elapsed": 1978,
     "user": {
      "displayName": "Hao Huang",
      "userId": "01836457921775189398"
     }
    }
   },
   "execution_count": 16,
   "outputs": []
  },
  {
   "cell_type": "code",
   "source": [
    "final_medical_df = diagnosis_ind.merge(result1, on='therapy_id', how='left')\n",
    "final_medical_df = final_medical_df.merge(result2, on='therapy_id', how='left')\n",
    "final_medical_df = final_medical_df.merge(result3, on='therapy_id', how='left')\n",
    "final_medical_df = final_medical_df.merge(result4, on='therapy_id', how='left')\n",
    "final_medical_df = final_medical_df.merge(result5, on='therapy_id', how='left')\n",
    "final_medical_df = final_medical_df.merge(result6, on='therapy_id', how='left')"
   ],
   "metadata": {
    "id": "RQXPT0HmimU6",
    "executionInfo": {
     "status": "ok",
     "timestamp": 1697376017664,
     "user_tz": 240,
     "elapsed": 14,
     "user": {
      "displayName": "Hao Huang",
      "userId": "01836457921775189398"
     }
    }
   },
   "execution_count": 17,
   "outputs": []
  },
  {
   "cell_type": "code",
   "source": [
    "agg_count = medical_df.groupby('therapy_id').size().reset_index(name='med_count')\n",
    "label_df = patient_df[['therapy_id','tgt_ade_dc_ind']]\n",
    "\n",
    "final_medical_df = final_medical_df.merge(agg_count, how='left', on='therapy_id')\n",
    "final_medical_df = final_medical_df.merge(label_df, how='left', on='therapy_id')"
   ],
   "metadata": {
    "id": "RC20LebapCWv",
    "executionInfo": {
     "status": "ok",
     "timestamp": 1697376017665,
     "user_tz": 240,
     "elapsed": 13,
     "user": {
      "displayName": "Hao Huang",
      "userId": "01836457921775189398"
     }
    }
   },
   "execution_count": 18,
   "outputs": []
  },
  {
   "cell_type": "code",
   "source": [
    "# final_medical_df.loc[:, final_medical_df.dtypes == 'object'] =\\\n",
    "#     final_medical_df.select_dtypes(['object'])\\\n",
    "#     .apply(lambda x: x.astype('category'))"
   ],
   "metadata": {
    "id": "6npWb69qpv56",
    "executionInfo": {
     "status": "ok",
     "timestamp": 1697376017665,
     "user_tz": 240,
     "elapsed": 13,
     "user": {
      "displayName": "Hao Huang",
      "userId": "01836457921775189398"
     }
    }
   },
   "execution_count": 19,
   "outputs": []
  },
  {
   "cell_type": "code",
   "source": [
    "final_medical_df.info()"
   ],
   "metadata": {
    "id": "PvUo81t5Nuka",
    "colab": {
     "base_uri": "https://localhost:8080/"
    },
    "executionInfo": {
     "status": "ok",
     "timestamp": 1697376018678,
     "user_tz": 240,
     "elapsed": 1025,
     "user": {
      "displayName": "Hao Huang",
      "userId": "01836457921775189398"
     }
    },
    "outputId": "ac46f2ea-2564-4d67-a116-6a7bd75409ed"
   },
   "execution_count": 20,
   "outputs": [
    {
     "output_type": "stream",
     "name": "stdout",
     "text": [
      "<class 'pandas.core.frame.DataFrame'>\n",
      "Int64Index: 516 entries, 0 to 515\n",
      "Data columns (total 17 columns):\n",
      " #   Column                   Non-Null Count  Dtype \n",
      "---  ------                   --------------  ----- \n",
      " 0   therapy_id               516 non-null    object\n",
      " 1   ade_diagnosis            516 non-null    int64 \n",
      " 2   seizure_diagnosis        516 non-null    int64 \n",
      " 3   pain_diagnosis           516 non-null    int64 \n",
      " 4   fatigue_diagnosis        516 non-null    int64 \n",
      " 5   nausea_diagnosis         516 non-null    int64 \n",
      " 6   hyperglycemia_diagnosis  516 non-null    int64 \n",
      " 7   constipation_diagnosis   516 non-null    int64 \n",
      " 8   diarrhea_diagnosis       516 non-null    int64 \n",
      " 9   primary_diag_cd          516 non-null    object\n",
      " 10  diag_cd2                 516 non-null    object\n",
      " 11  diag_cd3                 516 non-null    object\n",
      " 12  pot                      516 non-null    object\n",
      " 13  util_cat                 516 non-null    object\n",
      " 14  hedis_pot                516 non-null    object\n",
      " 15  med_count                516 non-null    int64 \n",
      " 16  tgt_ade_dc_ind           516 non-null    int64 \n",
      "dtypes: int64(10), object(7)\n",
      "memory usage: 72.6+ KB\n"
     ]
    }
   ]
  },
  {
   "cell_type": "code",
   "source": [
    "# X = final_medical_df.drop(columns = ['therapy_id','tgt_ade_dc_ind'])\n",
    "# y = final_medical_df['tgt_ade_dc_ind']\n",
    "# # fit model no training data\n",
    "# model = xgb.XGBClassifier(enable_categorical = True)\n",
    "# model.fit(X, y)\n",
    "# # feature importance\n",
    "# print(model.feature_importances_)\n",
    "# # plot\n",
    "# xgb.plot_importance(model)\n",
    "# plt.show()"
   ],
   "metadata": {
    "id": "lILZ0U6A8Uwx",
    "executionInfo": {
     "status": "ok",
     "timestamp": 1697376018679,
     "user_tz": 240,
     "elapsed": 11,
     "user": {
      "displayName": "Hao Huang",
      "userId": "01836457921775189398"
     }
    }
   },
   "execution_count": 21,
   "outputs": []
  },
  {
   "cell_type": "code",
   "source": [
    "pharmacy_df = pd.read_csv('rxclms_train.csv')"
   ],
   "metadata": {
    "id": "fYvNJPfMCpNf",
    "executionInfo": {
     "status": "ok",
     "timestamp": 1697376018891,
     "user_tz": 240,
     "elapsed": 221,
     "user": {
      "displayName": "Hao Huang",
      "userId": "01836457921775189398"
     }
    }
   },
   "execution_count": 22,
   "outputs": []
  },
  {
   "cell_type": "code",
   "source": [
    "# drop duplicate claims\n",
    "pharmacy_df.drop(columns=['document_key','ndc_id'],inplace=True)\n",
    "pharmacy_df.drop_duplicates(inplace = True)"
   ],
   "metadata": {
    "id": "Q8VNRVM1zEC3",
    "executionInfo": {
     "status": "ok",
     "timestamp": 1697376018893,
     "user_tz": 240,
     "elapsed": 28,
     "user": {
      "displayName": "Hao Huang",
      "userId": "01836457921775189398"
     }
    }
   },
   "execution_count": 23,
   "outputs": []
  },
  {
   "cell_type": "code",
   "source": [
    "# calculate % of null-value in each column\n",
    "pharmacy_df.isna().sum()/pharmacy_df.shape[0]"
   ],
   "metadata": {
    "id": "_Zc9Rg_pzEUQ",
    "colab": {
     "base_uri": "https://localhost:8080/"
    },
    "executionInfo": {
     "status": "ok",
     "timestamp": 1697376018894,
     "user_tz": 240,
     "elapsed": 28,
     "user": {
      "displayName": "Hao Huang",
      "userId": "01836457921775189398"
     }
    },
    "outputId": "8e31b37e-5671-44ba-fbb3-67219c56fb1e"
   },
   "execution_count": 24,
   "outputs": [
    {
     "output_type": "execute_result",
     "data": {
      "text/plain": [
       "therapy_id                 0.000000\n",
       "service_date               0.000000\n",
       "process_date               0.000000\n",
       "pay_day_supply_cnt         0.000000\n",
       "rx_cost                    0.000000\n",
       "tot_drug_cost_accum_amt    0.000000\n",
       "reversal_ind               0.000000\n",
       "mail_order_ind             0.000000\n",
       "generic_ind                0.000000\n",
       "maint_ind                  0.000000\n",
       "gpi_drug_group_desc        0.050232\n",
       "gpi_drug_class_desc        0.050232\n",
       "hum_drug_class_desc        0.050232\n",
       "strength_meas              0.058055\n",
       "metric_strength            0.058055\n",
       "specialty_ind              0.000000\n",
       "clm_type                   0.000000\n",
       "ddi_ind                    0.000000\n",
       "anticoag_ind               0.000000\n",
       "diarrhea_treat_ind         0.000000\n",
       "nausea_treat_ind           0.000000\n",
       "seizure_treat_ind          0.000000\n",
       "dtype: float64"
      ]
     },
     "metadata": {},
     "execution_count": 24
    }
   ]
  },
  {
   "cell_type": "code",
   "source": [
    "time_df = patient_df[['therapy_id','therapy_start_date']]\n",
    "time_df.therapy_start_date = pd.to_datetime(time_df.therapy_start_date)\n",
    "pharmacy_df = pharmacy_df.merge(time_df, how='left', on='therapy_id')\n",
    "pharmacy_df.service_date = pd.to_datetime(pharmacy_df.service_date)"
   ],
   "metadata": {
    "id": "GrofIrODmGIL",
    "colab": {
     "base_uri": "https://localhost:8080/"
    },
    "executionInfo": {
     "status": "ok",
     "timestamp": 1697376018894,
     "user_tz": 240,
     "elapsed": 26,
     "user": {
      "displayName": "Hao Huang",
      "userId": "01836457921775189398"
     }
    },
    "outputId": "044dcaa4-9559-461b-bede-764ca855466d"
   },
   "execution_count": 25,
   "outputs": [
    {
     "output_type": "stream",
     "name": "stderr",
     "text": [
      "<ipython-input-25-23d49b7669b7>:2: SettingWithCopyWarning: \n",
      "A value is trying to be set on a copy of a slice from a DataFrame.\n",
      "Try using .loc[row_indexer,col_indexer] = value instead\n",
      "\n",
      "See the caveats in the documentation: https://pandas.pydata.org/pandas-docs/stable/user_guide/indexing.html#returning-a-view-versus-a-copy\n",
      "  time_df.therapy_start_date = pd.to_datetime(time_df.therapy_start_date)\n"
     ]
    }
   ]
  },
  {
   "cell_type": "code",
   "source": [
    "pharmacy_df['time_diff'] = (pharmacy_df.service_date-pharmacy_df.therapy_start_date).dt.total_seconds() / 3600\n",
    "pharmacy_df = pharmacy_df[pharmacy_df['time_diff']>0]"
   ],
   "metadata": {
    "id": "5x8zA7-jmI0k",
    "executionInfo": {
     "status": "ok",
     "timestamp": 1697376018894,
     "user_tz": 240,
     "elapsed": 22,
     "user": {
      "displayName": "Hao Huang",
      "userId": "01836457921775189398"
     }
    }
   },
   "execution_count": 26,
   "outputs": []
  },
  {
   "cell_type": "code",
   "source": [
    "# drop irrevalant columns\n",
    "pharmacy_df.drop(columns=['service_date','process_date','reversal_ind','mail_order_ind',\n",
    "                          'gpi_drug_group_desc','gpi_drug_class_desc','strength_meas',\n",
    "                          'time_diff','therapy_start_date'],inplace=True)\n",
    "pharmacy_df.info()"
   ],
   "metadata": {
    "id": "LiV-REoizZxo",
    "colab": {
     "base_uri": "https://localhost:8080/"
    },
    "executionInfo": {
     "status": "ok",
     "timestamp": 1697376018894,
     "user_tz": 240,
     "elapsed": 21,
     "user": {
      "displayName": "Hao Huang",
      "userId": "01836457921775189398"
     }
    },
    "outputId": "cd2e154d-2b94-4039-8a94-f134515891f2"
   },
   "execution_count": 27,
   "outputs": [
    {
     "output_type": "stream",
     "name": "stdout",
     "text": [
      "<class 'pandas.core.frame.DataFrame'>\n",
      "Int64Index: 19397 entries, 96 to 31831\n",
      "Data columns (total 15 columns):\n",
      " #   Column                   Non-Null Count  Dtype  \n",
      "---  ------                   --------------  -----  \n",
      " 0   therapy_id               19397 non-null  object \n",
      " 1   pay_day_supply_cnt       19397 non-null  int64  \n",
      " 2   rx_cost                  19397 non-null  float64\n",
      " 3   tot_drug_cost_accum_amt  19397 non-null  float64\n",
      " 4   generic_ind              19397 non-null  object \n",
      " 5   maint_ind                19397 non-null  object \n",
      " 6   hum_drug_class_desc      18348 non-null  object \n",
      " 7   metric_strength          18200 non-null  float64\n",
      " 8   specialty_ind            19397 non-null  object \n",
      " 9   clm_type                 19397 non-null  object \n",
      " 10  ddi_ind                  19397 non-null  int64  \n",
      " 11  anticoag_ind             19397 non-null  int64  \n",
      " 12  diarrhea_treat_ind       19397 non-null  int64  \n",
      " 13  nausea_treat_ind         19397 non-null  int64  \n",
      " 14  seizure_treat_ind        19397 non-null  int64  \n",
      "dtypes: float64(3), int64(6), object(6)\n",
      "memory usage: 2.4+ MB\n"
     ]
    },
    {
     "output_type": "stream",
     "name": "stderr",
     "text": [
      "<ipython-input-27-e53257ce9899>:2: SettingWithCopyWarning: \n",
      "A value is trying to be set on a copy of a slice from a DataFrame\n",
      "\n",
      "See the caveats in the documentation: https://pandas.pydata.org/pandas-docs/stable/user_guide/indexing.html#returning-a-view-versus-a-copy\n",
      "  pharmacy_df.drop(columns=['service_date','process_date','reversal_ind','mail_order_ind',\n"
     ]
    }
   ]
  },
  {
   "cell_type": "code",
   "source": [
    "pharmacy_df.hum_drug_class_desc.fillna(\"Missing\",inplace=True)\n",
    "# get top 10 value in 'hum_drug_class' and change others to 'other'\n",
    "# top_values = pharmacy_df['hum_drug_class_desc'].value_counts().index[:11]\n",
    "# pharmacy_df.loc[~pharmacy_df['hum_drug_class_desc'].isin(top_values), 'hum_drug_class_desc'] = 'Other'"
   ],
   "metadata": {
    "id": "t7GJRCuu4ACf",
    "executionInfo": {
     "status": "ok",
     "timestamp": 1697376018894,
     "user_tz": 240,
     "elapsed": 17,
     "user": {
      "displayName": "Hao Huang",
      "userId": "01836457921775189398"
     }
    },
    "colab": {
     "base_uri": "https://localhost:8080/"
    },
    "outputId": "383f6b18-667a-46d4-a61e-b0e054f00ac8"
   },
   "execution_count": 28,
   "outputs": [
    {
     "output_type": "stream",
     "name": "stderr",
     "text": [
      "<ipython-input-28-14b0d0f71c0d>:1: SettingWithCopyWarning: \n",
      "A value is trying to be set on a copy of a slice from a DataFrame\n",
      "\n",
      "See the caveats in the documentation: https://pandas.pydata.org/pandas-docs/stable/user_guide/indexing.html#returning-a-view-versus-a-copy\n",
      "  pharmacy_df.hum_drug_class_desc.fillna(\"Missing\",inplace=True)\n"
     ]
    }
   ]
  },
  {
   "cell_type": "code",
   "source": [
    "from sklearn.impute import KNNImputer\n",
    "\n",
    "imputer = KNNImputer(n_neighbors=3)\n",
    "imputed = imputer.fit_transform(pharmacy_df.metric_strength.to_numpy().reshape(-1, 1))\n",
    "pharmacy_df.metric_strength = imputed\n",
    "pharmacy_df.info()"
   ],
   "metadata": {
    "id": "FvCteTW15JaI",
    "colab": {
     "base_uri": "https://localhost:8080/"
    },
    "executionInfo": {
     "status": "ok",
     "timestamp": 1697376020672,
     "user_tz": 240,
     "elapsed": 1790,
     "user": {
      "displayName": "Hao Huang",
      "userId": "01836457921775189398"
     }
    },
    "outputId": "d1ca1952-65ee-41f3-a676-43cf3f25a7aa"
   },
   "execution_count": 29,
   "outputs": [
    {
     "output_type": "stream",
     "name": "stdout",
     "text": [
      "<class 'pandas.core.frame.DataFrame'>\n",
      "Int64Index: 19397 entries, 96 to 31831\n",
      "Data columns (total 15 columns):\n",
      " #   Column                   Non-Null Count  Dtype  \n",
      "---  ------                   --------------  -----  \n",
      " 0   therapy_id               19397 non-null  object \n",
      " 1   pay_day_supply_cnt       19397 non-null  int64  \n",
      " 2   rx_cost                  19397 non-null  float64\n",
      " 3   tot_drug_cost_accum_amt  19397 non-null  float64\n",
      " 4   generic_ind              19397 non-null  object \n",
      " 5   maint_ind                19397 non-null  object \n",
      " 6   hum_drug_class_desc      19397 non-null  object \n",
      " 7   metric_strength          19397 non-null  float64\n",
      " 8   specialty_ind            19397 non-null  object \n",
      " 9   clm_type                 19397 non-null  object \n",
      " 10  ddi_ind                  19397 non-null  int64  \n",
      " 11  anticoag_ind             19397 non-null  int64  \n",
      " 12  diarrhea_treat_ind       19397 non-null  int64  \n",
      " 13  nausea_treat_ind         19397 non-null  int64  \n",
      " 14  seizure_treat_ind        19397 non-null  int64  \n",
      "dtypes: float64(3), int64(6), object(6)\n",
      "memory usage: 2.4+ MB\n"
     ]
    }
   ]
  },
  {
   "cell_type": "code",
   "source": [
    "# multiple records of 'pay_day_supply_cnt', 'rx_cost', 'tot_drug_cost_accum_amt' and 'metric_strength' to one record\n",
    "\n",
    "treat_ind = pharmacy_df.groupby('therapy_id').agg(lambda x: (x == 1).any()).reset_index()\n",
    "\n",
    "to_process_pharmacy = pharmacy_df.columns[-5:]\n",
    "treat_ind[to_process_pharmacy] = treat_ind[to_process_pharmacy].astype(int)\n",
    "cols = range(1,10)\n",
    "treat_ind.drop(treat_ind.columns[cols], axis=1, inplace=True)\n",
    "avg_cost_df = pharmacy_df.groupby('therapy_id').agg({'pay_day_supply_cnt':'mean',\n",
    "                                                     'rx_cost': 'mean',\n",
    "                                                     'tot_drug_cost_accum_amt':'mean',\n",
    "                                                     'metric_strength':'mean'}).reset_index()\n",
    "\n",
    "avg_cost_df.columns = ['therapy_id', 'avg_supply_cnt','avg_rx_cost', 'avg_tot_cost','avg_metric_strength']\n"
   ],
   "metadata": {
    "id": "v2PYDzBM8gHo",
    "executionInfo": {
     "status": "ok",
     "timestamp": 1697376023958,
     "user_tz": 240,
     "elapsed": 3295,
     "user": {
      "displayName": "Hao Huang",
      "userId": "01836457921775189398"
     }
    }
   },
   "execution_count": 30,
   "outputs": []
  },
  {
   "cell_type": "code",
   "source": [
    "# Define a custom function to determine the most frequent non-\"other\" string\n",
    "\n",
    "# Group by 'id' and apply the custom function\n",
    "result1 = pharmacy_df.groupby('therapy_id')['generic_ind'].agg(most_frequent_non_missing).reset_index()\n",
    "result2 = pharmacy_df.groupby('therapy_id')['maint_ind'].agg(most_frequent_non_missing).reset_index()\n",
    "result3 = pharmacy_df.groupby('therapy_id')['hum_drug_class_desc'].agg(most_frequent_non_missing).reset_index()\n",
    "result4 = pharmacy_df.groupby('therapy_id')['specialty_ind'].agg(most_frequent_non_missing).reset_index()"
   ],
   "metadata": {
    "id": "VqEGM7iq-mPh",
    "executionInfo": {
     "status": "ok",
     "timestamp": 1697376026150,
     "user_tz": 240,
     "elapsed": 2223,
     "user": {
      "displayName": "Hao Huang",
      "userId": "01836457921775189398"
     }
    }
   },
   "execution_count": 31,
   "outputs": []
  },
  {
   "cell_type": "code",
   "source": [
    "final_pharmacy_df = treat_ind.merge(avg_cost_df, on='therapy_id', how='left')\n",
    "final_pharmacy_df = final_pharmacy_df.merge(result1, on='therapy_id', how='left')\n",
    "final_pharmacy_df = final_pharmacy_df.merge(result2, on='therapy_id', how='left')\n",
    "final_pharmacy_df = final_pharmacy_df.merge(result3, on='therapy_id', how='left')\n",
    "final_pharmacy_df = final_pharmacy_df.merge(result4, on='therapy_id', how='left')"
   ],
   "metadata": {
    "id": "R2G2fZsy-uUh",
    "executionInfo": {
     "status": "ok",
     "timestamp": 1697376026150,
     "user_tz": 240,
     "elapsed": 7,
     "user": {
      "displayName": "Hao Huang",
      "userId": "01836457921775189398"
     }
    }
   },
   "execution_count": 32,
   "outputs": []
  },
  {
   "cell_type": "code",
   "source": [
    "agg_count = pharmacy_df.groupby('therapy_id').size().reset_index(name='rx_count')\n",
    "label_df = patient_df[['therapy_id','tgt_ade_dc_ind']]\n",
    "\n",
    "final_pharmacy_df = final_pharmacy_df.merge(agg_count, how='left', on='therapy_id')\n",
    "final_pharmacy_df = final_pharmacy_df.merge(label_df, how='left', on='therapy_id')"
   ],
   "metadata": {
    "id": "AaCYV0fUAdQP",
    "executionInfo": {
     "status": "ok",
     "timestamp": 1697376026151,
     "user_tz": 240,
     "elapsed": 6,
     "user": {
      "displayName": "Hao Huang",
      "userId": "01836457921775189398"
     }
    }
   },
   "execution_count": 33,
   "outputs": []
  },
  {
   "cell_type": "code",
   "source": [
    "# final_pharmacy_df.loc[:, final_pharmacy_df.dtypes == 'object'] =\\\n",
    "#     final_pharmacy_df.select_dtypes(['object'])\\\n",
    "#     .apply(lambda x: x.astype('category'))"
   ],
   "metadata": {
    "id": "m8luKPWGAIsF",
    "executionInfo": {
     "status": "ok",
     "timestamp": 1697376026151,
     "user_tz": 240,
     "elapsed": 5,
     "user": {
      "displayName": "Hao Huang",
      "userId": "01836457921775189398"
     }
    }
   },
   "execution_count": 34,
   "outputs": []
  },
  {
   "cell_type": "code",
   "source": [
    "final_pharmacy_df.info()"
   ],
   "metadata": {
    "id": "j0cSLkXc_q0w",
    "colab": {
     "base_uri": "https://localhost:8080/"
    },
    "executionInfo": {
     "status": "ok",
     "timestamp": 1697376026344,
     "user_tz": 240,
     "elapsed": 198,
     "user": {
      "displayName": "Hao Huang",
      "userId": "01836457921775189398"
     }
    },
    "outputId": "21daf275-ae2e-46a1-f90f-a1002fa9ea4d"
   },
   "execution_count": 35,
   "outputs": [
    {
     "output_type": "stream",
     "name": "stdout",
     "text": [
      "<class 'pandas.core.frame.DataFrame'>\n",
      "Int64Index: 1073 entries, 0 to 1072\n",
      "Data columns (total 16 columns):\n",
      " #   Column               Non-Null Count  Dtype  \n",
      "---  ------               --------------  -----  \n",
      " 0   therapy_id           1073 non-null   object \n",
      " 1   ddi_ind              1073 non-null   int64  \n",
      " 2   anticoag_ind         1073 non-null   int64  \n",
      " 3   diarrhea_treat_ind   1073 non-null   int64  \n",
      " 4   nausea_treat_ind     1073 non-null   int64  \n",
      " 5   seizure_treat_ind    1073 non-null   int64  \n",
      " 6   avg_supply_cnt       1073 non-null   float64\n",
      " 7   avg_rx_cost          1073 non-null   float64\n",
      " 8   avg_tot_cost         1073 non-null   float64\n",
      " 9   avg_metric_strength  1073 non-null   float64\n",
      " 10  generic_ind          1073 non-null   object \n",
      " 11  maint_ind            1073 non-null   object \n",
      " 12  hum_drug_class_desc  1073 non-null   object \n",
      " 13  specialty_ind        1073 non-null   object \n",
      " 14  rx_count             1073 non-null   int64  \n",
      " 15  tgt_ade_dc_ind       1073 non-null   int64  \n",
      "dtypes: float64(4), int64(7), object(5)\n",
      "memory usage: 142.5+ KB\n"
     ]
    }
   ]
  },
  {
   "cell_type": "code",
   "source": [
    "# X = final_pharmacy_df.drop(columns = ['therapy_id','tgt_ade_dc_ind'])\n",
    "# y = final_pharmacy_df['tgt_ade_dc_ind']\n",
    "# # fit model no training data\n",
    "# model = xgb.XGBClassifier(enable_categorical = True)\n",
    "# model.fit(X, y)\n",
    "# # feature importance\n",
    "# print(model.feature_importances_)\n",
    "# # plot\n",
    "# xgb.plot_importance(model)\n",
    "# plt.show()"
   ],
   "metadata": {
    "id": "6xgREot8BD4H",
    "executionInfo": {
     "status": "ok",
     "timestamp": 1697376026344,
     "user_tz": 240,
     "elapsed": 11,
     "user": {
      "displayName": "Hao Huang",
      "userId": "01836457921775189398"
     }
    }
   },
   "execution_count": 36,
   "outputs": []
  },
  {
   "cell_type": "code",
   "source": [
    "final_medical_df = final_medical_df.iloc[:,:-1]\n",
    "final_pharmacy_df = final_pharmacy_df.iloc[:,:-1]"
   ],
   "metadata": {
    "id": "oAcHptX-ClHD",
    "executionInfo": {
     "status": "ok",
     "timestamp": 1697376026344,
     "user_tz": 240,
     "elapsed": 12,
     "user": {
      "displayName": "Hao Huang",
      "userId": "01836457921775189398"
     }
    }
   },
   "execution_count": 37,
   "outputs": []
  },
  {
   "cell_type": "code",
   "source": [
    "final_df = patient_df.merge(final_medical_df, on='therapy_id', how='left')\n",
    "final_df = final_df.merge(final_pharmacy_df, on='therapy_id', how='left')\n",
    "final_df.info()"
   ],
   "metadata": {
    "id": "bZOwEDzmBrKx",
    "colab": {
     "base_uri": "https://localhost:8080/"
    },
    "executionInfo": {
     "status": "ok",
     "timestamp": 1697376026345,
     "user_tz": 240,
     "elapsed": 11,
     "user": {
      "displayName": "Hao Huang",
      "userId": "01836457921775189398"
     }
    },
    "outputId": "52290402-c1a1-47fd-888f-07b079f14ceb"
   },
   "execution_count": 38,
   "outputs": [
    {
     "output_type": "stream",
     "name": "stdout",
     "text": [
      "<class 'pandas.core.frame.DataFrame'>\n",
      "Int64Index: 1232 entries, 0 to 1231\n",
      "Data columns (total 39 columns):\n",
      " #   Column                   Non-Null Count  Dtype  \n",
      "---  ------                   --------------  -----  \n",
      " 0   id                       1232 non-null   int64  \n",
      " 1   therapy_id               1232 non-null   object \n",
      " 2   therapy_start_date       1232 non-null   object \n",
      " 3   therapy_end_date         1232 non-null   object \n",
      " 4   tgt_ade_dc_ind           1232 non-null   int64  \n",
      " 5   race_cd                  1164 non-null   float64\n",
      " 6   est_age                  1149 non-null   float64\n",
      " 7   sex_cd                   1149 non-null   object \n",
      " 8   cms_disabled_ind         1149 non-null   float64\n",
      " 9   cms_low_income_ind       1149 non-null   float64\n",
      " 10  ade_diagnosis            516 non-null    float64\n",
      " 11  seizure_diagnosis        516 non-null    float64\n",
      " 12  pain_diagnosis           516 non-null    float64\n",
      " 13  fatigue_diagnosis        516 non-null    float64\n",
      " 14  nausea_diagnosis         516 non-null    float64\n",
      " 15  hyperglycemia_diagnosis  516 non-null    float64\n",
      " 16  constipation_diagnosis   516 non-null    float64\n",
      " 17  diarrhea_diagnosis       516 non-null    float64\n",
      " 18  primary_diag_cd          516 non-null    object \n",
      " 19  diag_cd2                 516 non-null    object \n",
      " 20  diag_cd3                 516 non-null    object \n",
      " 21  pot                      516 non-null    object \n",
      " 22  util_cat                 516 non-null    object \n",
      " 23  hedis_pot                516 non-null    object \n",
      " 24  med_count                516 non-null    float64\n",
      " 25  ddi_ind                  1073 non-null   float64\n",
      " 26  anticoag_ind             1073 non-null   float64\n",
      " 27  diarrhea_treat_ind       1073 non-null   float64\n",
      " 28  nausea_treat_ind         1073 non-null   float64\n",
      " 29  seizure_treat_ind        1073 non-null   float64\n",
      " 30  avg_supply_cnt           1073 non-null   float64\n",
      " 31  avg_rx_cost              1073 non-null   float64\n",
      " 32  avg_tot_cost             1073 non-null   float64\n",
      " 33  avg_metric_strength      1073 non-null   float64\n",
      " 34  generic_ind              1073 non-null   object \n",
      " 35  maint_ind                1073 non-null   object \n",
      " 36  hum_drug_class_desc      1073 non-null   object \n",
      " 37  specialty_ind            1073 non-null   object \n",
      " 38  rx_count                 1073 non-null   float64\n",
      "dtypes: float64(23), int64(2), object(14)\n",
      "memory usage: 385.0+ KB\n"
     ]
    }
   ]
  },
  {
   "cell_type": "code",
   "source": [
    "final_df['ground_truth'] = final_df['tgt_ade_dc_ind']\n",
    "\n",
    "# final_df.drop(columns = ['therapy_end_date','tgt_ade_dc_ind', 'id', 'therapy_id',\n",
    "#                               'therapy_start_date', 'sex_cd', 'race_cd'], axis=1, inplace=True)\n",
    "\n",
    "columns_to_fill = ['med_count','rx_count']\n",
    "# Fill NA values with zero in the selected columns by index\n",
    "final_df.loc[:, columns_to_fill] = final_df.loc[:, columns_to_fill].fillna(0)"
   ],
   "metadata": {
    "id": "Yoj9L1lfdGhi",
    "executionInfo": {
     "status": "ok",
     "timestamp": 1697376026345,
     "user_tz": 240,
     "elapsed": 8,
     "user": {
      "displayName": "Hao Huang",
      "userId": "01836457921775189398"
     }
    }
   },
   "execution_count": 39,
   "outputs": []
  },
  {
   "cell_type": "code",
   "source": [
    "lazy_people_train = final_df[(final_df.med_count == 0) & (final_df.rx_count == 0)]\n",
    "filtered_data = final_df[(final_df.med_count > 0) | (final_df.rx_count > 0)]\n",
    "\n",
    "filtered_data.drop(columns = ['therapy_end_date','tgt_ade_dc_ind', 'id', 'therapy_id',\n",
    "                               'therapy_start_date', 'sex_cd', 'race_cd'], axis=1, inplace=True)"
   ],
   "metadata": {
    "id": "P3130zGSDE4o",
    "colab": {
     "base_uri": "https://localhost:8080/"
    },
    "executionInfo": {
     "status": "ok",
     "timestamp": 1697376026345,
     "user_tz": 240,
     "elapsed": 7,
     "user": {
      "displayName": "Hao Huang",
      "userId": "01836457921775189398"
     }
    },
    "outputId": "61f082b2-0399-48f4-8139-3d942491db80"
   },
   "execution_count": 40,
   "outputs": [
    {
     "output_type": "stream",
     "name": "stderr",
     "text": [
      "<ipython-input-40-410bf01c6f02>:4: SettingWithCopyWarning: \n",
      "A value is trying to be set on a copy of a slice from a DataFrame\n",
      "\n",
      "See the caveats in the documentation: https://pandas.pydata.org/pandas-docs/stable/user_guide/indexing.html#returning-a-view-versus-a-copy\n",
      "  filtered_data.drop(columns = ['therapy_end_date','tgt_ade_dc_ind', 'id', 'therapy_id',\n"
     ]
    }
   ]
  },
  {
   "cell_type": "code",
   "source": [
    "filtered_data.info()"
   ],
   "metadata": {
    "id": "ygJAXLAmfHxB",
    "colab": {
     "base_uri": "https://localhost:8080/"
    },
    "executionInfo": {
     "status": "ok",
     "timestamp": 1697376026516,
     "user_tz": 240,
     "elapsed": 176,
     "user": {
      "displayName": "Hao Huang",
      "userId": "01836457921775189398"
     }
    },
    "outputId": "673c6a03-8aff-4052-bd44-a8a472380adf"
   },
   "execution_count": 41,
   "outputs": [
    {
     "output_type": "stream",
     "name": "stdout",
     "text": [
      "<class 'pandas.core.frame.DataFrame'>\n",
      "Int64Index: 1103 entries, 0 to 1231\n",
      "Data columns (total 33 columns):\n",
      " #   Column                   Non-Null Count  Dtype  \n",
      "---  ------                   --------------  -----  \n",
      " 0   est_age                  1091 non-null   float64\n",
      " 1   cms_disabled_ind         1091 non-null   float64\n",
      " 2   cms_low_income_ind       1091 non-null   float64\n",
      " 3   ade_diagnosis            516 non-null    float64\n",
      " 4   seizure_diagnosis        516 non-null    float64\n",
      " 5   pain_diagnosis           516 non-null    float64\n",
      " 6   fatigue_diagnosis        516 non-null    float64\n",
      " 7   nausea_diagnosis         516 non-null    float64\n",
      " 8   hyperglycemia_diagnosis  516 non-null    float64\n",
      " 9   constipation_diagnosis   516 non-null    float64\n",
      " 10  diarrhea_diagnosis       516 non-null    float64\n",
      " 11  primary_diag_cd          516 non-null    object \n",
      " 12  diag_cd2                 516 non-null    object \n",
      " 13  diag_cd3                 516 non-null    object \n",
      " 14  pot                      516 non-null    object \n",
      " 15  util_cat                 516 non-null    object \n",
      " 16  hedis_pot                516 non-null    object \n",
      " 17  med_count                1103 non-null   float64\n",
      " 18  ddi_ind                  1073 non-null   float64\n",
      " 19  anticoag_ind             1073 non-null   float64\n",
      " 20  diarrhea_treat_ind       1073 non-null   float64\n",
      " 21  nausea_treat_ind         1073 non-null   float64\n",
      " 22  seizure_treat_ind        1073 non-null   float64\n",
      " 23  avg_supply_cnt           1073 non-null   float64\n",
      " 24  avg_rx_cost              1073 non-null   float64\n",
      " 25  avg_tot_cost             1073 non-null   float64\n",
      " 26  avg_metric_strength      1073 non-null   float64\n",
      " 27  generic_ind              1073 non-null   object \n",
      " 28  maint_ind                1073 non-null   object \n",
      " 29  hum_drug_class_desc      1073 non-null   object \n",
      " 30  specialty_ind            1073 non-null   object \n",
      " 31  rx_count                 1103 non-null   float64\n",
      " 32  ground_truth             1103 non-null   int64  \n",
      "dtypes: float64(22), int64(1), object(10)\n",
      "memory usage: 293.0+ KB\n"
     ]
    }
   ]
  },
  {
   "cell_type": "code",
   "source": [
    "columns_to_fill = [1,2] + [i for i in range(3,11)] + [i for i in range(18,27)]\n",
    "# Fill NA values with zero in the selected columns by index\n",
    "filtered_data.iloc[:, columns_to_fill] = filtered_data.iloc[:, columns_to_fill].fillna(0)\n",
    "\n",
    "columns_to_fill = [i for i in range(11,17)] + [i for i in range(27,31)]\n",
    "# Fill NA values with missing in the selected columns by index\n",
    "filtered_data.iloc[:, columns_to_fill] = filtered_data.iloc[:, columns_to_fill].fillna('Missing')\n",
    "\n",
    "median_value = filtered_data['est_age'].median()  # Calculate the median for the column\n",
    "filtered_data['est_age'] = filtered_data['est_age'].fillna(median_value)\n",
    "train_df = filtered_data\n",
    "train_df.info()"
   ],
   "metadata": {
    "id": "uTj6ValzOM_d",
    "colab": {
     "base_uri": "https://localhost:8080/"
    },
    "executionInfo": {
     "status": "ok",
     "timestamp": 1697376026516,
     "user_tz": 240,
     "elapsed": 9,
     "user": {
      "displayName": "Hao Huang",
      "userId": "01836457921775189398"
     }
    },
    "outputId": "27c9c172-7236-47b2-9afc-c5db46944951"
   },
   "execution_count": 42,
   "outputs": [
    {
     "output_type": "stream",
     "name": "stdout",
     "text": [
      "<class 'pandas.core.frame.DataFrame'>\n",
      "Int64Index: 1103 entries, 0 to 1231\n",
      "Data columns (total 33 columns):\n",
      " #   Column                   Non-Null Count  Dtype  \n",
      "---  ------                   --------------  -----  \n",
      " 0   est_age                  1103 non-null   float64\n",
      " 1   cms_disabled_ind         1103 non-null   float64\n",
      " 2   cms_low_income_ind       1103 non-null   float64\n",
      " 3   ade_diagnosis            1103 non-null   float64\n",
      " 4   seizure_diagnosis        1103 non-null   float64\n",
      " 5   pain_diagnosis           1103 non-null   float64\n",
      " 6   fatigue_diagnosis        1103 non-null   float64\n",
      " 7   nausea_diagnosis         1103 non-null   float64\n",
      " 8   hyperglycemia_diagnosis  1103 non-null   float64\n",
      " 9   constipation_diagnosis   1103 non-null   float64\n",
      " 10  diarrhea_diagnosis       1103 non-null   float64\n",
      " 11  primary_diag_cd          1103 non-null   object \n",
      " 12  diag_cd2                 1103 non-null   object \n",
      " 13  diag_cd3                 1103 non-null   object \n",
      " 14  pot                      1103 non-null   object \n",
      " 15  util_cat                 1103 non-null   object \n",
      " 16  hedis_pot                1103 non-null   object \n",
      " 17  med_count                1103 non-null   float64\n",
      " 18  ddi_ind                  1103 non-null   float64\n",
      " 19  anticoag_ind             1103 non-null   float64\n",
      " 20  diarrhea_treat_ind       1103 non-null   float64\n",
      " 21  nausea_treat_ind         1103 non-null   float64\n",
      " 22  seizure_treat_ind        1103 non-null   float64\n",
      " 23  avg_supply_cnt           1103 non-null   float64\n",
      " 24  avg_rx_cost              1103 non-null   float64\n",
      " 25  avg_tot_cost             1103 non-null   float64\n",
      " 26  avg_metric_strength      1103 non-null   float64\n",
      " 27  generic_ind              1103 non-null   object \n",
      " 28  maint_ind                1103 non-null   object \n",
      " 29  hum_drug_class_desc      1103 non-null   object \n",
      " 30  specialty_ind            1103 non-null   object \n",
      " 31  rx_count                 1103 non-null   float64\n",
      " 32  ground_truth             1103 non-null   int64  \n",
      "dtypes: float64(22), int64(1), object(10)\n",
      "memory usage: 293.0+ KB\n"
     ]
    },
    {
     "output_type": "stream",
     "name": "stderr",
     "text": [
      "<ipython-input-42-a5be521be0fc>:3: SettingWithCopyWarning: \n",
      "A value is trying to be set on a copy of a slice from a DataFrame.\n",
      "Try using .loc[row_indexer,col_indexer] = value instead\n",
      "\n",
      "See the caveats in the documentation: https://pandas.pydata.org/pandas-docs/stable/user_guide/indexing.html#returning-a-view-versus-a-copy\n",
      "  filtered_data.iloc[:, columns_to_fill] = filtered_data.iloc[:, columns_to_fill].fillna(0)\n",
      "<ipython-input-42-a5be521be0fc>:7: SettingWithCopyWarning: \n",
      "A value is trying to be set on a copy of a slice from a DataFrame.\n",
      "Try using .loc[row_indexer,col_indexer] = value instead\n",
      "\n",
      "See the caveats in the documentation: https://pandas.pydata.org/pandas-docs/stable/user_guide/indexing.html#returning-a-view-versus-a-copy\n",
      "  filtered_data.iloc[:, columns_to_fill] = filtered_data.iloc[:, columns_to_fill].fillna('Missing')\n",
      "<ipython-input-42-a5be521be0fc>:10: SettingWithCopyWarning: \n",
      "A value is trying to be set on a copy of a slice from a DataFrame.\n",
      "Try using .loc[row_indexer,col_indexer] = value instead\n",
      "\n",
      "See the caveats in the documentation: https://pandas.pydata.org/pandas-docs/stable/user_guide/indexing.html#returning-a-view-versus-a-copy\n",
      "  filtered_data['est_age'] = filtered_data['est_age'].fillna(median_value)\n"
     ]
    }
   ]
  },
  {
   "cell_type": "code",
   "source": [
    "train_df"
   ],
   "metadata": {
    "id": "LkJNIj5cNM1n",
    "colab": {
     "base_uri": "https://localhost:8080/",
     "height": 565
    },
    "executionInfo": {
     "status": "ok",
     "timestamp": 1697376026659,
     "user_tz": 240,
     "elapsed": 148,
     "user": {
      "displayName": "Hao Huang",
      "userId": "01836457921775189398"
     }
    },
    "outputId": "52e23d21-f7f2-4db7-a3e1-4e7c39f4a0cc"
   },
   "execution_count": 43,
   "outputs": [
    {
     "output_type": "execute_result",
     "data": {
      "text/plain": [
       "      est_age  cms_disabled_ind  cms_low_income_ind  ade_diagnosis  \\\n",
       "0        74.0               0.0                 0.0            1.0   \n",
       "1        86.0               0.0                 0.0            0.0   \n",
       "2        79.0               0.0                 1.0            1.0   \n",
       "3        70.0               1.0                 1.0            0.0   \n",
       "4        74.0               1.0                 1.0            1.0   \n",
       "...       ...               ...                 ...            ...   \n",
       "1227     91.0               0.0                 0.0            1.0   \n",
       "1228     79.0               0.0                 0.0            0.0   \n",
       "1229     81.0               0.0                 1.0            0.0   \n",
       "1230     50.0               1.0                 0.0            0.0   \n",
       "1231     65.0               0.0                 0.0            0.0   \n",
       "\n",
       "      seizure_diagnosis  pain_diagnosis  fatigue_diagnosis  nausea_diagnosis  \\\n",
       "0                   1.0             0.0                0.0               0.0   \n",
       "1                   0.0             0.0                0.0               0.0   \n",
       "2                   0.0             0.0                1.0               0.0   \n",
       "3                   0.0             0.0                0.0               0.0   \n",
       "4                   0.0             0.0                0.0               0.0   \n",
       "...                 ...             ...                ...               ...   \n",
       "1227                0.0             0.0                0.0               0.0   \n",
       "1228                0.0             0.0                0.0               0.0   \n",
       "1229                0.0             0.0                0.0               0.0   \n",
       "1230                0.0             0.0                0.0               0.0   \n",
       "1231                0.0             0.0                0.0               0.0   \n",
       "\n",
       "      hyperglycemia_diagnosis  constipation_diagnosis  ...  avg_supply_cnt  \\\n",
       "0                         0.0                     0.0  ...       28.214286   \n",
       "1                         0.0                     0.0  ...       45.000000   \n",
       "2                         0.0                     0.0  ...       11.007874   \n",
       "3                         0.0                     0.0  ...       36.208955   \n",
       "4                         0.0                     1.0  ...       51.254902   \n",
       "...                       ...                     ...  ...             ...   \n",
       "1227                      0.0                     1.0  ...       29.916667   \n",
       "1228                      0.0                     0.0  ...       40.419355   \n",
       "1229                      0.0                     0.0  ...       26.933333   \n",
       "1230                      0.0                     0.0  ...        9.500000   \n",
       "1231                      0.0                     0.0  ...       31.818182   \n",
       "\n",
       "      avg_rx_cost  avg_tot_cost avg_metric_strength generic_ind maint_ind  \\\n",
       "0     7276.783571      0.000000           91.428571     BRANDED     MAINT   \n",
       "1        8.215000  16327.565000           31.250000     GENERIC     MAINT   \n",
       "2      358.212835  65934.904016           74.787195     GENERIC     MAINT   \n",
       "3     1083.294328  50314.865821         1625.986270     GENERIC     MAINT   \n",
       "4     1462.124510  21795.655882          366.897536     BRANDED  NONMAINT   \n",
       "...           ...           ...                 ...         ...       ...   \n",
       "1227  2772.497500  22002.131667           23.479167     GENERIC  NONMAINT   \n",
       "1228  3636.060323  37245.561613           83.577419     GENERIC  NONMAINT   \n",
       "1229  5270.476667  57787.274000          127.333333     GENERIC  NONMAINT   \n",
       "1230     7.820000  15889.980000            3.000000     GENERIC  NONMAINT   \n",
       "1231  2674.211818  20060.175455           52.554545     GENERIC     MAINT   \n",
       "\n",
       "                   hum_drug_class_desc  specialty_ind  rx_count  ground_truth  \n",
       "0                      ANTICONVULSANTS        NONSPCL      14.0             0  \n",
       "1                      ANTICONVULSANTS        NONSPCL       4.0             1  \n",
       "2     CARDIOLOGY - HYPERTENSION AGENTS        NONSPCL     254.0             0  \n",
       "3                             DIABETES        NONSPCL      67.0             0  \n",
       "4     CARDIOLOGY - HYPERTENSION AGENTS        NONSPCL      51.0             0  \n",
       "...                                ...            ...       ...           ...  \n",
       "1227          GASTROINTESTINAL DISEASE        NONSPCL      12.0             1  \n",
       "1228                      CHEMOTHERAPY        NONSPCL      31.0             0  \n",
       "1229                      CHEMOTHERAPY        NONSPCL      15.0             0  \n",
       "1230                          STEROIDS        NONSPCL       2.0             0  \n",
       "1231  CARDIOLOGY - HYPERTENSION AGENTS        NONSPCL      11.0             0  \n",
       "\n",
       "[1103 rows x 33 columns]"
      ],
      "text/html": [
       "\n",
       "  <div id=\"df-58c9192d-5c33-4ba4-bc14-5adb103a7a59\" class=\"colab-df-container\">\n",
       "    <div>\n",
       "<style scoped>\n",
       "    .dataframe tbody tr th:only-of-type {\n",
       "        vertical-align: middle;\n",
       "    }\n",
       "\n",
       "    .dataframe tbody tr th {\n",
       "        vertical-align: top;\n",
       "    }\n",
       "\n",
       "    .dataframe thead th {\n",
       "        text-align: right;\n",
       "    }\n",
       "</style>\n",
       "<table border=\"1\" class=\"dataframe\">\n",
       "  <thead>\n",
       "    <tr style=\"text-align: right;\">\n",
       "      <th></th>\n",
       "      <th>est_age</th>\n",
       "      <th>cms_disabled_ind</th>\n",
       "      <th>cms_low_income_ind</th>\n",
       "      <th>ade_diagnosis</th>\n",
       "      <th>seizure_diagnosis</th>\n",
       "      <th>pain_diagnosis</th>\n",
       "      <th>fatigue_diagnosis</th>\n",
       "      <th>nausea_diagnosis</th>\n",
       "      <th>hyperglycemia_diagnosis</th>\n",
       "      <th>constipation_diagnosis</th>\n",
       "      <th>...</th>\n",
       "      <th>avg_supply_cnt</th>\n",
       "      <th>avg_rx_cost</th>\n",
       "      <th>avg_tot_cost</th>\n",
       "      <th>avg_metric_strength</th>\n",
       "      <th>generic_ind</th>\n",
       "      <th>maint_ind</th>\n",
       "      <th>hum_drug_class_desc</th>\n",
       "      <th>specialty_ind</th>\n",
       "      <th>rx_count</th>\n",
       "      <th>ground_truth</th>\n",
       "    </tr>\n",
       "  </thead>\n",
       "  <tbody>\n",
       "    <tr>\n",
       "      <th>0</th>\n",
       "      <td>74.0</td>\n",
       "      <td>0.0</td>\n",
       "      <td>0.0</td>\n",
       "      <td>1.0</td>\n",
       "      <td>1.0</td>\n",
       "      <td>0.0</td>\n",
       "      <td>0.0</td>\n",
       "      <td>0.0</td>\n",
       "      <td>0.0</td>\n",
       "      <td>0.0</td>\n",
       "      <td>...</td>\n",
       "      <td>28.214286</td>\n",
       "      <td>7276.783571</td>\n",
       "      <td>0.000000</td>\n",
       "      <td>91.428571</td>\n",
       "      <td>BRANDED</td>\n",
       "      <td>MAINT</td>\n",
       "      <td>ANTICONVULSANTS</td>\n",
       "      <td>NONSPCL</td>\n",
       "      <td>14.0</td>\n",
       "      <td>0</td>\n",
       "    </tr>\n",
       "    <tr>\n",
       "      <th>1</th>\n",
       "      <td>86.0</td>\n",
       "      <td>0.0</td>\n",
       "      <td>0.0</td>\n",
       "      <td>0.0</td>\n",
       "      <td>0.0</td>\n",
       "      <td>0.0</td>\n",
       "      <td>0.0</td>\n",
       "      <td>0.0</td>\n",
       "      <td>0.0</td>\n",
       "      <td>0.0</td>\n",
       "      <td>...</td>\n",
       "      <td>45.000000</td>\n",
       "      <td>8.215000</td>\n",
       "      <td>16327.565000</td>\n",
       "      <td>31.250000</td>\n",
       "      <td>GENERIC</td>\n",
       "      <td>MAINT</td>\n",
       "      <td>ANTICONVULSANTS</td>\n",
       "      <td>NONSPCL</td>\n",
       "      <td>4.0</td>\n",
       "      <td>1</td>\n",
       "    </tr>\n",
       "    <tr>\n",
       "      <th>2</th>\n",
       "      <td>79.0</td>\n",
       "      <td>0.0</td>\n",
       "      <td>1.0</td>\n",
       "      <td>1.0</td>\n",
       "      <td>0.0</td>\n",
       "      <td>0.0</td>\n",
       "      <td>1.0</td>\n",
       "      <td>0.0</td>\n",
       "      <td>0.0</td>\n",
       "      <td>0.0</td>\n",
       "      <td>...</td>\n",
       "      <td>11.007874</td>\n",
       "      <td>358.212835</td>\n",
       "      <td>65934.904016</td>\n",
       "      <td>74.787195</td>\n",
       "      <td>GENERIC</td>\n",
       "      <td>MAINT</td>\n",
       "      <td>CARDIOLOGY - HYPERTENSION AGENTS</td>\n",
       "      <td>NONSPCL</td>\n",
       "      <td>254.0</td>\n",
       "      <td>0</td>\n",
       "    </tr>\n",
       "    <tr>\n",
       "      <th>3</th>\n",
       "      <td>70.0</td>\n",
       "      <td>1.0</td>\n",
       "      <td>1.0</td>\n",
       "      <td>0.0</td>\n",
       "      <td>0.0</td>\n",
       "      <td>0.0</td>\n",
       "      <td>0.0</td>\n",
       "      <td>0.0</td>\n",
       "      <td>0.0</td>\n",
       "      <td>0.0</td>\n",
       "      <td>...</td>\n",
       "      <td>36.208955</td>\n",
       "      <td>1083.294328</td>\n",
       "      <td>50314.865821</td>\n",
       "      <td>1625.986270</td>\n",
       "      <td>GENERIC</td>\n",
       "      <td>MAINT</td>\n",
       "      <td>DIABETES</td>\n",
       "      <td>NONSPCL</td>\n",
       "      <td>67.0</td>\n",
       "      <td>0</td>\n",
       "    </tr>\n",
       "    <tr>\n",
       "      <th>4</th>\n",
       "      <td>74.0</td>\n",
       "      <td>1.0</td>\n",
       "      <td>1.0</td>\n",
       "      <td>1.0</td>\n",
       "      <td>0.0</td>\n",
       "      <td>0.0</td>\n",
       "      <td>0.0</td>\n",
       "      <td>0.0</td>\n",
       "      <td>0.0</td>\n",
       "      <td>1.0</td>\n",
       "      <td>...</td>\n",
       "      <td>51.254902</td>\n",
       "      <td>1462.124510</td>\n",
       "      <td>21795.655882</td>\n",
       "      <td>366.897536</td>\n",
       "      <td>BRANDED</td>\n",
       "      <td>NONMAINT</td>\n",
       "      <td>CARDIOLOGY - HYPERTENSION AGENTS</td>\n",
       "      <td>NONSPCL</td>\n",
       "      <td>51.0</td>\n",
       "      <td>0</td>\n",
       "    </tr>\n",
       "    <tr>\n",
       "      <th>...</th>\n",
       "      <td>...</td>\n",
       "      <td>...</td>\n",
       "      <td>...</td>\n",
       "      <td>...</td>\n",
       "      <td>...</td>\n",
       "      <td>...</td>\n",
       "      <td>...</td>\n",
       "      <td>...</td>\n",
       "      <td>...</td>\n",
       "      <td>...</td>\n",
       "      <td>...</td>\n",
       "      <td>...</td>\n",
       "      <td>...</td>\n",
       "      <td>...</td>\n",
       "      <td>...</td>\n",
       "      <td>...</td>\n",
       "      <td>...</td>\n",
       "      <td>...</td>\n",
       "      <td>...</td>\n",
       "      <td>...</td>\n",
       "      <td>...</td>\n",
       "    </tr>\n",
       "    <tr>\n",
       "      <th>1227</th>\n",
       "      <td>91.0</td>\n",
       "      <td>0.0</td>\n",
       "      <td>0.0</td>\n",
       "      <td>1.0</td>\n",
       "      <td>0.0</td>\n",
       "      <td>0.0</td>\n",
       "      <td>0.0</td>\n",
       "      <td>0.0</td>\n",
       "      <td>0.0</td>\n",
       "      <td>1.0</td>\n",
       "      <td>...</td>\n",
       "      <td>29.916667</td>\n",
       "      <td>2772.497500</td>\n",
       "      <td>22002.131667</td>\n",
       "      <td>23.479167</td>\n",
       "      <td>GENERIC</td>\n",
       "      <td>NONMAINT</td>\n",
       "      <td>GASTROINTESTINAL DISEASE</td>\n",
       "      <td>NONSPCL</td>\n",
       "      <td>12.0</td>\n",
       "      <td>1</td>\n",
       "    </tr>\n",
       "    <tr>\n",
       "      <th>1228</th>\n",
       "      <td>79.0</td>\n",
       "      <td>0.0</td>\n",
       "      <td>0.0</td>\n",
       "      <td>0.0</td>\n",
       "      <td>0.0</td>\n",
       "      <td>0.0</td>\n",
       "      <td>0.0</td>\n",
       "      <td>0.0</td>\n",
       "      <td>0.0</td>\n",
       "      <td>0.0</td>\n",
       "      <td>...</td>\n",
       "      <td>40.419355</td>\n",
       "      <td>3636.060323</td>\n",
       "      <td>37245.561613</td>\n",
       "      <td>83.577419</td>\n",
       "      <td>GENERIC</td>\n",
       "      <td>NONMAINT</td>\n",
       "      <td>CHEMOTHERAPY</td>\n",
       "      <td>NONSPCL</td>\n",
       "      <td>31.0</td>\n",
       "      <td>0</td>\n",
       "    </tr>\n",
       "    <tr>\n",
       "      <th>1229</th>\n",
       "      <td>81.0</td>\n",
       "      <td>0.0</td>\n",
       "      <td>1.0</td>\n",
       "      <td>0.0</td>\n",
       "      <td>0.0</td>\n",
       "      <td>0.0</td>\n",
       "      <td>0.0</td>\n",
       "      <td>0.0</td>\n",
       "      <td>0.0</td>\n",
       "      <td>0.0</td>\n",
       "      <td>...</td>\n",
       "      <td>26.933333</td>\n",
       "      <td>5270.476667</td>\n",
       "      <td>57787.274000</td>\n",
       "      <td>127.333333</td>\n",
       "      <td>GENERIC</td>\n",
       "      <td>NONMAINT</td>\n",
       "      <td>CHEMOTHERAPY</td>\n",
       "      <td>NONSPCL</td>\n",
       "      <td>15.0</td>\n",
       "      <td>0</td>\n",
       "    </tr>\n",
       "    <tr>\n",
       "      <th>1230</th>\n",
       "      <td>50.0</td>\n",
       "      <td>1.0</td>\n",
       "      <td>0.0</td>\n",
       "      <td>0.0</td>\n",
       "      <td>0.0</td>\n",
       "      <td>0.0</td>\n",
       "      <td>0.0</td>\n",
       "      <td>0.0</td>\n",
       "      <td>0.0</td>\n",
       "      <td>0.0</td>\n",
       "      <td>...</td>\n",
       "      <td>9.500000</td>\n",
       "      <td>7.820000</td>\n",
       "      <td>15889.980000</td>\n",
       "      <td>3.000000</td>\n",
       "      <td>GENERIC</td>\n",
       "      <td>NONMAINT</td>\n",
       "      <td>STEROIDS</td>\n",
       "      <td>NONSPCL</td>\n",
       "      <td>2.0</td>\n",
       "      <td>0</td>\n",
       "    </tr>\n",
       "    <tr>\n",
       "      <th>1231</th>\n",
       "      <td>65.0</td>\n",
       "      <td>0.0</td>\n",
       "      <td>0.0</td>\n",
       "      <td>0.0</td>\n",
       "      <td>0.0</td>\n",
       "      <td>0.0</td>\n",
       "      <td>0.0</td>\n",
       "      <td>0.0</td>\n",
       "      <td>0.0</td>\n",
       "      <td>0.0</td>\n",
       "      <td>...</td>\n",
       "      <td>31.818182</td>\n",
       "      <td>2674.211818</td>\n",
       "      <td>20060.175455</td>\n",
       "      <td>52.554545</td>\n",
       "      <td>GENERIC</td>\n",
       "      <td>MAINT</td>\n",
       "      <td>CARDIOLOGY - HYPERTENSION AGENTS</td>\n",
       "      <td>NONSPCL</td>\n",
       "      <td>11.0</td>\n",
       "      <td>0</td>\n",
       "    </tr>\n",
       "  </tbody>\n",
       "</table>\n",
       "<p>1103 rows × 33 columns</p>\n",
       "</div>\n",
       "    <div class=\"colab-df-buttons\">\n",
       "\n",
       "  <div class=\"colab-df-container\">\n",
       "    <button class=\"colab-df-convert\" onclick=\"convertToInteractive('df-58c9192d-5c33-4ba4-bc14-5adb103a7a59')\"\n",
       "            title=\"Convert this dataframe to an interactive table.\"\n",
       "            style=\"display:none;\">\n",
       "\n",
       "  <svg xmlns=\"http://www.w3.org/2000/svg\" height=\"24px\" viewBox=\"0 -960 960 960\">\n",
       "    <path d=\"M120-120v-720h720v720H120Zm60-500h600v-160H180v160Zm220 220h160v-160H400v160Zm0 220h160v-160H400v160ZM180-400h160v-160H180v160Zm440 0h160v-160H620v160ZM180-180h160v-160H180v160Zm440 0h160v-160H620v160Z\"/>\n",
       "  </svg>\n",
       "    </button>\n",
       "\n",
       "  <style>\n",
       "    .colab-df-container {\n",
       "      display:flex;\n",
       "      gap: 12px;\n",
       "    }\n",
       "\n",
       "    .colab-df-convert {\n",
       "      background-color: #E8F0FE;\n",
       "      border: none;\n",
       "      border-radius: 50%;\n",
       "      cursor: pointer;\n",
       "      display: none;\n",
       "      fill: #1967D2;\n",
       "      height: 32px;\n",
       "      padding: 0 0 0 0;\n",
       "      width: 32px;\n",
       "    }\n",
       "\n",
       "    .colab-df-convert:hover {\n",
       "      background-color: #E2EBFA;\n",
       "      box-shadow: 0px 1px 2px rgba(60, 64, 67, 0.3), 0px 1px 3px 1px rgba(60, 64, 67, 0.15);\n",
       "      fill: #174EA6;\n",
       "    }\n",
       "\n",
       "    .colab-df-buttons div {\n",
       "      margin-bottom: 4px;\n",
       "    }\n",
       "\n",
       "    [theme=dark] .colab-df-convert {\n",
       "      background-color: #3B4455;\n",
       "      fill: #D2E3FC;\n",
       "    }\n",
       "\n",
       "    [theme=dark] .colab-df-convert:hover {\n",
       "      background-color: #434B5C;\n",
       "      box-shadow: 0px 1px 3px 1px rgba(0, 0, 0, 0.15);\n",
       "      filter: drop-shadow(0px 1px 2px rgba(0, 0, 0, 0.3));\n",
       "      fill: #FFFFFF;\n",
       "    }\n",
       "  </style>\n",
       "\n",
       "    <script>\n",
       "      const buttonEl =\n",
       "        document.querySelector('#df-58c9192d-5c33-4ba4-bc14-5adb103a7a59 button.colab-df-convert');\n",
       "      buttonEl.style.display =\n",
       "        google.colab.kernel.accessAllowed ? 'block' : 'none';\n",
       "\n",
       "      async function convertToInteractive(key) {\n",
       "        const element = document.querySelector('#df-58c9192d-5c33-4ba4-bc14-5adb103a7a59');\n",
       "        const dataTable =\n",
       "          await google.colab.kernel.invokeFunction('convertToInteractive',\n",
       "                                                    [key], {});\n",
       "        if (!dataTable) return;\n",
       "\n",
       "        const docLinkHtml = 'Like what you see? Visit the ' +\n",
       "          '<a target=\"_blank\" href=https://colab.research.google.com/notebooks/data_table.ipynb>data table notebook</a>'\n",
       "          + ' to learn more about interactive tables.';\n",
       "        element.innerHTML = '';\n",
       "        dataTable['output_type'] = 'display_data';\n",
       "        await google.colab.output.renderOutput(dataTable, element);\n",
       "        const docLink = document.createElement('div');\n",
       "        docLink.innerHTML = docLinkHtml;\n",
       "        element.appendChild(docLink);\n",
       "      }\n",
       "    </script>\n",
       "  </div>\n",
       "\n",
       "\n",
       "<div id=\"df-02bc973a-b764-4c2e-a7b9-294bba79cedc\">\n",
       "  <button class=\"colab-df-quickchart\" onclick=\"quickchart('df-02bc973a-b764-4c2e-a7b9-294bba79cedc')\"\n",
       "            title=\"Suggest charts.\"\n",
       "            style=\"display:none;\">\n",
       "\n",
       "<svg xmlns=\"http://www.w3.org/2000/svg\" height=\"24px\"viewBox=\"0 0 24 24\"\n",
       "     width=\"24px\">\n",
       "    <g>\n",
       "        <path d=\"M19 3H5c-1.1 0-2 .9-2 2v14c0 1.1.9 2 2 2h14c1.1 0 2-.9 2-2V5c0-1.1-.9-2-2-2zM9 17H7v-7h2v7zm4 0h-2V7h2v10zm4 0h-2v-4h2v4z\"/>\n",
       "    </g>\n",
       "</svg>\n",
       "  </button>\n",
       "\n",
       "<style>\n",
       "  .colab-df-quickchart {\n",
       "      --bg-color: #E8F0FE;\n",
       "      --fill-color: #1967D2;\n",
       "      --hover-bg-color: #E2EBFA;\n",
       "      --hover-fill-color: #174EA6;\n",
       "      --disabled-fill-color: #AAA;\n",
       "      --disabled-bg-color: #DDD;\n",
       "  }\n",
       "\n",
       "  [theme=dark] .colab-df-quickchart {\n",
       "      --bg-color: #3B4455;\n",
       "      --fill-color: #D2E3FC;\n",
       "      --hover-bg-color: #434B5C;\n",
       "      --hover-fill-color: #FFFFFF;\n",
       "      --disabled-bg-color: #3B4455;\n",
       "      --disabled-fill-color: #666;\n",
       "  }\n",
       "\n",
       "  .colab-df-quickchart {\n",
       "    background-color: var(--bg-color);\n",
       "    border: none;\n",
       "    border-radius: 50%;\n",
       "    cursor: pointer;\n",
       "    display: none;\n",
       "    fill: var(--fill-color);\n",
       "    height: 32px;\n",
       "    padding: 0;\n",
       "    width: 32px;\n",
       "  }\n",
       "\n",
       "  .colab-df-quickchart:hover {\n",
       "    background-color: var(--hover-bg-color);\n",
       "    box-shadow: 0 1px 2px rgba(60, 64, 67, 0.3), 0 1px 3px 1px rgba(60, 64, 67, 0.15);\n",
       "    fill: var(--button-hover-fill-color);\n",
       "  }\n",
       "\n",
       "  .colab-df-quickchart-complete:disabled,\n",
       "  .colab-df-quickchart-complete:disabled:hover {\n",
       "    background-color: var(--disabled-bg-color);\n",
       "    fill: var(--disabled-fill-color);\n",
       "    box-shadow: none;\n",
       "  }\n",
       "\n",
       "  .colab-df-spinner {\n",
       "    border: 2px solid var(--fill-color);\n",
       "    border-color: transparent;\n",
       "    border-bottom-color: var(--fill-color);\n",
       "    animation:\n",
       "      spin 1s steps(1) infinite;\n",
       "  }\n",
       "\n",
       "  @keyframes spin {\n",
       "    0% {\n",
       "      border-color: transparent;\n",
       "      border-bottom-color: var(--fill-color);\n",
       "      border-left-color: var(--fill-color);\n",
       "    }\n",
       "    20% {\n",
       "      border-color: transparent;\n",
       "      border-left-color: var(--fill-color);\n",
       "      border-top-color: var(--fill-color);\n",
       "    }\n",
       "    30% {\n",
       "      border-color: transparent;\n",
       "      border-left-color: var(--fill-color);\n",
       "      border-top-color: var(--fill-color);\n",
       "      border-right-color: var(--fill-color);\n",
       "    }\n",
       "    40% {\n",
       "      border-color: transparent;\n",
       "      border-right-color: var(--fill-color);\n",
       "      border-top-color: var(--fill-color);\n",
       "    }\n",
       "    60% {\n",
       "      border-color: transparent;\n",
       "      border-right-color: var(--fill-color);\n",
       "    }\n",
       "    80% {\n",
       "      border-color: transparent;\n",
       "      border-right-color: var(--fill-color);\n",
       "      border-bottom-color: var(--fill-color);\n",
       "    }\n",
       "    90% {\n",
       "      border-color: transparent;\n",
       "      border-bottom-color: var(--fill-color);\n",
       "    }\n",
       "  }\n",
       "</style>\n",
       "\n",
       "  <script>\n",
       "    async function quickchart(key) {\n",
       "      const quickchartButtonEl =\n",
       "        document.querySelector('#' + key + ' button');\n",
       "      quickchartButtonEl.disabled = true;  // To prevent multiple clicks.\n",
       "      quickchartButtonEl.classList.add('colab-df-spinner');\n",
       "      try {\n",
       "        const charts = await google.colab.kernel.invokeFunction(\n",
       "            'suggestCharts', [key], {});\n",
       "      } catch (error) {\n",
       "        console.error('Error during call to suggestCharts:', error);\n",
       "      }\n",
       "      quickchartButtonEl.classList.remove('colab-df-spinner');\n",
       "      quickchartButtonEl.classList.add('colab-df-quickchart-complete');\n",
       "    }\n",
       "    (() => {\n",
       "      let quickchartButtonEl =\n",
       "        document.querySelector('#df-02bc973a-b764-4c2e-a7b9-294bba79cedc button');\n",
       "      quickchartButtonEl.style.display =\n",
       "        google.colab.kernel.accessAllowed ? 'block' : 'none';\n",
       "    })();\n",
       "  </script>\n",
       "</div>\n",
       "    </div>\n",
       "  </div>\n"
      ]
     },
     "metadata": {},
     "execution_count": 43
    }
   ]
  },
  {
   "cell_type": "markdown",
   "source": [
    "## validation data"
   ],
   "metadata": {
    "id": "hzWt3ETGhnK7"
   }
  },
  {
   "cell_type": "code",
   "source": [
    "patient_df = pd.read_csv('target_holdout.csv')"
   ],
   "metadata": {
    "id": "TrXZPEVjhnLJ",
    "executionInfo": {
     "status": "ok",
     "timestamp": 1697376026660,
     "user_tz": 240,
     "elapsed": 10,
     "user": {
      "displayName": "Hao Huang",
      "userId": "01836457921775189398"
     }
    }
   },
   "execution_count": 44,
   "outputs": []
  },
  {
   "cell_type": "code",
   "source": [
    "medical_df = pd.read_csv('medclms_holdout.csv')"
   ],
   "metadata": {
    "id": "XGJbfsqxhnLJ",
    "executionInfo": {
     "status": "ok",
     "timestamp": 1697376026796,
     "user_tz": 240,
     "elapsed": 145,
     "user": {
      "displayName": "Hao Huang",
      "userId": "01836457921775189398"
     }
    }
   },
   "execution_count": 45,
   "outputs": []
  },
  {
   "cell_type": "code",
   "source": [
    "# drop duplicate claims\n",
    "medical_df.drop(columns=['medclm_key','clm_unique_key'],inplace=True)\n",
    "medical_df.drop_duplicates(inplace = True)"
   ],
   "metadata": {
    "id": "aZhSmZDkhnLK",
    "executionInfo": {
     "status": "ok",
     "timestamp": 1697376026797,
     "user_tz": 240,
     "elapsed": 6,
     "user": {
      "displayName": "Hao Huang",
      "userId": "01836457921775189398"
     }
    }
   },
   "execution_count": 46,
   "outputs": []
  },
  {
   "cell_type": "code",
   "source": [
    "# calculate % of null-value in each column\n",
    "medical_df.isna().sum()/medical_df.shape[0]"
   ],
   "metadata": {
    "id": "ZNpfRgO6hnLK",
    "colab": {
     "base_uri": "https://localhost:8080/"
    },
    "executionInfo": {
     "status": "ok",
     "timestamp": 1697376026959,
     "user_tz": 240,
     "elapsed": 15,
     "user": {
      "displayName": "Hao Huang",
      "userId": "01836457921775189398"
     }
    },
    "outputId": "1cb67bd6-e31f-4b2a-cf9c-7275f1e97a99"
   },
   "execution_count": 47,
   "outputs": [
    {
     "output_type": "execute_result",
     "data": {
      "text/plain": [
       "therapy_id                 0.000000\n",
       "primary_diag_cd            0.000000\n",
       "visit_date                 0.000000\n",
       "diag_cd2                   0.314444\n",
       "diag_cd3                   0.508327\n",
       "diag_cd4                   0.643658\n",
       "diag_cd5                   0.757411\n",
       "diag_cd6                   0.810412\n",
       "diag_cd7                   0.854928\n",
       "diag_cd8                   0.881429\n",
       "diag_cd9                   0.904263\n",
       "process_date               0.000000\n",
       "reversal_ind               0.991306\n",
       "pot                        0.000000\n",
       "util_cat                   0.541950\n",
       "hedis_pot                  0.000000\n",
       "clm_type                   0.000000\n",
       "ade_diagnosis              0.000000\n",
       "seizure_diagnosis          0.000000\n",
       "pain_diagnosis             0.000000\n",
       "fatigue_diagnosis          0.000000\n",
       "nausea_diagnosis           0.000000\n",
       "hyperglycemia_diagnosis    0.000000\n",
       "constipation_diagnosis     0.000000\n",
       "diarrhea_diagnosis         0.000000\n",
       "dtype: float64"
      ]
     },
     "metadata": {},
     "execution_count": 47
    }
   ]
  },
  {
   "cell_type": "code",
   "source": [
    "# drop columns with 60% of null-value\n",
    "medical_df.drop(columns=['diag_cd4','diag_cd5','diag_cd6','diag_cd7',\n",
    "                         'diag_cd8','diag_cd9','reversal_ind'],inplace=True)"
   ],
   "metadata": {
    "id": "NjGZy9oHhnLK",
    "executionInfo": {
     "status": "ok",
     "timestamp": 1697376026959,
     "user_tz": 240,
     "elapsed": 9,
     "user": {
      "displayName": "Hao Huang",
      "userId": "01836457921775189398"
     }
    }
   },
   "execution_count": 48,
   "outputs": []
  },
  {
   "cell_type": "code",
   "source": [
    "time_df = patient_df[['therapy_id','therapy_start_date']]\n",
    "time_df.therapy_start_date = pd.to_datetime(time_df.therapy_start_date)\n",
    "medical_df = medical_df.merge(time_df, how='left', on='therapy_id')\n",
    "medical_df.visit_date = pd.to_datetime(medical_df.visit_date)"
   ],
   "metadata": {
    "id": "88EJ7kfghnLL",
    "colab": {
     "base_uri": "https://localhost:8080/"
    },
    "executionInfo": {
     "status": "ok",
     "timestamp": 1697376026959,
     "user_tz": 240,
     "elapsed": 9,
     "user": {
      "displayName": "Hao Huang",
      "userId": "01836457921775189398"
     }
    },
    "outputId": "3af65fdd-46d0-4432-ae28-78e4f3c1f907"
   },
   "execution_count": 49,
   "outputs": [
    {
     "output_type": "stream",
     "name": "stderr",
     "text": [
      "<ipython-input-49-06dea78dc2db>:2: SettingWithCopyWarning: \n",
      "A value is trying to be set on a copy of a slice from a DataFrame.\n",
      "Try using .loc[row_indexer,col_indexer] = value instead\n",
      "\n",
      "See the caveats in the documentation: https://pandas.pydata.org/pandas-docs/stable/user_guide/indexing.html#returning-a-view-versus-a-copy\n",
      "  time_df.therapy_start_date = pd.to_datetime(time_df.therapy_start_date)\n"
     ]
    }
   ]
  },
  {
   "cell_type": "code",
   "source": [
    "medical_df['time_diff'] = (medical_df.visit_date-medical_df.therapy_start_date).dt.total_seconds() / 3600\n",
    "medical_df = medical_df[medical_df['time_diff']>0]"
   ],
   "metadata": {
    "id": "hoknTs41hnLL",
    "executionInfo": {
     "status": "ok",
     "timestamp": 1697376027112,
     "user_tz": 240,
     "elapsed": 158,
     "user": {
      "displayName": "Hao Huang",
      "userId": "01836457921775189398"
     }
    }
   },
   "execution_count": 50,
   "outputs": []
  },
  {
   "cell_type": "code",
   "source": [
    "# drop irrevalant columns\n",
    "medical_df.drop(columns=['visit_date','process_date','time_diff','therapy_start_date'],inplace=True)"
   ],
   "metadata": {
    "id": "Y8aUGtd1hnLL",
    "executionInfo": {
     "status": "ok",
     "timestamp": 1697376027113,
     "user_tz": 240,
     "elapsed": 18,
     "user": {
      "displayName": "Hao Huang",
      "userId": "01836457921775189398"
     }
    }
   },
   "execution_count": 51,
   "outputs": []
  },
  {
   "cell_type": "code",
   "source": [
    "# medical_df['therapy_id'].value_counts()"
   ],
   "metadata": {
    "id": "r6T7WtSHhnLM",
    "executionInfo": {
     "status": "ok",
     "timestamp": 1697376027113,
     "user_tz": 240,
     "elapsed": 17,
     "user": {
      "displayName": "Hao Huang",
      "userId": "01836457921775189398"
     }
    }
   },
   "execution_count": 52,
   "outputs": []
  },
  {
   "cell_type": "code",
   "source": [
    "medical_df.info()"
   ],
   "metadata": {
    "id": "ueHQklorhnLM",
    "colab": {
     "base_uri": "https://localhost:8080/"
    },
    "executionInfo": {
     "status": "ok",
     "timestamp": 1697376027113,
     "user_tz": 240,
     "elapsed": 14,
     "user": {
      "displayName": "Hao Huang",
      "userId": "01836457921775189398"
     }
    },
    "outputId": "a0b7687c-228b-44f9-f7c3-5bee8056dce4"
   },
   "execution_count": 53,
   "outputs": [
    {
     "output_type": "stream",
     "name": "stdout",
     "text": [
      "<class 'pandas.core.frame.DataFrame'>\n",
      "Int64Index: 2243 entries, 7 to 9546\n",
      "Data columns (total 16 columns):\n",
      " #   Column                   Non-Null Count  Dtype \n",
      "---  ------                   --------------  ----- \n",
      " 0   therapy_id               2243 non-null   object\n",
      " 1   primary_diag_cd          2243 non-null   object\n",
      " 2   diag_cd2                 1532 non-null   object\n",
      " 3   diag_cd3                 1122 non-null   object\n",
      " 4   pot                      2243 non-null   object\n",
      " 5   util_cat                 1128 non-null   object\n",
      " 6   hedis_pot                2243 non-null   object\n",
      " 7   clm_type                 2243 non-null   object\n",
      " 8   ade_diagnosis            2243 non-null   int64 \n",
      " 9   seizure_diagnosis        2243 non-null   int64 \n",
      " 10  pain_diagnosis           2243 non-null   int64 \n",
      " 11  fatigue_diagnosis        2243 non-null   int64 \n",
      " 12  nausea_diagnosis         2243 non-null   int64 \n",
      " 13  hyperglycemia_diagnosis  2243 non-null   int64 \n",
      " 14  constipation_diagnosis   2243 non-null   int64 \n",
      " 15  diarrhea_diagnosis       2243 non-null   int64 \n",
      "dtypes: int64(8), object(8)\n",
      "memory usage: 297.9+ KB\n"
     ]
    }
   ]
  },
  {
   "cell_type": "code",
   "source": [
    "medical_df.fillna(\"Missing\",inplace=True)"
   ],
   "metadata": {
    "id": "HdrLkgvWhnLM",
    "executionInfo": {
     "status": "ok",
     "timestamp": 1697376027114,
     "user_tz": 240,
     "elapsed": 10,
     "user": {
      "displayName": "Hao Huang",
      "userId": "01836457921775189398"
     }
    }
   },
   "execution_count": 54,
   "outputs": []
  },
  {
   "cell_type": "code",
   "source": [
    "# get top 10 value in 'primary_diag_cd' and change others to 'other'\n",
    "# top_values = medical_df['primary_diag_cd'].value_counts().index[:11]\n",
    "# medical_df.loc[~medical_df['primary_diag_cd'].isin(top_values), 'primary_diag_cd'] = 'Other'\n",
    "# medical_df.loc[~medical_df['diag_cd2'].isin(top_values), 'diag_cd2'] = 'Other'\n",
    "# medical_df.loc[~medical_df['diag_cd3'].isin(top_values), 'diag_cd3'] = 'Other'\n"
   ],
   "metadata": {
    "id": "VPegX7MnhnLM",
    "executionInfo": {
     "status": "ok",
     "timestamp": 1697376027114,
     "user_tz": 240,
     "elapsed": 10,
     "user": {
      "displayName": "Hao Huang",
      "userId": "01836457921775189398"
     }
    }
   },
   "execution_count": 55,
   "outputs": []
  },
  {
   "cell_type": "code",
   "source": [
    "# Define a custom function to determine the most frequent non-\"other\" string\n",
    "def most_frequent_non_missing(group):\n",
    "    non_missing_values = group[group != 'Missing']\n",
    "    if non_missing_values.empty:\n",
    "        return 'Missing'\n",
    "    else:\n",
    "        return non_missing_values.mode().iloc[0]\n",
    "\n",
    "def most_frequent_non_unknown(group):\n",
    "    non_unknown_values = group[group != 'Unknown']\n",
    "    if non_unknown_values.empty:\n",
    "        return 'Unknown'\n",
    "    else:\n",
    "        return non_unknown_values.mode().iloc[0]\n",
    "\n",
    "# def most_frequent_non_null(group):\n",
    "#     non_null_values = group[group.notnull()]\n",
    "#     if non_null_values.empty:\n",
    "#         return 'null'\n",
    "#     else:\n",
    "#         return non_null_values.mode().iloc[0]\n",
    "\n",
    "def most_frequent_non_other(group):\n",
    "    non_other_values = group[group != 'Other']\n",
    "    if non_other_values.empty:\n",
    "        return 'Other'\n",
    "    else:\n",
    "        return non_other_values.mode().iloc[0]\n",
    "\n",
    "# Group by 'id' and apply the custom function\n",
    "result1 = medical_df.groupby('therapy_id')['primary_diag_cd'].agg(most_frequent_non_missing).reset_index()\n",
    "result2 = medical_df.groupby('therapy_id')['diag_cd2'].agg(most_frequent_non_missing).reset_index()\n",
    "result3 = medical_df.groupby('therapy_id')['diag_cd3'].agg(most_frequent_non_missing).reset_index()\n",
    "result4 = medical_df.groupby('therapy_id')['pot'].agg(most_frequent_non_unknown).reset_index()\n",
    "result5 = medical_df.groupby('therapy_id')['util_cat'].agg(most_frequent_non_missing).reset_index()\n",
    "result6 = medical_df.groupby('therapy_id')['hedis_pot'].agg(most_frequent_non_other).reset_index()"
   ],
   "metadata": {
    "id": "TM0v1oSthnLN",
    "executionInfo": {
     "status": "ok",
     "timestamp": 1697376027718,
     "user_tz": 240,
     "elapsed": 613,
     "user": {
      "displayName": "Hao Huang",
      "userId": "01836457921775189398"
     }
    }
   },
   "execution_count": 56,
   "outputs": []
  },
  {
   "cell_type": "code",
   "source": [
    "diagnosis_ind = medical_df.groupby('therapy_id').agg(lambda x: (x == 1).any()).reset_index()\n",
    "to_process = medical_df.columns[8:]\n",
    "diagnosis_ind[to_process] = diagnosis_ind[to_process].astype(int)\n",
    "cols = range(1,8)\n",
    "diagnosis_ind.drop(diagnosis_ind.columns[cols], axis=1, inplace=True)"
   ],
   "metadata": {
    "id": "DSA2M-YAhnLN",
    "executionInfo": {
     "status": "ok",
     "timestamp": 1697376028348,
     "user_tz": 240,
     "elapsed": 635,
     "user": {
      "displayName": "Hao Huang",
      "userId": "01836457921775189398"
     }
    }
   },
   "execution_count": 57,
   "outputs": []
  },
  {
   "cell_type": "code",
   "source": [
    "final_medical_df = diagnosis_ind.merge(result1, on='therapy_id', how='left')\n",
    "final_medical_df = final_medical_df.merge(result2, on='therapy_id', how='left')\n",
    "final_medical_df = final_medical_df.merge(result3, on='therapy_id', how='left')\n",
    "final_medical_df = final_medical_df.merge(result4, on='therapy_id', how='left')\n",
    "final_medical_df = final_medical_df.merge(result5, on='therapy_id', how='left')\n",
    "final_medical_df = final_medical_df.merge(result6, on='therapy_id', how='left')"
   ],
   "metadata": {
    "id": "WaScvNodhnLN",
    "executionInfo": {
     "status": "ok",
     "timestamp": 1697376028588,
     "user_tz": 240,
     "elapsed": 243,
     "user": {
      "displayName": "Hao Huang",
      "userId": "01836457921775189398"
     }
    }
   },
   "execution_count": 58,
   "outputs": []
  },
  {
   "cell_type": "code",
   "source": [
    "agg_count = medical_df.groupby('therapy_id').size().reset_index(name='med_count')\n",
    "\n",
    "final_medical_df = final_medical_df.merge(agg_count, how='left', on='therapy_id')"
   ],
   "metadata": {
    "id": "mdTAIVJohnLN",
    "executionInfo": {
     "status": "ok",
     "timestamp": 1697376028588,
     "user_tz": 240,
     "elapsed": 13,
     "user": {
      "displayName": "Hao Huang",
      "userId": "01836457921775189398"
     }
    }
   },
   "execution_count": 59,
   "outputs": []
  },
  {
   "cell_type": "code",
   "source": [
    "# final_medical_df.loc[:, final_medical_df.dtypes == 'object'] =\\\n",
    "#     final_medical_df.select_dtypes(['object'])\\\n",
    "#     .apply(lambda x: x.astype('category'))"
   ],
   "metadata": {
    "id": "BbORA_ughnLN",
    "executionInfo": {
     "status": "ok",
     "timestamp": 1697376028588,
     "user_tz": 240,
     "elapsed": 13,
     "user": {
      "displayName": "Hao Huang",
      "userId": "01836457921775189398"
     }
    }
   },
   "execution_count": 60,
   "outputs": []
  },
  {
   "cell_type": "code",
   "source": [
    "final_medical_df.info()"
   ],
   "metadata": {
    "id": "i5kSV-n6hnLO",
    "colab": {
     "base_uri": "https://localhost:8080/"
    },
    "executionInfo": {
     "status": "ok",
     "timestamp": 1697376028588,
     "user_tz": 240,
     "elapsed": 13,
     "user": {
      "displayName": "Hao Huang",
      "userId": "01836457921775189398"
     }
    },
    "outputId": "5b72bc29-f12a-49a3-f69c-e6c99f5a4d18"
   },
   "execution_count": 61,
   "outputs": [
    {
     "output_type": "stream",
     "name": "stdout",
     "text": [
      "<class 'pandas.core.frame.DataFrame'>\n",
      "Int64Index: 142 entries, 0 to 141\n",
      "Data columns (total 16 columns):\n",
      " #   Column                   Non-Null Count  Dtype \n",
      "---  ------                   --------------  ----- \n",
      " 0   therapy_id               142 non-null    object\n",
      " 1   ade_diagnosis            142 non-null    int64 \n",
      " 2   seizure_diagnosis        142 non-null    int64 \n",
      " 3   pain_diagnosis           142 non-null    int64 \n",
      " 4   fatigue_diagnosis        142 non-null    int64 \n",
      " 5   nausea_diagnosis         142 non-null    int64 \n",
      " 6   hyperglycemia_diagnosis  142 non-null    int64 \n",
      " 7   constipation_diagnosis   142 non-null    int64 \n",
      " 8   diarrhea_diagnosis       142 non-null    int64 \n",
      " 9   primary_diag_cd          142 non-null    object\n",
      " 10  diag_cd2                 142 non-null    object\n",
      " 11  diag_cd3                 142 non-null    object\n",
      " 12  pot                      142 non-null    object\n",
      " 13  util_cat                 142 non-null    object\n",
      " 14  hedis_pot                142 non-null    object\n",
      " 15  med_count                142 non-null    int64 \n",
      "dtypes: int64(9), object(7)\n",
      "memory usage: 18.9+ KB\n"
     ]
    }
   ]
  },
  {
   "cell_type": "code",
   "source": [
    "# X = final_medical_df.drop(columns = ['therapy_id','tgt_ade_dc_ind'])\n",
    "# y = final_medical_df['tgt_ade_dc_ind']\n",
    "# # fit model no training data\n",
    "# model = xgb.XGBClassifier(enable_categorical = True)\n",
    "# model.fit(X, y)\n",
    "# # feature importance\n",
    "# print(model.feature_importances_)\n",
    "# # plot\n",
    "# xgb.plot_importance(model)\n",
    "# plt.show()"
   ],
   "metadata": {
    "id": "05TGMBPVhnLO",
    "executionInfo": {
     "status": "ok",
     "timestamp": 1697376028751,
     "user_tz": 240,
     "elapsed": 167,
     "user": {
      "displayName": "Hao Huang",
      "userId": "01836457921775189398"
     }
    }
   },
   "execution_count": 62,
   "outputs": []
  },
  {
   "cell_type": "code",
   "source": [
    "pharmacy_df = pd.read_csv('rxclms_holdout.csv')"
   ],
   "metadata": {
    "id": "-O3VHxbhhnLO",
    "executionInfo": {
     "status": "ok",
     "timestamp": 1697376028751,
     "user_tz": 240,
     "elapsed": 9,
     "user": {
      "displayName": "Hao Huang",
      "userId": "01836457921775189398"
     }
    }
   },
   "execution_count": 63,
   "outputs": []
  },
  {
   "cell_type": "code",
   "source": [
    "# drop duplicate claims\n",
    "pharmacy_df.drop(columns=['document_key','ndc_id'],inplace=True)\n",
    "pharmacy_df.drop_duplicates(inplace = True)"
   ],
   "metadata": {
    "id": "0Py7zzRVhnLO",
    "executionInfo": {
     "status": "ok",
     "timestamp": 1697376028751,
     "user_tz": 240,
     "elapsed": 8,
     "user": {
      "displayName": "Hao Huang",
      "userId": "01836457921775189398"
     }
    }
   },
   "execution_count": 64,
   "outputs": []
  },
  {
   "cell_type": "code",
   "source": [
    "# calculate % of null-value in each column\n",
    "pharmacy_df.isna().sum()/pharmacy_df.shape[0]"
   ],
   "metadata": {
    "id": "0Q5W-ae4hnLO",
    "colab": {
     "base_uri": "https://localhost:8080/"
    },
    "executionInfo": {
     "status": "ok",
     "timestamp": 1697376028751,
     "user_tz": 240,
     "elapsed": 8,
     "user": {
      "displayName": "Hao Huang",
      "userId": "01836457921775189398"
     }
    },
    "outputId": "ac8b290f-dfbd-4aff-d266-b1b65d97ef05"
   },
   "execution_count": 65,
   "outputs": [
    {
     "output_type": "execute_result",
     "data": {
      "text/plain": [
       "therapy_id                 0.000000\n",
       "service_date               0.000000\n",
       "process_date               0.000000\n",
       "pay_day_supply_cnt         0.000000\n",
       "rx_cost                    0.000000\n",
       "tot_drug_cost_accum_amt    0.000000\n",
       "reversal_ind               0.000000\n",
       "mail_order_ind             0.000000\n",
       "generic_ind                0.000000\n",
       "maint_ind                  0.000000\n",
       "gpi_drug_group_desc        0.053881\n",
       "gpi_drug_class_desc        0.053881\n",
       "hum_drug_class_desc        0.053881\n",
       "strength_meas              0.062709\n",
       "metric_strength            0.062709\n",
       "specialty_ind              0.000000\n",
       "clm_type                   0.000000\n",
       "ddi_ind                    0.000000\n",
       "anticoag_ind               0.000000\n",
       "diarrhea_treat_ind         0.000000\n",
       "nausea_treat_ind           0.000000\n",
       "seizure_treat_ind          0.000000\n",
       "dtype: float64"
      ]
     },
     "metadata": {},
     "execution_count": 65
    }
   ]
  },
  {
   "cell_type": "code",
   "source": [
    "time_df = patient_df[['therapy_id','therapy_start_date']]\n",
    "time_df.therapy_start_date = pd.to_datetime(time_df.therapy_start_date)\n",
    "pharmacy_df = pharmacy_df.merge(time_df, how='left', on='therapy_id')\n",
    "pharmacy_df.service_date = pd.to_datetime(pharmacy_df.service_date)"
   ],
   "metadata": {
    "id": "DK9Dzdp2hnLP",
    "colab": {
     "base_uri": "https://localhost:8080/"
    },
    "executionInfo": {
     "status": "ok",
     "timestamp": 1697376028915,
     "user_tz": 240,
     "elapsed": 169,
     "user": {
      "displayName": "Hao Huang",
      "userId": "01836457921775189398"
     }
    },
    "outputId": "b73dce33-204e-491e-d902-58620ebe2cbc"
   },
   "execution_count": 66,
   "outputs": [
    {
     "output_type": "stream",
     "name": "stderr",
     "text": [
      "<ipython-input-66-23d49b7669b7>:2: SettingWithCopyWarning: \n",
      "A value is trying to be set on a copy of a slice from a DataFrame.\n",
      "Try using .loc[row_indexer,col_indexer] = value instead\n",
      "\n",
      "See the caveats in the documentation: https://pandas.pydata.org/pandas-docs/stable/user_guide/indexing.html#returning-a-view-versus-a-copy\n",
      "  time_df.therapy_start_date = pd.to_datetime(time_df.therapy_start_date)\n"
     ]
    }
   ]
  },
  {
   "cell_type": "code",
   "source": [
    "pharmacy_df['time_diff'] = (pharmacy_df.service_date-pharmacy_df.therapy_start_date).dt.total_seconds() / 3600\n",
    "pharmacy_df = pharmacy_df[pharmacy_df['time_diff']>0]"
   ],
   "metadata": {
    "id": "vkFrXaCzhnLP",
    "executionInfo": {
     "status": "ok",
     "timestamp": 1697376028916,
     "user_tz": 240,
     "elapsed": 11,
     "user": {
      "displayName": "Hao Huang",
      "userId": "01836457921775189398"
     }
    }
   },
   "execution_count": 67,
   "outputs": []
  },
  {
   "cell_type": "code",
   "source": [
    "# drop irrevalant columns\n",
    "pharmacy_df.drop(columns=['service_date','process_date','reversal_ind','mail_order_ind',\n",
    "                          'gpi_drug_group_desc','gpi_drug_class_desc','strength_meas',\n",
    "                          'time_diff','therapy_start_date'],inplace=True)\n",
    "pharmacy_df.info()"
   ],
   "metadata": {
    "id": "VWN1JGiRhnLP",
    "colab": {
     "base_uri": "https://localhost:8080/"
    },
    "executionInfo": {
     "status": "ok",
     "timestamp": 1697376029063,
     "user_tz": 240,
     "elapsed": 157,
     "user": {
      "displayName": "Hao Huang",
      "userId": "01836457921775189398"
     }
    },
    "outputId": "e7b22a00-e197-41f2-e169-9f4fde393a70"
   },
   "execution_count": 68,
   "outputs": [
    {
     "output_type": "stream",
     "name": "stdout",
     "text": [
      "<class 'pandas.core.frame.DataFrame'>\n",
      "Int64Index: 2799 entries, 36 to 6569\n",
      "Data columns (total 15 columns):\n",
      " #   Column                   Non-Null Count  Dtype  \n",
      "---  ------                   --------------  -----  \n",
      " 0   therapy_id               2799 non-null   object \n",
      " 1   pay_day_supply_cnt       2799 non-null   int64  \n",
      " 2   rx_cost                  2799 non-null   float64\n",
      " 3   tot_drug_cost_accum_amt  2799 non-null   float64\n",
      " 4   generic_ind              2799 non-null   object \n",
      " 5   maint_ind                2799 non-null   object \n",
      " 6   hum_drug_class_desc      2604 non-null   object \n",
      " 7   metric_strength          2588 non-null   float64\n",
      " 8   specialty_ind            2799 non-null   object \n",
      " 9   clm_type                 2799 non-null   object \n",
      " 10  ddi_ind                  2799 non-null   int64  \n",
      " 11  anticoag_ind             2799 non-null   int64  \n",
      " 12  diarrhea_treat_ind       2799 non-null   int64  \n",
      " 13  nausea_treat_ind         2799 non-null   int64  \n",
      " 14  seizure_treat_ind        2799 non-null   int64  \n",
      "dtypes: float64(3), int64(6), object(6)\n",
      "memory usage: 349.9+ KB\n"
     ]
    },
    {
     "output_type": "stream",
     "name": "stderr",
     "text": [
      "<ipython-input-68-e53257ce9899>:2: SettingWithCopyWarning: \n",
      "A value is trying to be set on a copy of a slice from a DataFrame\n",
      "\n",
      "See the caveats in the documentation: https://pandas.pydata.org/pandas-docs/stable/user_guide/indexing.html#returning-a-view-versus-a-copy\n",
      "  pharmacy_df.drop(columns=['service_date','process_date','reversal_ind','mail_order_ind',\n"
     ]
    }
   ]
  },
  {
   "cell_type": "code",
   "source": [
    "pharmacy_df.hum_drug_class_desc.fillna(\"Missing\",inplace=True)\n",
    "# get top 10 value in 'hum_drug_class' and change others to 'other'\n",
    "# top_values = pharmacy_df['hum_drug_class_desc'].value_counts().index[:11]\n",
    "# pharmacy_df.loc[~pharmacy_df['hum_drug_class_desc'].isin(top_values), 'hum_drug_class_desc'] = 'Other'"
   ],
   "metadata": {
    "id": "JjWngi3AhnLP",
    "executionInfo": {
     "status": "ok",
     "timestamp": 1697376029063,
     "user_tz": 240,
     "elapsed": 9,
     "user": {
      "displayName": "Hao Huang",
      "userId": "01836457921775189398"
     }
    },
    "colab": {
     "base_uri": "https://localhost:8080/"
    },
    "outputId": "c243baac-f339-4454-9c36-2e9974f3ff95"
   },
   "execution_count": 69,
   "outputs": [
    {
     "output_type": "stream",
     "name": "stderr",
     "text": [
      "<ipython-input-69-14b0d0f71c0d>:1: SettingWithCopyWarning: \n",
      "A value is trying to be set on a copy of a slice from a DataFrame\n",
      "\n",
      "See the caveats in the documentation: https://pandas.pydata.org/pandas-docs/stable/user_guide/indexing.html#returning-a-view-versus-a-copy\n",
      "  pharmacy_df.hum_drug_class_desc.fillna(\"Missing\",inplace=True)\n"
     ]
    }
   ]
  },
  {
   "cell_type": "code",
   "source": [
    "from sklearn.impute import KNNImputer\n",
    "\n",
    "imputer = KNNImputer(n_neighbors=3)\n",
    "imputed = imputer.fit_transform(pharmacy_df.metric_strength.to_numpy().reshape(-1, 1))\n",
    "pharmacy_df.metric_strength = imputed\n",
    "pharmacy_df.info()"
   ],
   "metadata": {
    "id": "mcCHWn4ChnLQ",
    "colab": {
     "base_uri": "https://localhost:8080/"
    },
    "executionInfo": {
     "status": "ok",
     "timestamp": 1697376029177,
     "user_tz": 240,
     "elapsed": 120,
     "user": {
      "displayName": "Hao Huang",
      "userId": "01836457921775189398"
     }
    },
    "outputId": "13c5e86b-28df-4f75-deae-83fe3f12d2d2"
   },
   "execution_count": 70,
   "outputs": [
    {
     "output_type": "stream",
     "name": "stdout",
     "text": [
      "<class 'pandas.core.frame.DataFrame'>\n",
      "Int64Index: 2799 entries, 36 to 6569\n",
      "Data columns (total 15 columns):\n",
      " #   Column                   Non-Null Count  Dtype  \n",
      "---  ------                   --------------  -----  \n",
      " 0   therapy_id               2799 non-null   object \n",
      " 1   pay_day_supply_cnt       2799 non-null   int64  \n",
      " 2   rx_cost                  2799 non-null   float64\n",
      " 3   tot_drug_cost_accum_amt  2799 non-null   float64\n",
      " 4   generic_ind              2799 non-null   object \n",
      " 5   maint_ind                2799 non-null   object \n",
      " 6   hum_drug_class_desc      2799 non-null   object \n",
      " 7   metric_strength          2799 non-null   float64\n",
      " 8   specialty_ind            2799 non-null   object \n",
      " 9   clm_type                 2799 non-null   object \n",
      " 10  ddi_ind                  2799 non-null   int64  \n",
      " 11  anticoag_ind             2799 non-null   int64  \n",
      " 12  diarrhea_treat_ind       2799 non-null   int64  \n",
      " 13  nausea_treat_ind         2799 non-null   int64  \n",
      " 14  seizure_treat_ind        2799 non-null   int64  \n",
      "dtypes: float64(3), int64(6), object(6)\n",
      "memory usage: 349.9+ KB\n"
     ]
    }
   ]
  },
  {
   "cell_type": "code",
   "source": [
    "# multiple records of 'pay_day_supply_cnt', 'rx_cost', 'tot_drug_cost_accum_amt' and 'metric_strength' to one record\n",
    "\n",
    "treat_ind = pharmacy_df.groupby('therapy_id').agg(lambda x: (x == 1).any()).reset_index()\n",
    "\n",
    "to_process_pharmacy = pharmacy_df.columns[-5:]\n",
    "treat_ind[to_process_pharmacy] = treat_ind[to_process_pharmacy].astype(int)\n",
    "cols = range(1,10)\n",
    "treat_ind.drop(treat_ind.columns[cols], axis=1, inplace=True)\n",
    "avg_cost_df = pharmacy_df.groupby('therapy_id').agg({'pay_day_supply_cnt':'mean',\n",
    "                                                     'rx_cost': 'mean',\n",
    "                                                     'tot_drug_cost_accum_amt':'mean',\n",
    "                                                     'metric_strength':'mean'}).reset_index()\n",
    "\n",
    "avg_cost_df.columns = ['therapy_id', 'avg_supply_cnt','avg_rx_cost', 'avg_tot_cost','avg_metric_strength']\n"
   ],
   "metadata": {
    "id": "kAtCgZdihnLQ",
    "executionInfo": {
     "status": "ok",
     "timestamp": 1697376031225,
     "user_tz": 240,
     "elapsed": 2057,
     "user": {
      "displayName": "Hao Huang",
      "userId": "01836457921775189398"
     }
    }
   },
   "execution_count": 71,
   "outputs": []
  },
  {
   "cell_type": "code",
   "source": [
    "# Define a custom function to determine the most frequent non-\"other\" string\n",
    "\n",
    "# Group by 'id' and apply the custom function\n",
    "result1 = pharmacy_df.groupby('therapy_id')['generic_ind'].agg(most_frequent_non_missing).reset_index()\n",
    "result2 = pharmacy_df.groupby('therapy_id')['maint_ind'].agg(most_frequent_non_missing).reset_index()\n",
    "result3 = pharmacy_df.groupby('therapy_id')['hum_drug_class_desc'].agg(most_frequent_non_missing).reset_index()\n",
    "result4 = pharmacy_df.groupby('therapy_id')['specialty_ind'].agg(most_frequent_non_missing).reset_index()"
   ],
   "metadata": {
    "id": "JVvUa3y3hnLQ",
    "executionInfo": {
     "status": "ok",
     "timestamp": 1697376032560,
     "user_tz": 240,
     "elapsed": 1341,
     "user": {
      "displayName": "Hao Huang",
      "userId": "01836457921775189398"
     }
    }
   },
   "execution_count": 72,
   "outputs": []
  },
  {
   "cell_type": "code",
   "source": [
    "final_pharmacy_df = treat_ind.merge(avg_cost_df, on='therapy_id', how='left')\n",
    "final_pharmacy_df = final_pharmacy_df.merge(result1, on='therapy_id', how='left')\n",
    "final_pharmacy_df = final_pharmacy_df.merge(result2, on='therapy_id', how='left')\n",
    "final_pharmacy_df = final_pharmacy_df.merge(result3, on='therapy_id', how='left')\n",
    "final_pharmacy_df = final_pharmacy_df.merge(result4, on='therapy_id', how='left')"
   ],
   "metadata": {
    "id": "8RtwvRZNhnLQ",
    "executionInfo": {
     "status": "ok",
     "timestamp": 1697376032560,
     "user_tz": 240,
     "elapsed": 16,
     "user": {
      "displayName": "Hao Huang",
      "userId": "01836457921775189398"
     }
    }
   },
   "execution_count": 73,
   "outputs": []
  },
  {
   "cell_type": "code",
   "source": [
    "agg_count = pharmacy_df.groupby('therapy_id').size().reset_index(name='rx_count')\n",
    "\n",
    "final_pharmacy_df = final_pharmacy_df.merge(agg_count, how='left', on='therapy_id')"
   ],
   "metadata": {
    "id": "Gq_gCMKuhnLR",
    "executionInfo": {
     "status": "ok",
     "timestamp": 1697376032561,
     "user_tz": 240,
     "elapsed": 15,
     "user": {
      "displayName": "Hao Huang",
      "userId": "01836457921775189398"
     }
    }
   },
   "execution_count": 74,
   "outputs": []
  },
  {
   "cell_type": "code",
   "source": [
    "# final_pharmacy_df.loc[:, final_pharmacy_df.dtypes == 'object'] =\\\n",
    "#     final_pharmacy_df.select_dtypes(['object'])\\\n",
    "#     .apply(lambda x: x.astype('category'))"
   ],
   "metadata": {
    "id": "fgjuHwOFhnLR",
    "executionInfo": {
     "status": "ok",
     "timestamp": 1697376032561,
     "user_tz": 240,
     "elapsed": 14,
     "user": {
      "displayName": "Hao Huang",
      "userId": "01836457921775189398"
     }
    }
   },
   "execution_count": 75,
   "outputs": []
  },
  {
   "cell_type": "code",
   "source": [
    "final_pharmacy_df.info()"
   ],
   "metadata": {
    "id": "BPdfdsKlhnLR",
    "colab": {
     "base_uri": "https://localhost:8080/"
    },
    "executionInfo": {
     "status": "ok",
     "timestamp": 1697376032561,
     "user_tz": 240,
     "elapsed": 14,
     "user": {
      "displayName": "Hao Huang",
      "userId": "01836457921775189398"
     }
    },
    "outputId": "cb3dd8b0-daa9-43ab-96f9-757dba2a738f"
   },
   "execution_count": 76,
   "outputs": [
    {
     "output_type": "stream",
     "name": "stdout",
     "text": [
      "<class 'pandas.core.frame.DataFrame'>\n",
      "Int64Index: 317 entries, 0 to 316\n",
      "Data columns (total 15 columns):\n",
      " #   Column               Non-Null Count  Dtype  \n",
      "---  ------               --------------  -----  \n",
      " 0   therapy_id           317 non-null    object \n",
      " 1   ddi_ind              317 non-null    int64  \n",
      " 2   anticoag_ind         317 non-null    int64  \n",
      " 3   diarrhea_treat_ind   317 non-null    int64  \n",
      " 4   nausea_treat_ind     317 non-null    int64  \n",
      " 5   seizure_treat_ind    317 non-null    int64  \n",
      " 6   avg_supply_cnt       317 non-null    float64\n",
      " 7   avg_rx_cost          317 non-null    float64\n",
      " 8   avg_tot_cost         317 non-null    float64\n",
      " 9   avg_metric_strength  317 non-null    float64\n",
      " 10  generic_ind          317 non-null    object \n",
      " 11  maint_ind            317 non-null    object \n",
      " 12  hum_drug_class_desc  317 non-null    object \n",
      " 13  specialty_ind        317 non-null    object \n",
      " 14  rx_count             317 non-null    int64  \n",
      "dtypes: float64(4), int64(6), object(5)\n",
      "memory usage: 39.6+ KB\n"
     ]
    }
   ]
  },
  {
   "cell_type": "code",
   "source": [
    "# X = final_pharmacy_df.drop(columns = ['therapy_id','tgt_ade_dc_ind'])\n",
    "# y = final_pharmacy_df['tgt_ade_dc_ind']\n",
    "# # fit model no training data\n",
    "# model = xgb.XGBClassifier(enable_categorical = True)\n",
    "# model.fit(X, y)\n",
    "# # feature importance\n",
    "# print(model.feature_importances_)\n",
    "# # plot\n",
    "# xgb.plot_importance(model)\n",
    "# plt.show()"
   ],
   "metadata": {
    "id": "BkIcjBsbhnLR",
    "executionInfo": {
     "status": "ok",
     "timestamp": 1697376032562,
     "user_tz": 240,
     "elapsed": 10,
     "user": {
      "displayName": "Hao Huang",
      "userId": "01836457921775189398"
     }
    }
   },
   "execution_count": 77,
   "outputs": []
  },
  {
   "cell_type": "code",
   "source": [
    "final_df = patient_df.merge(final_medical_df, on='therapy_id', how='left')\n",
    "final_df = final_df.merge(final_pharmacy_df, on='therapy_id', how='left')\n",
    "final_df.info()"
   ],
   "metadata": {
    "id": "B7JitvtihnLS",
    "colab": {
     "base_uri": "https://localhost:8080/"
    },
    "executionInfo": {
     "status": "ok",
     "timestamp": 1697376032703,
     "user_tz": 240,
     "elapsed": 150,
     "user": {
      "displayName": "Hao Huang",
      "userId": "01836457921775189398"
     }
    },
    "outputId": "85d6f99b-ab80-4f39-b683-e855f639029e"
   },
   "execution_count": 78,
   "outputs": [
    {
     "output_type": "stream",
     "name": "stdout",
     "text": [
      "<class 'pandas.core.frame.DataFrame'>\n",
      "Int64Index: 420 entries, 0 to 419\n",
      "Data columns (total 37 columns):\n",
      " #   Column                   Non-Null Count  Dtype  \n",
      "---  ------                   --------------  -----  \n",
      " 0   id                       420 non-null    int64  \n",
      " 1   therapy_id               420 non-null    object \n",
      " 2   therapy_start_date       420 non-null    object \n",
      " 3   race_cd                  402 non-null    float64\n",
      " 4   est_age                  392 non-null    float64\n",
      " 5   sex_cd                   392 non-null    object \n",
      " 6   cms_disabled_ind         392 non-null    float64\n",
      " 7   cms_low_income_ind       392 non-null    float64\n",
      " 8   ade_diagnosis            142 non-null    float64\n",
      " 9   seizure_diagnosis        142 non-null    float64\n",
      " 10  pain_diagnosis           142 non-null    float64\n",
      " 11  fatigue_diagnosis        142 non-null    float64\n",
      " 12  nausea_diagnosis         142 non-null    float64\n",
      " 13  hyperglycemia_diagnosis  142 non-null    float64\n",
      " 14  constipation_diagnosis   142 non-null    float64\n",
      " 15  diarrhea_diagnosis       142 non-null    float64\n",
      " 16  primary_diag_cd          142 non-null    object \n",
      " 17  diag_cd2                 142 non-null    object \n",
      " 18  diag_cd3                 142 non-null    object \n",
      " 19  pot                      142 non-null    object \n",
      " 20  util_cat                 142 non-null    object \n",
      " 21  hedis_pot                142 non-null    object \n",
      " 22  med_count                142 non-null    float64\n",
      " 23  ddi_ind                  317 non-null    float64\n",
      " 24  anticoag_ind             317 non-null    float64\n",
      " 25  diarrhea_treat_ind       317 non-null    float64\n",
      " 26  nausea_treat_ind         317 non-null    float64\n",
      " 27  seizure_treat_ind        317 non-null    float64\n",
      " 28  avg_supply_cnt           317 non-null    float64\n",
      " 29  avg_rx_cost              317 non-null    float64\n",
      " 30  avg_tot_cost             317 non-null    float64\n",
      " 31  avg_metric_strength      317 non-null    float64\n",
      " 32  generic_ind              317 non-null    object \n",
      " 33  maint_ind                317 non-null    object \n",
      " 34  hum_drug_class_desc      317 non-null    object \n",
      " 35  specialty_ind            317 non-null    object \n",
      " 36  rx_count                 317 non-null    float64\n",
      "dtypes: float64(23), int64(1), object(13)\n",
      "memory usage: 124.7+ KB\n"
     ]
    }
   ]
  },
  {
   "cell_type": "code",
   "source": [
    "# final_df.drop(columns = ['id', 'therapy_id', 'therapy_start_date', 'sex_cd',\n",
    "#                          'race_cd'], axis=1, inplace=True)\n",
    "\n",
    "columns_to_fill = ['med_count','rx_count']\n",
    "# Fill NA values with zero in the selected columns by index\n",
    "final_df.loc[:, columns_to_fill] = final_df.loc[:, columns_to_fill].fillna(0)"
   ],
   "metadata": {
    "id": "34BuLGahhnLS",
    "executionInfo": {
     "status": "ok",
     "timestamp": 1697376032704,
     "user_tz": 240,
     "elapsed": 15,
     "user": {
      "displayName": "Hao Huang",
      "userId": "01836457921775189398"
     }
    }
   },
   "execution_count": 79,
   "outputs": []
  },
  {
   "cell_type": "code",
   "source": [
    "lazy_people_val = final_df[(final_df.med_count == 0) & (final_df.rx_count == 0)]\n",
    "filtered_data = final_df[(final_df.med_count > 0) | (final_df.rx_count > 0)]\n",
    "\n",
    "patient_id = filtered_data.id\n",
    "filtered_data.drop(columns = ['id', 'therapy_id', 'therapy_start_date', 'sex_cd',\n",
    "                         'race_cd'], axis=1, inplace=True)"
   ],
   "metadata": {
    "id": "5y52W-EYhnLS",
    "colab": {
     "base_uri": "https://localhost:8080/"
    },
    "executionInfo": {
     "status": "ok",
     "timestamp": 1697376032704,
     "user_tz": 240,
     "elapsed": 14,
     "user": {
      "displayName": "Hao Huang",
      "userId": "01836457921775189398"
     }
    },
    "outputId": "39dd46eb-de45-4540-eadf-2e7a3222f599"
   },
   "execution_count": 80,
   "outputs": [
    {
     "output_type": "stream",
     "name": "stderr",
     "text": [
      "<ipython-input-80-e292064018d0>:5: SettingWithCopyWarning: \n",
      "A value is trying to be set on a copy of a slice from a DataFrame\n",
      "\n",
      "See the caveats in the documentation: https://pandas.pydata.org/pandas-docs/stable/user_guide/indexing.html#returning-a-view-versus-a-copy\n",
      "  filtered_data.drop(columns = ['id', 'therapy_id', 'therapy_start_date', 'sex_cd',\n"
     ]
    }
   ]
  },
  {
   "cell_type": "code",
   "source": [
    "filtered_data.info()"
   ],
   "metadata": {
    "id": "1kBrcBIHhnLT",
    "colab": {
     "base_uri": "https://localhost:8080/"
    },
    "executionInfo": {
     "status": "ok",
     "timestamp": 1697376032704,
     "user_tz": 240,
     "elapsed": 10,
     "user": {
      "displayName": "Hao Huang",
      "userId": "01836457921775189398"
     }
    },
    "outputId": "b346289f-45b3-490c-a8fb-80e284af805d"
   },
   "execution_count": 81,
   "outputs": [
    {
     "output_type": "stream",
     "name": "stdout",
     "text": [
      "<class 'pandas.core.frame.DataFrame'>\n",
      "Int64Index: 336 entries, 0 to 419\n",
      "Data columns (total 32 columns):\n",
      " #   Column                   Non-Null Count  Dtype  \n",
      "---  ------                   --------------  -----  \n",
      " 0   est_age                  334 non-null    float64\n",
      " 1   cms_disabled_ind         334 non-null    float64\n",
      " 2   cms_low_income_ind       334 non-null    float64\n",
      " 3   ade_diagnosis            142 non-null    float64\n",
      " 4   seizure_diagnosis        142 non-null    float64\n",
      " 5   pain_diagnosis           142 non-null    float64\n",
      " 6   fatigue_diagnosis        142 non-null    float64\n",
      " 7   nausea_diagnosis         142 non-null    float64\n",
      " 8   hyperglycemia_diagnosis  142 non-null    float64\n",
      " 9   constipation_diagnosis   142 non-null    float64\n",
      " 10  diarrhea_diagnosis       142 non-null    float64\n",
      " 11  primary_diag_cd          142 non-null    object \n",
      " 12  diag_cd2                 142 non-null    object \n",
      " 13  diag_cd3                 142 non-null    object \n",
      " 14  pot                      142 non-null    object \n",
      " 15  util_cat                 142 non-null    object \n",
      " 16  hedis_pot                142 non-null    object \n",
      " 17  med_count                336 non-null    float64\n",
      " 18  ddi_ind                  317 non-null    float64\n",
      " 19  anticoag_ind             317 non-null    float64\n",
      " 20  diarrhea_treat_ind       317 non-null    float64\n",
      " 21  nausea_treat_ind         317 non-null    float64\n",
      " 22  seizure_treat_ind        317 non-null    float64\n",
      " 23  avg_supply_cnt           317 non-null    float64\n",
      " 24  avg_rx_cost              317 non-null    float64\n",
      " 25  avg_tot_cost             317 non-null    float64\n",
      " 26  avg_metric_strength      317 non-null    float64\n",
      " 27  generic_ind              317 non-null    object \n",
      " 28  maint_ind                317 non-null    object \n",
      " 29  hum_drug_class_desc      317 non-null    object \n",
      " 30  specialty_ind            317 non-null    object \n",
      " 31  rx_count                 336 non-null    float64\n",
      "dtypes: float64(22), object(10)\n",
      "memory usage: 86.6+ KB\n"
     ]
    }
   ]
  },
  {
   "cell_type": "code",
   "source": [
    "columns_to_fill = [1,2] + [i for i in range(3,11)] + [i for i in range(18,27)]\n",
    "# Fill NA values with zero in the selected columns by index\n",
    "filtered_data.iloc[:, columns_to_fill] = filtered_data.iloc[:, columns_to_fill].fillna(0)\n",
    "\n",
    "columns_to_fill = [i for i in range(11,17)] + [i for i in range(27,31)]\n",
    "# Fill NA values with missing in the selected columns by index\n",
    "filtered_data.iloc[:, columns_to_fill] = filtered_data.iloc[:, columns_to_fill].fillna('Missing')\n",
    "\n",
    "median_value = filtered_data['est_age'].median()  # Calculate the median for the column\n",
    "filtered_data['est_age'] = filtered_data['est_age'].fillna(median_value)\n",
    "val_df = filtered_data\n",
    "val_df.info()"
   ],
   "metadata": {
    "id": "qQv8CBiihnLT",
    "colab": {
     "base_uri": "https://localhost:8080/"
    },
    "executionInfo": {
     "status": "ok",
     "timestamp": 1697376032704,
     "user_tz": 240,
     "elapsed": 8,
     "user": {
      "displayName": "Hao Huang",
      "userId": "01836457921775189398"
     }
    },
    "outputId": "6ee4ed4b-5dc1-4418-9a8f-0cfb41e66f2b"
   },
   "execution_count": 82,
   "outputs": [
    {
     "output_type": "stream",
     "name": "stdout",
     "text": [
      "<class 'pandas.core.frame.DataFrame'>\n",
      "Int64Index: 336 entries, 0 to 419\n",
      "Data columns (total 32 columns):\n",
      " #   Column                   Non-Null Count  Dtype  \n",
      "---  ------                   --------------  -----  \n",
      " 0   est_age                  336 non-null    float64\n",
      " 1   cms_disabled_ind         336 non-null    float64\n",
      " 2   cms_low_income_ind       336 non-null    float64\n",
      " 3   ade_diagnosis            336 non-null    float64\n",
      " 4   seizure_diagnosis        336 non-null    float64\n",
      " 5   pain_diagnosis           336 non-null    float64\n",
      " 6   fatigue_diagnosis        336 non-null    float64\n",
      " 7   nausea_diagnosis         336 non-null    float64\n",
      " 8   hyperglycemia_diagnosis  336 non-null    float64\n",
      " 9   constipation_diagnosis   336 non-null    float64\n",
      " 10  diarrhea_diagnosis       336 non-null    float64\n",
      " 11  primary_diag_cd          336 non-null    object \n",
      " 12  diag_cd2                 336 non-null    object \n",
      " 13  diag_cd3                 336 non-null    object \n",
      " 14  pot                      336 non-null    object \n",
      " 15  util_cat                 336 non-null    object \n",
      " 16  hedis_pot                336 non-null    object \n",
      " 17  med_count                336 non-null    float64\n",
      " 18  ddi_ind                  336 non-null    float64\n",
      " 19  anticoag_ind             336 non-null    float64\n",
      " 20  diarrhea_treat_ind       336 non-null    float64\n",
      " 21  nausea_treat_ind         336 non-null    float64\n",
      " 22  seizure_treat_ind        336 non-null    float64\n",
      " 23  avg_supply_cnt           336 non-null    float64\n",
      " 24  avg_rx_cost              336 non-null    float64\n",
      " 25  avg_tot_cost             336 non-null    float64\n",
      " 26  avg_metric_strength      336 non-null    float64\n",
      " 27  generic_ind              336 non-null    object \n",
      " 28  maint_ind                336 non-null    object \n",
      " 29  hum_drug_class_desc      336 non-null    object \n",
      " 30  specialty_ind            336 non-null    object \n",
      " 31  rx_count                 336 non-null    float64\n",
      "dtypes: float64(22), object(10)\n",
      "memory usage: 86.6+ KB\n"
     ]
    },
    {
     "output_type": "stream",
     "name": "stderr",
     "text": [
      "<ipython-input-82-423e9c0c9277>:3: SettingWithCopyWarning: \n",
      "A value is trying to be set on a copy of a slice from a DataFrame.\n",
      "Try using .loc[row_indexer,col_indexer] = value instead\n",
      "\n",
      "See the caveats in the documentation: https://pandas.pydata.org/pandas-docs/stable/user_guide/indexing.html#returning-a-view-versus-a-copy\n",
      "  filtered_data.iloc[:, columns_to_fill] = filtered_data.iloc[:, columns_to_fill].fillna(0)\n",
      "<ipython-input-82-423e9c0c9277>:7: SettingWithCopyWarning: \n",
      "A value is trying to be set on a copy of a slice from a DataFrame.\n",
      "Try using .loc[row_indexer,col_indexer] = value instead\n",
      "\n",
      "See the caveats in the documentation: https://pandas.pydata.org/pandas-docs/stable/user_guide/indexing.html#returning-a-view-versus-a-copy\n",
      "  filtered_data.iloc[:, columns_to_fill] = filtered_data.iloc[:, columns_to_fill].fillna('Missing')\n",
      "<ipython-input-82-423e9c0c9277>:10: SettingWithCopyWarning: \n",
      "A value is trying to be set on a copy of a slice from a DataFrame.\n",
      "Try using .loc[row_indexer,col_indexer] = value instead\n",
      "\n",
      "See the caveats in the documentation: https://pandas.pydata.org/pandas-docs/stable/user_guide/indexing.html#returning-a-view-versus-a-copy\n",
      "  filtered_data['est_age'] = filtered_data['est_age'].fillna(median_value)\n"
     ]
    }
   ]
  },
  {
   "cell_type": "code",
   "source": [
    "val_df"
   ],
   "metadata": {
    "id": "E8YvWpmphnLT",
    "colab": {
     "base_uri": "https://localhost:8080/",
     "height": 600
    },
    "executionInfo": {
     "status": "ok",
     "timestamp": 1697376032838,
     "user_tz": 240,
     "elapsed": 139,
     "user": {
      "displayName": "Hao Huang",
      "userId": "01836457921775189398"
     }
    },
    "outputId": "2df3301e-52ab-414c-e5c6-9ea2415a8f28"
   },
   "execution_count": 83,
   "outputs": [
    {
     "output_type": "execute_result",
     "data": {
      "text/plain": [
       "     est_age  cms_disabled_ind  cms_low_income_ind  ade_diagnosis  \\\n",
       "0       75.0               0.0                 0.0            0.0   \n",
       "1       91.0               0.0                 0.0            1.0   \n",
       "2       72.0               0.0                 1.0            0.0   \n",
       "3       67.0               0.0                 1.0            0.0   \n",
       "5       76.0               0.0                 0.0            0.0   \n",
       "..       ...               ...                 ...            ...   \n",
       "414     74.0               0.0                 1.0            0.0   \n",
       "415     81.0               0.0                 0.0            0.0   \n",
       "416     77.0               1.0                 0.0            0.0   \n",
       "417     88.0               0.0                 1.0            0.0   \n",
       "419     34.0               1.0                 1.0            0.0   \n",
       "\n",
       "     seizure_diagnosis  pain_diagnosis  fatigue_diagnosis  nausea_diagnosis  \\\n",
       "0                  0.0             0.0                0.0               0.0   \n",
       "1                  0.0             0.0                1.0               0.0   \n",
       "2                  0.0             0.0                0.0               0.0   \n",
       "3                  0.0             0.0                0.0               0.0   \n",
       "5                  0.0             0.0                0.0               0.0   \n",
       "..                 ...             ...                ...               ...   \n",
       "414                0.0             0.0                0.0               0.0   \n",
       "415                0.0             0.0                0.0               0.0   \n",
       "416                0.0             0.0                0.0               0.0   \n",
       "417                0.0             0.0                0.0               0.0   \n",
       "419                0.0             0.0                0.0               0.0   \n",
       "\n",
       "     hyperglycemia_diagnosis  constipation_diagnosis  ...  seizure_treat_ind  \\\n",
       "0                        0.0                     0.0  ...                0.0   \n",
       "1                        0.0                     1.0  ...                0.0   \n",
       "2                        0.0                     0.0  ...                0.0   \n",
       "3                        0.0                     0.0  ...                0.0   \n",
       "5                        0.0                     0.0  ...                0.0   \n",
       "..                       ...                     ...  ...                ...   \n",
       "414                      0.0                     0.0  ...                0.0   \n",
       "415                      0.0                     0.0  ...                0.0   \n",
       "416                      0.0                     0.0  ...                0.0   \n",
       "417                      0.0                     0.0  ...                0.0   \n",
       "419                      0.0                     0.0  ...                0.0   \n",
       "\n",
       "    avg_supply_cnt   avg_rx_cost  avg_tot_cost avg_metric_strength  \\\n",
       "0        40.454545   1415.578182  47930.384545           83.272727   \n",
       "1        58.363636   4280.634545  42756.142727          150.454545   \n",
       "2        34.200000   3351.896667  28763.489333         6761.833333   \n",
       "3        30.000000     25.462500  18915.337500          133.875000   \n",
       "5        30.000000  15968.890000  11015.225000           80.000000   \n",
       "..             ...           ...           ...                 ...   \n",
       "414      39.829268   1703.997317  51990.388049         2482.499585   \n",
       "415      19.500000   3955.452500  11853.895000           74.500000   \n",
       "416      64.285714     14.668571   9016.427143          396.231928   \n",
       "417      26.428571     73.745714  22861.225714           16.792857   \n",
       "419      30.818182   3900.459091   9929.072727           69.090909   \n",
       "\n",
       "    generic_ind maint_ind                   hum_drug_class_desc  \\\n",
       "0       GENERIC     MAINT      CARDIOLOGY - HYPERTENSION AGENTS   \n",
       "1       GENERIC     MAINT      CARDIOLOGY - HYPERTENSION AGENTS   \n",
       "2       GENERIC  NONMAINT                         MENTAL HEALTH   \n",
       "3       GENERIC     MAINT  ANTI-INFECTIVES - HEPATITIS B AGENTS   \n",
       "5       BRANDED  NONMAINT                          CHEMOTHERAPY   \n",
       "..          ...       ...                                   ...   \n",
       "414     GENERIC  NONMAINT  MENTAL HEALTH - ANTIPSYCHOTIC AGENTS   \n",
       "415     GENERIC  NONMAINT                          CHEMOTHERAPY   \n",
       "416     GENERIC     MAINT                         GENITOURINARY   \n",
       "417     GENERIC     MAINT      CARDIOLOGY - HYPERTENSION AGENTS   \n",
       "419     GENERIC  NONMAINT                          CHEMOTHERAPY   \n",
       "\n",
       "     specialty_ind  rx_count  \n",
       "0          NONSPCL      11.0  \n",
       "1          NONSPCL      11.0  \n",
       "2          NONSPCL      15.0  \n",
       "3          NONSPCL       4.0  \n",
       "5             SPCL       2.0  \n",
       "..             ...       ...  \n",
       "414        NONSPCL      41.0  \n",
       "415        NONSPCL       4.0  \n",
       "416        NONSPCL       7.0  \n",
       "417        NONSPCL       7.0  \n",
       "419        NONSPCL      11.0  \n",
       "\n",
       "[336 rows x 32 columns]"
      ],
      "text/html": [
       "\n",
       "  <div id=\"df-c3a46165-51b4-4f60-914a-c1962eefe789\" class=\"colab-df-container\">\n",
       "    <div>\n",
       "<style scoped>\n",
       "    .dataframe tbody tr th:only-of-type {\n",
       "        vertical-align: middle;\n",
       "    }\n",
       "\n",
       "    .dataframe tbody tr th {\n",
       "        vertical-align: top;\n",
       "    }\n",
       "\n",
       "    .dataframe thead th {\n",
       "        text-align: right;\n",
       "    }\n",
       "</style>\n",
       "<table border=\"1\" class=\"dataframe\">\n",
       "  <thead>\n",
       "    <tr style=\"text-align: right;\">\n",
       "      <th></th>\n",
       "      <th>est_age</th>\n",
       "      <th>cms_disabled_ind</th>\n",
       "      <th>cms_low_income_ind</th>\n",
       "      <th>ade_diagnosis</th>\n",
       "      <th>seizure_diagnosis</th>\n",
       "      <th>pain_diagnosis</th>\n",
       "      <th>fatigue_diagnosis</th>\n",
       "      <th>nausea_diagnosis</th>\n",
       "      <th>hyperglycemia_diagnosis</th>\n",
       "      <th>constipation_diagnosis</th>\n",
       "      <th>...</th>\n",
       "      <th>seizure_treat_ind</th>\n",
       "      <th>avg_supply_cnt</th>\n",
       "      <th>avg_rx_cost</th>\n",
       "      <th>avg_tot_cost</th>\n",
       "      <th>avg_metric_strength</th>\n",
       "      <th>generic_ind</th>\n",
       "      <th>maint_ind</th>\n",
       "      <th>hum_drug_class_desc</th>\n",
       "      <th>specialty_ind</th>\n",
       "      <th>rx_count</th>\n",
       "    </tr>\n",
       "  </thead>\n",
       "  <tbody>\n",
       "    <tr>\n",
       "      <th>0</th>\n",
       "      <td>75.0</td>\n",
       "      <td>0.0</td>\n",
       "      <td>0.0</td>\n",
       "      <td>0.0</td>\n",
       "      <td>0.0</td>\n",
       "      <td>0.0</td>\n",
       "      <td>0.0</td>\n",
       "      <td>0.0</td>\n",
       "      <td>0.0</td>\n",
       "      <td>0.0</td>\n",
       "      <td>...</td>\n",
       "      <td>0.0</td>\n",
       "      <td>40.454545</td>\n",
       "      <td>1415.578182</td>\n",
       "      <td>47930.384545</td>\n",
       "      <td>83.272727</td>\n",
       "      <td>GENERIC</td>\n",
       "      <td>MAINT</td>\n",
       "      <td>CARDIOLOGY - HYPERTENSION AGENTS</td>\n",
       "      <td>NONSPCL</td>\n",
       "      <td>11.0</td>\n",
       "    </tr>\n",
       "    <tr>\n",
       "      <th>1</th>\n",
       "      <td>91.0</td>\n",
       "      <td>0.0</td>\n",
       "      <td>0.0</td>\n",
       "      <td>1.0</td>\n",
       "      <td>0.0</td>\n",
       "      <td>0.0</td>\n",
       "      <td>1.0</td>\n",
       "      <td>0.0</td>\n",
       "      <td>0.0</td>\n",
       "      <td>1.0</td>\n",
       "      <td>...</td>\n",
       "      <td>0.0</td>\n",
       "      <td>58.363636</td>\n",
       "      <td>4280.634545</td>\n",
       "      <td>42756.142727</td>\n",
       "      <td>150.454545</td>\n",
       "      <td>GENERIC</td>\n",
       "      <td>MAINT</td>\n",
       "      <td>CARDIOLOGY - HYPERTENSION AGENTS</td>\n",
       "      <td>NONSPCL</td>\n",
       "      <td>11.0</td>\n",
       "    </tr>\n",
       "    <tr>\n",
       "      <th>2</th>\n",
       "      <td>72.0</td>\n",
       "      <td>0.0</td>\n",
       "      <td>1.0</td>\n",
       "      <td>0.0</td>\n",
       "      <td>0.0</td>\n",
       "      <td>0.0</td>\n",
       "      <td>0.0</td>\n",
       "      <td>0.0</td>\n",
       "      <td>0.0</td>\n",
       "      <td>0.0</td>\n",
       "      <td>...</td>\n",
       "      <td>0.0</td>\n",
       "      <td>34.200000</td>\n",
       "      <td>3351.896667</td>\n",
       "      <td>28763.489333</td>\n",
       "      <td>6761.833333</td>\n",
       "      <td>GENERIC</td>\n",
       "      <td>NONMAINT</td>\n",
       "      <td>MENTAL HEALTH</td>\n",
       "      <td>NONSPCL</td>\n",
       "      <td>15.0</td>\n",
       "    </tr>\n",
       "    <tr>\n",
       "      <th>3</th>\n",
       "      <td>67.0</td>\n",
       "      <td>0.0</td>\n",
       "      <td>1.0</td>\n",
       "      <td>0.0</td>\n",
       "      <td>0.0</td>\n",
       "      <td>0.0</td>\n",
       "      <td>0.0</td>\n",
       "      <td>0.0</td>\n",
       "      <td>0.0</td>\n",
       "      <td>0.0</td>\n",
       "      <td>...</td>\n",
       "      <td>0.0</td>\n",
       "      <td>30.000000</td>\n",
       "      <td>25.462500</td>\n",
       "      <td>18915.337500</td>\n",
       "      <td>133.875000</td>\n",
       "      <td>GENERIC</td>\n",
       "      <td>MAINT</td>\n",
       "      <td>ANTI-INFECTIVES - HEPATITIS B AGENTS</td>\n",
       "      <td>NONSPCL</td>\n",
       "      <td>4.0</td>\n",
       "    </tr>\n",
       "    <tr>\n",
       "      <th>5</th>\n",
       "      <td>76.0</td>\n",
       "      <td>0.0</td>\n",
       "      <td>0.0</td>\n",
       "      <td>0.0</td>\n",
       "      <td>0.0</td>\n",
       "      <td>0.0</td>\n",
       "      <td>0.0</td>\n",
       "      <td>0.0</td>\n",
       "      <td>0.0</td>\n",
       "      <td>0.0</td>\n",
       "      <td>...</td>\n",
       "      <td>0.0</td>\n",
       "      <td>30.000000</td>\n",
       "      <td>15968.890000</td>\n",
       "      <td>11015.225000</td>\n",
       "      <td>80.000000</td>\n",
       "      <td>BRANDED</td>\n",
       "      <td>NONMAINT</td>\n",
       "      <td>CHEMOTHERAPY</td>\n",
       "      <td>SPCL</td>\n",
       "      <td>2.0</td>\n",
       "    </tr>\n",
       "    <tr>\n",
       "      <th>...</th>\n",
       "      <td>...</td>\n",
       "      <td>...</td>\n",
       "      <td>...</td>\n",
       "      <td>...</td>\n",
       "      <td>...</td>\n",
       "      <td>...</td>\n",
       "      <td>...</td>\n",
       "      <td>...</td>\n",
       "      <td>...</td>\n",
       "      <td>...</td>\n",
       "      <td>...</td>\n",
       "      <td>...</td>\n",
       "      <td>...</td>\n",
       "      <td>...</td>\n",
       "      <td>...</td>\n",
       "      <td>...</td>\n",
       "      <td>...</td>\n",
       "      <td>...</td>\n",
       "      <td>...</td>\n",
       "      <td>...</td>\n",
       "      <td>...</td>\n",
       "    </tr>\n",
       "    <tr>\n",
       "      <th>414</th>\n",
       "      <td>74.0</td>\n",
       "      <td>0.0</td>\n",
       "      <td>1.0</td>\n",
       "      <td>0.0</td>\n",
       "      <td>0.0</td>\n",
       "      <td>0.0</td>\n",
       "      <td>0.0</td>\n",
       "      <td>0.0</td>\n",
       "      <td>0.0</td>\n",
       "      <td>0.0</td>\n",
       "      <td>...</td>\n",
       "      <td>0.0</td>\n",
       "      <td>39.829268</td>\n",
       "      <td>1703.997317</td>\n",
       "      <td>51990.388049</td>\n",
       "      <td>2482.499585</td>\n",
       "      <td>GENERIC</td>\n",
       "      <td>NONMAINT</td>\n",
       "      <td>MENTAL HEALTH - ANTIPSYCHOTIC AGENTS</td>\n",
       "      <td>NONSPCL</td>\n",
       "      <td>41.0</td>\n",
       "    </tr>\n",
       "    <tr>\n",
       "      <th>415</th>\n",
       "      <td>81.0</td>\n",
       "      <td>0.0</td>\n",
       "      <td>0.0</td>\n",
       "      <td>0.0</td>\n",
       "      <td>0.0</td>\n",
       "      <td>0.0</td>\n",
       "      <td>0.0</td>\n",
       "      <td>0.0</td>\n",
       "      <td>0.0</td>\n",
       "      <td>0.0</td>\n",
       "      <td>...</td>\n",
       "      <td>0.0</td>\n",
       "      <td>19.500000</td>\n",
       "      <td>3955.452500</td>\n",
       "      <td>11853.895000</td>\n",
       "      <td>74.500000</td>\n",
       "      <td>GENERIC</td>\n",
       "      <td>NONMAINT</td>\n",
       "      <td>CHEMOTHERAPY</td>\n",
       "      <td>NONSPCL</td>\n",
       "      <td>4.0</td>\n",
       "    </tr>\n",
       "    <tr>\n",
       "      <th>416</th>\n",
       "      <td>77.0</td>\n",
       "      <td>1.0</td>\n",
       "      <td>0.0</td>\n",
       "      <td>0.0</td>\n",
       "      <td>0.0</td>\n",
       "      <td>0.0</td>\n",
       "      <td>0.0</td>\n",
       "      <td>0.0</td>\n",
       "      <td>0.0</td>\n",
       "      <td>0.0</td>\n",
       "      <td>...</td>\n",
       "      <td>0.0</td>\n",
       "      <td>64.285714</td>\n",
       "      <td>14.668571</td>\n",
       "      <td>9016.427143</td>\n",
       "      <td>396.231928</td>\n",
       "      <td>GENERIC</td>\n",
       "      <td>MAINT</td>\n",
       "      <td>GENITOURINARY</td>\n",
       "      <td>NONSPCL</td>\n",
       "      <td>7.0</td>\n",
       "    </tr>\n",
       "    <tr>\n",
       "      <th>417</th>\n",
       "      <td>88.0</td>\n",
       "      <td>0.0</td>\n",
       "      <td>1.0</td>\n",
       "      <td>0.0</td>\n",
       "      <td>0.0</td>\n",
       "      <td>0.0</td>\n",
       "      <td>0.0</td>\n",
       "      <td>0.0</td>\n",
       "      <td>0.0</td>\n",
       "      <td>0.0</td>\n",
       "      <td>...</td>\n",
       "      <td>0.0</td>\n",
       "      <td>26.428571</td>\n",
       "      <td>73.745714</td>\n",
       "      <td>22861.225714</td>\n",
       "      <td>16.792857</td>\n",
       "      <td>GENERIC</td>\n",
       "      <td>MAINT</td>\n",
       "      <td>CARDIOLOGY - HYPERTENSION AGENTS</td>\n",
       "      <td>NONSPCL</td>\n",
       "      <td>7.0</td>\n",
       "    </tr>\n",
       "    <tr>\n",
       "      <th>419</th>\n",
       "      <td>34.0</td>\n",
       "      <td>1.0</td>\n",
       "      <td>1.0</td>\n",
       "      <td>0.0</td>\n",
       "      <td>0.0</td>\n",
       "      <td>0.0</td>\n",
       "      <td>0.0</td>\n",
       "      <td>0.0</td>\n",
       "      <td>0.0</td>\n",
       "      <td>0.0</td>\n",
       "      <td>...</td>\n",
       "      <td>0.0</td>\n",
       "      <td>30.818182</td>\n",
       "      <td>3900.459091</td>\n",
       "      <td>9929.072727</td>\n",
       "      <td>69.090909</td>\n",
       "      <td>GENERIC</td>\n",
       "      <td>NONMAINT</td>\n",
       "      <td>CHEMOTHERAPY</td>\n",
       "      <td>NONSPCL</td>\n",
       "      <td>11.0</td>\n",
       "    </tr>\n",
       "  </tbody>\n",
       "</table>\n",
       "<p>336 rows × 32 columns</p>\n",
       "</div>\n",
       "    <div class=\"colab-df-buttons\">\n",
       "\n",
       "  <div class=\"colab-df-container\">\n",
       "    <button class=\"colab-df-convert\" onclick=\"convertToInteractive('df-c3a46165-51b4-4f60-914a-c1962eefe789')\"\n",
       "            title=\"Convert this dataframe to an interactive table.\"\n",
       "            style=\"display:none;\">\n",
       "\n",
       "  <svg xmlns=\"http://www.w3.org/2000/svg\" height=\"24px\" viewBox=\"0 -960 960 960\">\n",
       "    <path d=\"M120-120v-720h720v720H120Zm60-500h600v-160H180v160Zm220 220h160v-160H400v160Zm0 220h160v-160H400v160ZM180-400h160v-160H180v160Zm440 0h160v-160H620v160ZM180-180h160v-160H180v160Zm440 0h160v-160H620v160Z\"/>\n",
       "  </svg>\n",
       "    </button>\n",
       "\n",
       "  <style>\n",
       "    .colab-df-container {\n",
       "      display:flex;\n",
       "      gap: 12px;\n",
       "    }\n",
       "\n",
       "    .colab-df-convert {\n",
       "      background-color: #E8F0FE;\n",
       "      border: none;\n",
       "      border-radius: 50%;\n",
       "      cursor: pointer;\n",
       "      display: none;\n",
       "      fill: #1967D2;\n",
       "      height: 32px;\n",
       "      padding: 0 0 0 0;\n",
       "      width: 32px;\n",
       "    }\n",
       "\n",
       "    .colab-df-convert:hover {\n",
       "      background-color: #E2EBFA;\n",
       "      box-shadow: 0px 1px 2px rgba(60, 64, 67, 0.3), 0px 1px 3px 1px rgba(60, 64, 67, 0.15);\n",
       "      fill: #174EA6;\n",
       "    }\n",
       "\n",
       "    .colab-df-buttons div {\n",
       "      margin-bottom: 4px;\n",
       "    }\n",
       "\n",
       "    [theme=dark] .colab-df-convert {\n",
       "      background-color: #3B4455;\n",
       "      fill: #D2E3FC;\n",
       "    }\n",
       "\n",
       "    [theme=dark] .colab-df-convert:hover {\n",
       "      background-color: #434B5C;\n",
       "      box-shadow: 0px 1px 3px 1px rgba(0, 0, 0, 0.15);\n",
       "      filter: drop-shadow(0px 1px 2px rgba(0, 0, 0, 0.3));\n",
       "      fill: #FFFFFF;\n",
       "    }\n",
       "  </style>\n",
       "\n",
       "    <script>\n",
       "      const buttonEl =\n",
       "        document.querySelector('#df-c3a46165-51b4-4f60-914a-c1962eefe789 button.colab-df-convert');\n",
       "      buttonEl.style.display =\n",
       "        google.colab.kernel.accessAllowed ? 'block' : 'none';\n",
       "\n",
       "      async function convertToInteractive(key) {\n",
       "        const element = document.querySelector('#df-c3a46165-51b4-4f60-914a-c1962eefe789');\n",
       "        const dataTable =\n",
       "          await google.colab.kernel.invokeFunction('convertToInteractive',\n",
       "                                                    [key], {});\n",
       "        if (!dataTable) return;\n",
       "\n",
       "        const docLinkHtml = 'Like what you see? Visit the ' +\n",
       "          '<a target=\"_blank\" href=https://colab.research.google.com/notebooks/data_table.ipynb>data table notebook</a>'\n",
       "          + ' to learn more about interactive tables.';\n",
       "        element.innerHTML = '';\n",
       "        dataTable['output_type'] = 'display_data';\n",
       "        await google.colab.output.renderOutput(dataTable, element);\n",
       "        const docLink = document.createElement('div');\n",
       "        docLink.innerHTML = docLinkHtml;\n",
       "        element.appendChild(docLink);\n",
       "      }\n",
       "    </script>\n",
       "  </div>\n",
       "\n",
       "\n",
       "<div id=\"df-7ddbfc8b-683b-44ce-84c5-51853bf897f4\">\n",
       "  <button class=\"colab-df-quickchart\" onclick=\"quickchart('df-7ddbfc8b-683b-44ce-84c5-51853bf897f4')\"\n",
       "            title=\"Suggest charts.\"\n",
       "            style=\"display:none;\">\n",
       "\n",
       "<svg xmlns=\"http://www.w3.org/2000/svg\" height=\"24px\"viewBox=\"0 0 24 24\"\n",
       "     width=\"24px\">\n",
       "    <g>\n",
       "        <path d=\"M19 3H5c-1.1 0-2 .9-2 2v14c0 1.1.9 2 2 2h14c1.1 0 2-.9 2-2V5c0-1.1-.9-2-2-2zM9 17H7v-7h2v7zm4 0h-2V7h2v10zm4 0h-2v-4h2v4z\"/>\n",
       "    </g>\n",
       "</svg>\n",
       "  </button>\n",
       "\n",
       "<style>\n",
       "  .colab-df-quickchart {\n",
       "      --bg-color: #E8F0FE;\n",
       "      --fill-color: #1967D2;\n",
       "      --hover-bg-color: #E2EBFA;\n",
       "      --hover-fill-color: #174EA6;\n",
       "      --disabled-fill-color: #AAA;\n",
       "      --disabled-bg-color: #DDD;\n",
       "  }\n",
       "\n",
       "  [theme=dark] .colab-df-quickchart {\n",
       "      --bg-color: #3B4455;\n",
       "      --fill-color: #D2E3FC;\n",
       "      --hover-bg-color: #434B5C;\n",
       "      --hover-fill-color: #FFFFFF;\n",
       "      --disabled-bg-color: #3B4455;\n",
       "      --disabled-fill-color: #666;\n",
       "  }\n",
       "\n",
       "  .colab-df-quickchart {\n",
       "    background-color: var(--bg-color);\n",
       "    border: none;\n",
       "    border-radius: 50%;\n",
       "    cursor: pointer;\n",
       "    display: none;\n",
       "    fill: var(--fill-color);\n",
       "    height: 32px;\n",
       "    padding: 0;\n",
       "    width: 32px;\n",
       "  }\n",
       "\n",
       "  .colab-df-quickchart:hover {\n",
       "    background-color: var(--hover-bg-color);\n",
       "    box-shadow: 0 1px 2px rgba(60, 64, 67, 0.3), 0 1px 3px 1px rgba(60, 64, 67, 0.15);\n",
       "    fill: var(--button-hover-fill-color);\n",
       "  }\n",
       "\n",
       "  .colab-df-quickchart-complete:disabled,\n",
       "  .colab-df-quickchart-complete:disabled:hover {\n",
       "    background-color: var(--disabled-bg-color);\n",
       "    fill: var(--disabled-fill-color);\n",
       "    box-shadow: none;\n",
       "  }\n",
       "\n",
       "  .colab-df-spinner {\n",
       "    border: 2px solid var(--fill-color);\n",
       "    border-color: transparent;\n",
       "    border-bottom-color: var(--fill-color);\n",
       "    animation:\n",
       "      spin 1s steps(1) infinite;\n",
       "  }\n",
       "\n",
       "  @keyframes spin {\n",
       "    0% {\n",
       "      border-color: transparent;\n",
       "      border-bottom-color: var(--fill-color);\n",
       "      border-left-color: var(--fill-color);\n",
       "    }\n",
       "    20% {\n",
       "      border-color: transparent;\n",
       "      border-left-color: var(--fill-color);\n",
       "      border-top-color: var(--fill-color);\n",
       "    }\n",
       "    30% {\n",
       "      border-color: transparent;\n",
       "      border-left-color: var(--fill-color);\n",
       "      border-top-color: var(--fill-color);\n",
       "      border-right-color: var(--fill-color);\n",
       "    }\n",
       "    40% {\n",
       "      border-color: transparent;\n",
       "      border-right-color: var(--fill-color);\n",
       "      border-top-color: var(--fill-color);\n",
       "    }\n",
       "    60% {\n",
       "      border-color: transparent;\n",
       "      border-right-color: var(--fill-color);\n",
       "    }\n",
       "    80% {\n",
       "      border-color: transparent;\n",
       "      border-right-color: var(--fill-color);\n",
       "      border-bottom-color: var(--fill-color);\n",
       "    }\n",
       "    90% {\n",
       "      border-color: transparent;\n",
       "      border-bottom-color: var(--fill-color);\n",
       "    }\n",
       "  }\n",
       "</style>\n",
       "\n",
       "  <script>\n",
       "    async function quickchart(key) {\n",
       "      const quickchartButtonEl =\n",
       "        document.querySelector('#' + key + ' button');\n",
       "      quickchartButtonEl.disabled = true;  // To prevent multiple clicks.\n",
       "      quickchartButtonEl.classList.add('colab-df-spinner');\n",
       "      try {\n",
       "        const charts = await google.colab.kernel.invokeFunction(\n",
       "            'suggestCharts', [key], {});\n",
       "      } catch (error) {\n",
       "        console.error('Error during call to suggestCharts:', error);\n",
       "      }\n",
       "      quickchartButtonEl.classList.remove('colab-df-spinner');\n",
       "      quickchartButtonEl.classList.add('colab-df-quickchart-complete');\n",
       "    }\n",
       "    (() => {\n",
       "      let quickchartButtonEl =\n",
       "        document.querySelector('#df-7ddbfc8b-683b-44ce-84c5-51853bf897f4 button');\n",
       "      quickchartButtonEl.style.display =\n",
       "        google.colab.kernel.accessAllowed ? 'block' : 'none';\n",
       "    })();\n",
       "  </script>\n",
       "</div>\n",
       "    </div>\n",
       "  </div>\n"
      ]
     },
     "metadata": {},
     "execution_count": 83
    }
   ]
  },
  {
   "cell_type": "markdown",
   "source": [
    "## **Adversial Selection**"
   ],
   "metadata": {
    "id": "wIEm0eepL9tJ"
   }
  },
  {
   "cell_type": "code",
   "source": [
    "features = list(val_df.columns)\n",
    "\n",
    "train_df['is_train'] = 1\n",
    "val_df['is_train'] = 0\n",
    "target = 'is_train'\n",
    "all_cols = features + [target]"
   ],
   "metadata": {
    "id": "6XSBSBHCQpOX",
    "colab": {
     "base_uri": "https://localhost:8080/"
    },
    "executionInfo": {
     "status": "ok",
     "timestamp": 1697376032972,
     "user_tz": 240,
     "elapsed": 144,
     "user": {
      "displayName": "Hao Huang",
      "userId": "01836457921775189398"
     }
    },
    "outputId": "c6980ea2-eebb-4262-fae5-4ab1726c6ddc"
   },
   "execution_count": 84,
   "outputs": [
    {
     "output_type": "stream",
     "name": "stderr",
     "text": [
      "<ipython-input-84-675ee93419bf>:4: SettingWithCopyWarning: \n",
      "A value is trying to be set on a copy of a slice from a DataFrame.\n",
      "Try using .loc[row_indexer,col_indexer] = value instead\n",
      "\n",
      "See the caveats in the documentation: https://pandas.pydata.org/pandas-docs/stable/user_guide/indexing.html#returning-a-view-versus-a-copy\n",
      "  val_df['is_train'] = 0\n"
     ]
    }
   ]
  },
  {
   "cell_type": "code",
   "source": [
    "df = pd.concat([train_df[all_cols], val_df], axis = 0)\n",
    "df = df.sample(frac = 1, random_state = 42)\n",
    "\n",
    "X = df.drop(['is_train'], axis = 1)\n",
    "y = df['is_train']\n",
    "\n"
   ],
   "metadata": {
    "id": "0DuaqJzMEIFV",
    "executionInfo": {
     "status": "ok",
     "timestamp": 1697376032972,
     "user_tz": 240,
     "elapsed": 9,
     "user": {
      "displayName": "Hao Huang",
      "userId": "01836457921775189398"
     }
    }
   },
   "execution_count": 85,
   "outputs": []
  },
  {
   "cell_type": "code",
   "source": [
    "xgb_model = xgb.XGBClassifier(max_depth=3,\n",
    "                          learning_rate = 0.1,\n",
    "                          n_estimators = 100,\n",
    "                          objective = 'binary:logistic',\n",
    "                          random_state = 42,\n",
    "                          enable_categorical=True)"
   ],
   "metadata": {
    "id": "gHqR45jAFFmr",
    "executionInfo": {
     "status": "ok",
     "timestamp": 1697376032973,
     "user_tz": 240,
     "elapsed": 9,
     "user": {
      "displayName": "Hao Huang",
      "userId": "01836457921775189398"
     }
    }
   },
   "execution_count": 86,
   "outputs": []
  },
  {
   "cell_type": "code",
   "source": [
    "# adv_scores = []\n",
    "# for i, (train_val, test_val) in enumerate(cv.split(X,y)):\n",
    "#     X_train, X_test = X.iloc[train_val], X.iloc[test_val]\n",
    "#     y_train, y_test = y.iloc[train_val], y.iloc[test_val]\n",
    "\n",
    "#     X_train.loc[:, X_train.dtypes == 'object'] =\\\n",
    "#     X_train.select_dtypes(['object'])\\\n",
    "#     .apply(lambda x: x.astype('category'))\n",
    "\n",
    "#     X_test.loc[:, X_test.dtypes == 'object'] =\\\n",
    "#     X_test.select_dtypes(['object'])\\\n",
    "#     .apply(lambda x: x.astype('category'))\n",
    "\n",
    "#     # y_train.loc[:, y_train.dtypes == 'object'] =\\\n",
    "#     # y_train.select_dtypes(['object'])\\\n",
    "#     # .apply(lambda x: x.astype('category'))\n",
    "\n",
    "#     # y_test.loc[:, y_test.dtypes == 'object'] =\\\n",
    "#     # y_test.select_dtypes(['object'])\\\n",
    "#     # .apply(lambda x: x.astype('category'))\n",
    "\n",
    "#     xgb_model.fit(X_train, y_train)\n",
    "\n",
    "#     y_pred = xgb_model.predict_proba(X_test)[:,1]\n",
    "#     score = roc_auc_score(y_test, y_pred)\n",
    "#     adv_scores.append(score)\n",
    "\n",
    "#     print(f\"Fold {i+1} AUC Score: {score:.5f}\")"
   ],
   "metadata": {
    "id": "2nhpdUTIFZSw",
    "executionInfo": {
     "status": "ok",
     "timestamp": 1697376032973,
     "user_tz": 240,
     "elapsed": 9,
     "user": {
      "displayName": "Hao Huang",
      "userId": "01836457921775189398"
     }
    }
   },
   "execution_count": 87,
   "outputs": []
  },
  {
   "cell_type": "code",
   "source": [
    "# !pip install shap\n",
    "# import shap\n",
    "# shap_values = shap.TreeExplainer(xgb_model).shap_values(X_test)\n",
    "# shap.summary_plot(shap_values, X_test, plot_type=\"bar\")"
   ],
   "metadata": {
    "id": "h-V2IeSAFgwK",
    "executionInfo": {
     "status": "ok",
     "timestamp": 1697376032973,
     "user_tz": 240,
     "elapsed": 8,
     "user": {
      "displayName": "Hao Huang",
      "userId": "01836457921775189398"
     }
    }
   },
   "execution_count": 88,
   "outputs": []
  },
  {
   "cell_type": "code",
   "source": [
    "# X = X.drop('avg_diag_count', axis = 1)\n",
    "\n",
    "# adv_scores = []\n",
    "# for i, (train_val, test_val) in enumerate(cv.split(X,y)):\n",
    "#     X_train, X_test = X.iloc[train_val], X.iloc[test_val]\n",
    "#     y_train, y_test = y.iloc[train_val], y.iloc[test_val]\n",
    "\n",
    "#     xgb_model.fit(X_train, y_train)\n",
    "\n",
    "#     y_pred = xgb_model.predict_proba(X_test)[:,1]\n",
    "#     score = roc_auc_score(y_test, y_pred)\n",
    "#     adv_scores.append(score)\n",
    "\n",
    "#     print(f\"Fold {i+1} AUC Score: {score:.5f}\")"
   ],
   "metadata": {
    "id": "ZEMm21GsGBqL",
    "executionInfo": {
     "status": "ok",
     "timestamp": 1697376032973,
     "user_tz": 240,
     "elapsed": 7,
     "user": {
      "displayName": "Hao Huang",
      "userId": "01836457921775189398"
     }
    }
   },
   "execution_count": 89,
   "outputs": []
  },
  {
   "cell_type": "code",
   "source": [
    "x_train = pd.DataFrame()\n",
    "x_val = pd.DataFrame()\n",
    "y_train = pd.DataFrame()\n",
    "y_val = pd.DataFrame()\n",
    "\n",
    "train_data_group, val_data_group = model_selection.train_test_split(df, test_size = 0.2, random_state=42)\n",
    "x_train_group = train_data_group.drop('is_train', axis = 1)\n",
    "x_val_group  = val_data_group.drop('is_train', axis = 1)\n",
    "y_train_group = train_data_group['is_train']\n",
    "y_val_group  = val_data_group['is_train']\n",
    "\n",
    "x_train = x_train.append(x_train_group)\n",
    "x_val = x_val.append(x_val_group)\n",
    "y_train = y_train.append(pd.DataFrame(y_train_group.to_numpy().reshape(-1, 1)))\n",
    "y_val = y_val.append(pd.DataFrame(y_val_group.to_numpy().reshape(-1, 1)))\n",
    "\n",
    "x_train.loc[:, x_train.dtypes == 'object'] =\\\n",
    "    x_train.select_dtypes(['object'])\\\n",
    "    .apply(lambda x: x.astype('category'))\n",
    "\n",
    "x_val.loc[:, x_val.dtypes == 'object'] =\\\n",
    "    x_val.select_dtypes(['object'])\\\n",
    "    .apply(lambda x: x.astype('category'))\n",
    "\n",
    "y_train.loc[:, y_train.dtypes == 'object'] =\\\n",
    "    y_train.select_dtypes(['object'])\\\n",
    "    .apply(lambda x: x.astype('category'))\n",
    "\n",
    "y_val.loc[:, y_val.dtypes == 'object'] =\\\n",
    "    y_val.select_dtypes(['object'])\\\n",
    "    .apply(lambda x: x.astype('category'))\n",
    "\n",
    "X.loc[:, X.dtypes == 'object'] =\\\n",
    "    X.select_dtypes(['object'])\\\n",
    "    .apply(lambda x: x.astype('category'))\n",
    "\n",
    "xgb_model.fit(x_train, y_train)\n",
    "\n",
    "prob = xgb_model.predict_proba(X)\n",
    "auc = roc_auc_score(y, prob[:,1])\n",
    "print(\"AUC = {:0.4f}\".format(auc))\n",
    "\n",
    "df['score'] = prob[:,1]\n",
    "\n",
    "# sorting w.r.t name column\n",
    "df.sort_values('score', inplace = True, ascending=True)"
   ],
   "metadata": {
    "id": "evx6KdIeImly",
    "colab": {
     "base_uri": "https://localhost:8080/"
    },
    "executionInfo": {
     "status": "ok",
     "timestamp": 1697376034128,
     "user_tz": 240,
     "elapsed": 1161,
     "user": {
      "displayName": "Hao Huang",
      "userId": "01836457921775189398"
     }
    },
    "outputId": "ca786fd9-d9c1-4dd3-d347-730e9ea57f8a"
   },
   "execution_count": 90,
   "outputs": [
    {
     "output_type": "stream",
     "name": "stderr",
     "text": [
      "<ipython-input-90-4b1eef7d4a15>:12: FutureWarning: The frame.append method is deprecated and will be removed from pandas in a future version. Use pandas.concat instead.\n",
      "  x_train = x_train.append(x_train_group)\n",
      "<ipython-input-90-4b1eef7d4a15>:13: FutureWarning: The frame.append method is deprecated and will be removed from pandas in a future version. Use pandas.concat instead.\n",
      "  x_val = x_val.append(x_val_group)\n",
      "<ipython-input-90-4b1eef7d4a15>:14: FutureWarning: The frame.append method is deprecated and will be removed from pandas in a future version. Use pandas.concat instead.\n",
      "  y_train = y_train.append(pd.DataFrame(y_train_group.to_numpy().reshape(-1, 1)))\n",
      "<ipython-input-90-4b1eef7d4a15>:15: FutureWarning: The frame.append method is deprecated and will be removed from pandas in a future version. Use pandas.concat instead.\n",
      "  y_val = y_val.append(pd.DataFrame(y_val_group.to_numpy().reshape(-1, 1)))\n"
     ]
    },
    {
     "output_type": "stream",
     "name": "stdout",
     "text": [
      "AUC = 0.8358\n"
     ]
    }
   ]
  },
  {
   "cell_type": "code",
   "source": [
    "df = df[df['is_train'] == 1].iloc[:772,:]\n",
    "df.drop(columns = [\"is_train\"], inplace = True)\n",
    "df.info()"
   ],
   "metadata": {
    "id": "G9HIKPZmNlVe",
    "colab": {
     "base_uri": "https://localhost:8080/"
    },
    "executionInfo": {
     "status": "ok",
     "timestamp": 1697376034128,
     "user_tz": 240,
     "elapsed": 10,
     "user": {
      "displayName": "Hao Huang",
      "userId": "01836457921775189398"
     }
    },
    "outputId": "6952bddc-7ecc-48fb-e274-8e07d980741f"
   },
   "execution_count": 91,
   "outputs": [
    {
     "output_type": "stream",
     "name": "stdout",
     "text": [
      "<class 'pandas.core.frame.DataFrame'>\n",
      "Int64Index: 772 entries, 109 to 881\n",
      "Data columns (total 33 columns):\n",
      " #   Column                   Non-Null Count  Dtype  \n",
      "---  ------                   --------------  -----  \n",
      " 0   est_age                  772 non-null    float64\n",
      " 1   cms_disabled_ind         772 non-null    float64\n",
      " 2   cms_low_income_ind       772 non-null    float64\n",
      " 3   ade_diagnosis            772 non-null    float64\n",
      " 4   seizure_diagnosis        772 non-null    float64\n",
      " 5   pain_diagnosis           772 non-null    float64\n",
      " 6   fatigue_diagnosis        772 non-null    float64\n",
      " 7   nausea_diagnosis         772 non-null    float64\n",
      " 8   hyperglycemia_diagnosis  772 non-null    float64\n",
      " 9   constipation_diagnosis   772 non-null    float64\n",
      " 10  diarrhea_diagnosis       772 non-null    float64\n",
      " 11  primary_diag_cd          772 non-null    object \n",
      " 12  diag_cd2                 772 non-null    object \n",
      " 13  diag_cd3                 772 non-null    object \n",
      " 14  pot                      772 non-null    object \n",
      " 15  util_cat                 772 non-null    object \n",
      " 16  hedis_pot                772 non-null    object \n",
      " 17  med_count                772 non-null    float64\n",
      " 18  ddi_ind                  772 non-null    float64\n",
      " 19  anticoag_ind             772 non-null    float64\n",
      " 20  diarrhea_treat_ind       772 non-null    float64\n",
      " 21  nausea_treat_ind         772 non-null    float64\n",
      " 22  seizure_treat_ind        772 non-null    float64\n",
      " 23  avg_supply_cnt           772 non-null    float64\n",
      " 24  avg_rx_cost              772 non-null    float64\n",
      " 25  avg_tot_cost             772 non-null    float64\n",
      " 26  avg_metric_strength      772 non-null    float64\n",
      " 27  generic_ind              772 non-null    object \n",
      " 28  maint_ind                772 non-null    object \n",
      " 29  hum_drug_class_desc      772 non-null    object \n",
      " 30  specialty_ind            772 non-null    object \n",
      " 31  rx_count                 772 non-null    float64\n",
      " 32  score                    772 non-null    float32\n",
      "dtypes: float32(1), float64(22), object(10)\n",
      "memory usage: 202.0+ KB\n"
     ]
    }
   ]
  },
  {
   "cell_type": "code",
   "source": [
    "correlation_matrix = df.corr()\n",
    "high_correlation_pairs = []\n",
    "threshold = 0.65\n",
    "\n",
    "for i in range(len(correlation_matrix.columns)):\n",
    "    for j in range(i + 1, len(correlation_matrix.columns)):\n",
    "        if abs(correlation_matrix.iloc[i, j]) > threshold:\n",
    "            high_correlation_pairs.append((correlation_matrix.columns[i], correlation_matrix.columns[j], correlation_matrix.iloc[i, j]))\n",
    "\n",
    "print(\"Highly correlated feature pairs:\")\n",
    "for feature1, feature2, corr_value in high_correlation_pairs:\n",
    "    print(f\"{feature1} - {feature2}: {corr_value}\")"
   ],
   "metadata": {
    "id": "9hcL6kfVUYkb",
    "colab": {
     "base_uri": "https://localhost:8080/"
    },
    "executionInfo": {
     "status": "ok",
     "timestamp": 1697376034276,
     "user_tz": 240,
     "elapsed": 154,
     "user": {
      "displayName": "Hao Huang",
      "userId": "01836457921775189398"
     }
    },
    "outputId": "e55c9953-763a-4f9b-a830-bfa50afdfd28"
   },
   "execution_count": 92,
   "outputs": [
    {
     "output_type": "stream",
     "name": "stdout",
     "text": [
      "Highly correlated feature pairs:\n",
      "ade_diagnosis - fatigue_diagnosis: 0.6966586921393674\n"
     ]
    },
    {
     "output_type": "stream",
     "name": "stderr",
     "text": [
      "<ipython-input-92-1ef2372151c8>:1: FutureWarning: The default value of numeric_only in DataFrame.corr is deprecated. In a future version, it will default to False. Select only valid columns or specify the value of numeric_only to silence this warning.\n",
      "  correlation_matrix = df.corr()\n"
     ]
    }
   ]
  },
  {
   "cell_type": "code",
   "source": [
    "x_train = train_df.loc[df.index.tolist()]\n",
    "other_df = train_df.index.isin(df.index.tolist())\n",
    "x_test = train_df.loc[~other_df]\n",
    "\n",
    "encoder = CatBoostEncoder()\n",
    "categorical_columns = [i for i in range(11,17)] + [i for i in range(27,31)]\n",
    "\n",
    "# Fit the encoder on df1 categorical features and target variable\n",
    "encoder.fit(x_train.iloc[:,categorical_columns], x_train['ground_truth'])\n",
    "\n",
    "# Transform both dataframes using the fitted encoder\n",
    "encoded_df1 = encoder.transform(x_train.iloc[:,categorical_columns])\n",
    "encoded_df2 = encoder.transform(x_test.iloc[:,categorical_columns])\n",
    "\n",
    "x_train.update(encoded_df1)\n",
    "x_test.update(encoded_df2)"
   ],
   "metadata": {
    "id": "H-o0Z4bjQha3",
    "colab": {
     "base_uri": "https://localhost:8080/"
    },
    "executionInfo": {
     "status": "ok",
     "timestamp": 1697376034423,
     "user_tz": 240,
     "elapsed": 155,
     "user": {
      "displayName": "Hao Huang",
      "userId": "01836457921775189398"
     }
    },
    "outputId": "3bd5db44-fac9-4bf3-c2be-0b6085bc3e93"
   },
   "execution_count": 93,
   "outputs": [
    {
     "output_type": "stream",
     "name": "stderr",
     "text": [
      "<ipython-input-93-f7c50a36e218>:16: SettingWithCopyWarning: \n",
      "A value is trying to be set on a copy of a slice from a DataFrame.\n",
      "Try using .loc[row_indexer,col_indexer] = value instead\n",
      "\n",
      "See the caveats in the documentation: https://pandas.pydata.org/pandas-docs/stable/user_guide/indexing.html#returning-a-view-versus-a-copy\n",
      "  x_test.update(encoded_df2)\n",
      "<ipython-input-93-f7c50a36e218>:16: SettingWithCopyWarning: \n",
      "A value is trying to be set on a copy of a slice from a DataFrame.\n",
      "Try using .loc[row_indexer,col_indexer] = value instead\n",
      "\n",
      "See the caveats in the documentation: https://pandas.pydata.org/pandas-docs/stable/user_guide/indexing.html#returning-a-view-versus-a-copy\n",
      "  x_test.update(encoded_df2)\n",
      "<ipython-input-93-f7c50a36e218>:16: SettingWithCopyWarning: \n",
      "A value is trying to be set on a copy of a slice from a DataFrame.\n",
      "Try using .loc[row_indexer,col_indexer] = value instead\n",
      "\n",
      "See the caveats in the documentation: https://pandas.pydata.org/pandas-docs/stable/user_guide/indexing.html#returning-a-view-versus-a-copy\n",
      "  x_test.update(encoded_df2)\n",
      "<ipython-input-93-f7c50a36e218>:16: SettingWithCopyWarning: \n",
      "A value is trying to be set on a copy of a slice from a DataFrame.\n",
      "Try using .loc[row_indexer,col_indexer] = value instead\n",
      "\n",
      "See the caveats in the documentation: https://pandas.pydata.org/pandas-docs/stable/user_guide/indexing.html#returning-a-view-versus-a-copy\n",
      "  x_test.update(encoded_df2)\n",
      "<ipython-input-93-f7c50a36e218>:16: SettingWithCopyWarning: \n",
      "A value is trying to be set on a copy of a slice from a DataFrame.\n",
      "Try using .loc[row_indexer,col_indexer] = value instead\n",
      "\n",
      "See the caveats in the documentation: https://pandas.pydata.org/pandas-docs/stable/user_guide/indexing.html#returning-a-view-versus-a-copy\n",
      "  x_test.update(encoded_df2)\n",
      "<ipython-input-93-f7c50a36e218>:16: SettingWithCopyWarning: \n",
      "A value is trying to be set on a copy of a slice from a DataFrame.\n",
      "Try using .loc[row_indexer,col_indexer] = value instead\n",
      "\n",
      "See the caveats in the documentation: https://pandas.pydata.org/pandas-docs/stable/user_guide/indexing.html#returning-a-view-versus-a-copy\n",
      "  x_test.update(encoded_df2)\n",
      "<ipython-input-93-f7c50a36e218>:16: SettingWithCopyWarning: \n",
      "A value is trying to be set on a copy of a slice from a DataFrame.\n",
      "Try using .loc[row_indexer,col_indexer] = value instead\n",
      "\n",
      "See the caveats in the documentation: https://pandas.pydata.org/pandas-docs/stable/user_guide/indexing.html#returning-a-view-versus-a-copy\n",
      "  x_test.update(encoded_df2)\n",
      "<ipython-input-93-f7c50a36e218>:16: SettingWithCopyWarning: \n",
      "A value is trying to be set on a copy of a slice from a DataFrame.\n",
      "Try using .loc[row_indexer,col_indexer] = value instead\n",
      "\n",
      "See the caveats in the documentation: https://pandas.pydata.org/pandas-docs/stable/user_guide/indexing.html#returning-a-view-versus-a-copy\n",
      "  x_test.update(encoded_df2)\n",
      "<ipython-input-93-f7c50a36e218>:16: SettingWithCopyWarning: \n",
      "A value is trying to be set on a copy of a slice from a DataFrame.\n",
      "Try using .loc[row_indexer,col_indexer] = value instead\n",
      "\n",
      "See the caveats in the documentation: https://pandas.pydata.org/pandas-docs/stable/user_guide/indexing.html#returning-a-view-versus-a-copy\n",
      "  x_test.update(encoded_df2)\n",
      "<ipython-input-93-f7c50a36e218>:16: SettingWithCopyWarning: \n",
      "A value is trying to be set on a copy of a slice from a DataFrame.\n",
      "Try using .loc[row_indexer,col_indexer] = value instead\n",
      "\n",
      "See the caveats in the documentation: https://pandas.pydata.org/pandas-docs/stable/user_guide/indexing.html#returning-a-view-versus-a-copy\n",
      "  x_test.update(encoded_df2)\n"
     ]
    }
   ]
  },
  {
   "cell_type": "code",
   "source": [
    "x_train.drop(columns='is_train', inplace = True)\n",
    "x_test.drop(columns='is_train', inplace = True)\n",
    "\n",
    "y_train = x_train['ground_truth']\n",
    "y_test = x_test['ground_truth']\n",
    "\n",
    "x_train = x_train.drop('ground_truth', axis = 1)\n",
    "x_test = x_test.drop('ground_truth', axis = 1)\n",
    "\n",
    "\n",
    "x_train.loc[:, x_train.dtypes == 'object'] =\\\n",
    "    x_train.select_dtypes(['object'])\\\n",
    "    .apply(lambda x: x.astype('float'))\n",
    "\n",
    "x_test.loc[:, x_test.dtypes == 'object'] =\\\n",
    "    x_test.select_dtypes(['object'])\\\n",
    "    .apply(lambda x: x.astype('float'))"
   ],
   "metadata": {
    "id": "RUwhBZeGA6O4",
    "colab": {
     "base_uri": "https://localhost:8080/"
    },
    "executionInfo": {
     "status": "ok",
     "timestamp": 1697376034423,
     "user_tz": 240,
     "elapsed": 18,
     "user": {
      "displayName": "Hao Huang",
      "userId": "01836457921775189398"
     }
    },
    "outputId": "23fc9530-fb00-46c6-e296-4a4a92e31234"
   },
   "execution_count": 94,
   "outputs": [
    {
     "output_type": "stream",
     "name": "stderr",
     "text": [
      "<ipython-input-94-73e96d9f268e>:2: SettingWithCopyWarning: \n",
      "A value is trying to be set on a copy of a slice from a DataFrame\n",
      "\n",
      "See the caveats in the documentation: https://pandas.pydata.org/pandas-docs/stable/user_guide/indexing.html#returning-a-view-versus-a-copy\n",
      "  x_test.drop(columns='is_train', inplace = True)\n"
     ]
    }
   ]
  },
  {
   "cell_type": "code",
   "source": [
    "x_train.info()"
   ],
   "metadata": {
    "id": "YPVNYKDV_mGp",
    "colab": {
     "base_uri": "https://localhost:8080/"
    },
    "executionInfo": {
     "status": "ok",
     "timestamp": 1697376034423,
     "user_tz": 240,
     "elapsed": 12,
     "user": {
      "displayName": "Hao Huang",
      "userId": "01836457921775189398"
     }
    },
    "outputId": "02f92b13-410d-449c-b13f-e6410d772ddd"
   },
   "execution_count": 95,
   "outputs": [
    {
     "output_type": "stream",
     "name": "stdout",
     "text": [
      "<class 'pandas.core.frame.DataFrame'>\n",
      "Int64Index: 772 entries, 109 to 881\n",
      "Data columns (total 32 columns):\n",
      " #   Column                   Non-Null Count  Dtype  \n",
      "---  ------                   --------------  -----  \n",
      " 0   est_age                  772 non-null    float64\n",
      " 1   cms_disabled_ind         772 non-null    float64\n",
      " 2   cms_low_income_ind       772 non-null    float64\n",
      " 3   ade_diagnosis            772 non-null    float64\n",
      " 4   seizure_diagnosis        772 non-null    float64\n",
      " 5   pain_diagnosis           772 non-null    float64\n",
      " 6   fatigue_diagnosis        772 non-null    float64\n",
      " 7   nausea_diagnosis         772 non-null    float64\n",
      " 8   hyperglycemia_diagnosis  772 non-null    float64\n",
      " 9   constipation_diagnosis   772 non-null    float64\n",
      " 10  diarrhea_diagnosis       772 non-null    float64\n",
      " 11  primary_diag_cd          772 non-null    float64\n",
      " 12  diag_cd2                 772 non-null    float64\n",
      " 13  diag_cd3                 772 non-null    float64\n",
      " 14  pot                      772 non-null    float64\n",
      " 15  util_cat                 772 non-null    float64\n",
      " 16  hedis_pot                772 non-null    float64\n",
      " 17  med_count                772 non-null    float64\n",
      " 18  ddi_ind                  772 non-null    float64\n",
      " 19  anticoag_ind             772 non-null    float64\n",
      " 20  diarrhea_treat_ind       772 non-null    float64\n",
      " 21  nausea_treat_ind         772 non-null    float64\n",
      " 22  seizure_treat_ind        772 non-null    float64\n",
      " 23  avg_supply_cnt           772 non-null    float64\n",
      " 24  avg_rx_cost              772 non-null    float64\n",
      " 25  avg_tot_cost             772 non-null    float64\n",
      " 26  avg_metric_strength      772 non-null    float64\n",
      " 27  generic_ind              772 non-null    float64\n",
      " 28  maint_ind                772 non-null    float64\n",
      " 29  hum_drug_class_desc      772 non-null    float64\n",
      " 30  specialty_ind            772 non-null    float64\n",
      " 31  rx_count                 772 non-null    float64\n",
      "dtypes: float64(32)\n",
      "memory usage: 199.0 KB\n"
     ]
    }
   ]
  },
  {
   "cell_type": "code",
   "source": [
    "x_test.info()"
   ],
   "metadata": {
    "id": "0lGOrbpm_orI",
    "colab": {
     "base_uri": "https://localhost:8080/"
    },
    "executionInfo": {
     "status": "ok",
     "timestamp": 1697376034424,
     "user_tz": 240,
     "elapsed": 10,
     "user": {
      "displayName": "Hao Huang",
      "userId": "01836457921775189398"
     }
    },
    "outputId": "f06bb910-a487-49d8-d010-164e0317603f"
   },
   "execution_count": 96,
   "outputs": [
    {
     "output_type": "stream",
     "name": "stdout",
     "text": [
      "<class 'pandas.core.frame.DataFrame'>\n",
      "Int64Index: 331 entries, 2 to 1225\n",
      "Data columns (total 32 columns):\n",
      " #   Column                   Non-Null Count  Dtype  \n",
      "---  ------                   --------------  -----  \n",
      " 0   est_age                  331 non-null    float64\n",
      " 1   cms_disabled_ind         331 non-null    float64\n",
      " 2   cms_low_income_ind       331 non-null    float64\n",
      " 3   ade_diagnosis            331 non-null    float64\n",
      " 4   seizure_diagnosis        331 non-null    float64\n",
      " 5   pain_diagnosis           331 non-null    float64\n",
      " 6   fatigue_diagnosis        331 non-null    float64\n",
      " 7   nausea_diagnosis         331 non-null    float64\n",
      " 8   hyperglycemia_diagnosis  331 non-null    float64\n",
      " 9   constipation_diagnosis   331 non-null    float64\n",
      " 10  diarrhea_diagnosis       331 non-null    float64\n",
      " 11  primary_diag_cd          331 non-null    float64\n",
      " 12  diag_cd2                 331 non-null    float64\n",
      " 13  diag_cd3                 331 non-null    float64\n",
      " 14  pot                      331 non-null    float64\n",
      " 15  util_cat                 331 non-null    float64\n",
      " 16  hedis_pot                331 non-null    float64\n",
      " 17  med_count                331 non-null    float64\n",
      " 18  ddi_ind                  331 non-null    float64\n",
      " 19  anticoag_ind             331 non-null    float64\n",
      " 20  diarrhea_treat_ind       331 non-null    float64\n",
      " 21  nausea_treat_ind         331 non-null    float64\n",
      " 22  seizure_treat_ind        331 non-null    float64\n",
      " 23  avg_supply_cnt           331 non-null    float64\n",
      " 24  avg_rx_cost              331 non-null    float64\n",
      " 25  avg_tot_cost             331 non-null    float64\n",
      " 26  avg_metric_strength      331 non-null    float64\n",
      " 27  generic_ind              331 non-null    float64\n",
      " 28  maint_ind                331 non-null    float64\n",
      " 29  hum_drug_class_desc      331 non-null    float64\n",
      " 30  specialty_ind            331 non-null    float64\n",
      " 31  rx_count                 331 non-null    float64\n",
      "dtypes: float64(32)\n",
      "memory usage: 85.3 KB\n"
     ]
    }
   ]
  },
  {
   "cell_type": "code",
   "source": [
    "encoded_df3 = encoder.transform(val_df.iloc[:,categorical_columns])\n",
    "val_df.update(encoded_df3)\n",
    "val_df.drop(columns='is_train', inplace = True)\n",
    "val_df.loc[:, val_df.dtypes == 'object'] =\\\n",
    "    val_df.select_dtypes(['object'])\\\n",
    "    .apply(lambda x: x.astype('float'))\n",
    "val_df.info()"
   ],
   "metadata": {
    "id": "J8kPQ0C1HUpe",
    "colab": {
     "base_uri": "https://localhost:8080/"
    },
    "executionInfo": {
     "status": "ok",
     "timestamp": 1697376034732,
     "user_tz": 240,
     "elapsed": 316,
     "user": {
      "displayName": "Hao Huang",
      "userId": "01836457921775189398"
     }
    },
    "outputId": "ff7690ba-5f9a-45b7-9ca7-6a4821586539"
   },
   "execution_count": 97,
   "outputs": [
    {
     "output_type": "stream",
     "name": "stderr",
     "text": [
      "<ipython-input-97-161c4d92af60>:2: SettingWithCopyWarning: \n",
      "A value is trying to be set on a copy of a slice from a DataFrame.\n",
      "Try using .loc[row_indexer,col_indexer] = value instead\n",
      "\n",
      "See the caveats in the documentation: https://pandas.pydata.org/pandas-docs/stable/user_guide/indexing.html#returning-a-view-versus-a-copy\n",
      "  val_df.update(encoded_df3)\n",
      "<ipython-input-97-161c4d92af60>:2: SettingWithCopyWarning: \n",
      "A value is trying to be set on a copy of a slice from a DataFrame.\n",
      "Try using .loc[row_indexer,col_indexer] = value instead\n",
      "\n",
      "See the caveats in the documentation: https://pandas.pydata.org/pandas-docs/stable/user_guide/indexing.html#returning-a-view-versus-a-copy\n",
      "  val_df.update(encoded_df3)\n",
      "<ipython-input-97-161c4d92af60>:2: SettingWithCopyWarning: \n",
      "A value is trying to be set on a copy of a slice from a DataFrame.\n",
      "Try using .loc[row_indexer,col_indexer] = value instead\n",
      "\n",
      "See the caveats in the documentation: https://pandas.pydata.org/pandas-docs/stable/user_guide/indexing.html#returning-a-view-versus-a-copy\n",
      "  val_df.update(encoded_df3)\n",
      "<ipython-input-97-161c4d92af60>:2: SettingWithCopyWarning: \n",
      "A value is trying to be set on a copy of a slice from a DataFrame.\n",
      "Try using .loc[row_indexer,col_indexer] = value instead\n",
      "\n",
      "See the caveats in the documentation: https://pandas.pydata.org/pandas-docs/stable/user_guide/indexing.html#returning-a-view-versus-a-copy\n",
      "  val_df.update(encoded_df3)\n",
      "<ipython-input-97-161c4d92af60>:2: SettingWithCopyWarning: \n",
      "A value is trying to be set on a copy of a slice from a DataFrame.\n",
      "Try using .loc[row_indexer,col_indexer] = value instead\n",
      "\n",
      "See the caveats in the documentation: https://pandas.pydata.org/pandas-docs/stable/user_guide/indexing.html#returning-a-view-versus-a-copy\n",
      "  val_df.update(encoded_df3)\n",
      "<ipython-input-97-161c4d92af60>:2: SettingWithCopyWarning: \n",
      "A value is trying to be set on a copy of a slice from a DataFrame.\n",
      "Try using .loc[row_indexer,col_indexer] = value instead\n",
      "\n",
      "See the caveats in the documentation: https://pandas.pydata.org/pandas-docs/stable/user_guide/indexing.html#returning-a-view-versus-a-copy\n",
      "  val_df.update(encoded_df3)\n",
      "<ipython-input-97-161c4d92af60>:2: SettingWithCopyWarning: \n",
      "A value is trying to be set on a copy of a slice from a DataFrame.\n",
      "Try using .loc[row_indexer,col_indexer] = value instead\n",
      "\n",
      "See the caveats in the documentation: https://pandas.pydata.org/pandas-docs/stable/user_guide/indexing.html#returning-a-view-versus-a-copy\n",
      "  val_df.update(encoded_df3)\n",
      "<ipython-input-97-161c4d92af60>:2: SettingWithCopyWarning: \n",
      "A value is trying to be set on a copy of a slice from a DataFrame.\n",
      "Try using .loc[row_indexer,col_indexer] = value instead\n",
      "\n",
      "See the caveats in the documentation: https://pandas.pydata.org/pandas-docs/stable/user_guide/indexing.html#returning-a-view-versus-a-copy\n",
      "  val_df.update(encoded_df3)\n",
      "<ipython-input-97-161c4d92af60>:2: SettingWithCopyWarning: \n",
      "A value is trying to be set on a copy of a slice from a DataFrame.\n",
      "Try using .loc[row_indexer,col_indexer] = value instead\n",
      "\n",
      "See the caveats in the documentation: https://pandas.pydata.org/pandas-docs/stable/user_guide/indexing.html#returning-a-view-versus-a-copy\n",
      "  val_df.update(encoded_df3)\n",
      "<ipython-input-97-161c4d92af60>:2: SettingWithCopyWarning: \n",
      "A value is trying to be set on a copy of a slice from a DataFrame.\n",
      "Try using .loc[row_indexer,col_indexer] = value instead\n",
      "\n",
      "See the caveats in the documentation: https://pandas.pydata.org/pandas-docs/stable/user_guide/indexing.html#returning-a-view-versus-a-copy\n",
      "  val_df.update(encoded_df3)\n",
      "<ipython-input-97-161c4d92af60>:3: SettingWithCopyWarning: \n",
      "A value is trying to be set on a copy of a slice from a DataFrame\n",
      "\n",
      "See the caveats in the documentation: https://pandas.pydata.org/pandas-docs/stable/user_guide/indexing.html#returning-a-view-versus-a-copy\n",
      "  val_df.drop(columns='is_train', inplace = True)\n",
      "<ipython-input-97-161c4d92af60>:4: SettingWithCopyWarning: \n",
      "A value is trying to be set on a copy of a slice from a DataFrame.\n",
      "Try using .loc[row_indexer,col_indexer] = value instead\n",
      "\n",
      "See the caveats in the documentation: https://pandas.pydata.org/pandas-docs/stable/user_guide/indexing.html#returning-a-view-versus-a-copy\n",
      "  val_df.loc[:, val_df.dtypes == 'object'] =\\\n"
     ]
    },
    {
     "output_type": "stream",
     "name": "stdout",
     "text": [
      "<class 'pandas.core.frame.DataFrame'>\n",
      "Int64Index: 336 entries, 0 to 419\n",
      "Data columns (total 32 columns):\n",
      " #   Column                   Non-Null Count  Dtype  \n",
      "---  ------                   --------------  -----  \n",
      " 0   est_age                  336 non-null    float64\n",
      " 1   cms_disabled_ind         336 non-null    float64\n",
      " 2   cms_low_income_ind       336 non-null    float64\n",
      " 3   ade_diagnosis            336 non-null    float64\n",
      " 4   seizure_diagnosis        336 non-null    float64\n",
      " 5   pain_diagnosis           336 non-null    float64\n",
      " 6   fatigue_diagnosis        336 non-null    float64\n",
      " 7   nausea_diagnosis         336 non-null    float64\n",
      " 8   hyperglycemia_diagnosis  336 non-null    float64\n",
      " 9   constipation_diagnosis   336 non-null    float64\n",
      " 10  diarrhea_diagnosis       336 non-null    float64\n",
      " 11  primary_diag_cd          336 non-null    float64\n",
      " 12  diag_cd2                 336 non-null    float64\n",
      " 13  diag_cd3                 336 non-null    float64\n",
      " 14  pot                      336 non-null    float64\n",
      " 15  util_cat                 336 non-null    float64\n",
      " 16  hedis_pot                336 non-null    float64\n",
      " 17  med_count                336 non-null    float64\n",
      " 18  ddi_ind                  336 non-null    float64\n",
      " 19  anticoag_ind             336 non-null    float64\n",
      " 20  diarrhea_treat_ind       336 non-null    float64\n",
      " 21  nausea_treat_ind         336 non-null    float64\n",
      " 22  seizure_treat_ind        336 non-null    float64\n",
      " 23  avg_supply_cnt           336 non-null    float64\n",
      " 24  avg_rx_cost              336 non-null    float64\n",
      " 25  avg_tot_cost             336 non-null    float64\n",
      " 26  avg_metric_strength      336 non-null    float64\n",
      " 27  generic_ind              336 non-null    float64\n",
      " 28  maint_ind                336 non-null    float64\n",
      " 29  hum_drug_class_desc      336 non-null    float64\n",
      " 30  specialty_ind            336 non-null    float64\n",
      " 31  rx_count                 336 non-null    float64\n",
      "dtypes: float64(32)\n",
      "memory usage: 86.6 KB\n"
     ]
    }
   ]
  },
  {
   "cell_type": "code",
   "source": [
    "lazy_people_val.info()"
   ],
   "metadata": {
    "id": "LVJ2-E0FwijC",
    "colab": {
     "base_uri": "https://localhost:8080/"
    },
    "executionInfo": {
     "status": "ok",
     "timestamp": 1697376034732,
     "user_tz": 240,
     "elapsed": 12,
     "user": {
      "displayName": "Hao Huang",
      "userId": "01836457921775189398"
     }
    },
    "outputId": "b68ceafa-1f48-4d15-f790-6bde6f144832"
   },
   "execution_count": 98,
   "outputs": [
    {
     "output_type": "stream",
     "name": "stdout",
     "text": [
      "<class 'pandas.core.frame.DataFrame'>\n",
      "Int64Index: 84 entries, 4 to 418\n",
      "Data columns (total 37 columns):\n",
      " #   Column                   Non-Null Count  Dtype  \n",
      "---  ------                   --------------  -----  \n",
      " 0   id                       84 non-null     int64  \n",
      " 1   therapy_id               84 non-null     object \n",
      " 2   therapy_start_date       84 non-null     object \n",
      " 3   race_cd                  70 non-null     float64\n",
      " 4   est_age                  58 non-null     float64\n",
      " 5   sex_cd                   58 non-null     object \n",
      " 6   cms_disabled_ind         58 non-null     float64\n",
      " 7   cms_low_income_ind       58 non-null     float64\n",
      " 8   ade_diagnosis            0 non-null      float64\n",
      " 9   seizure_diagnosis        0 non-null      float64\n",
      " 10  pain_diagnosis           0 non-null      float64\n",
      " 11  fatigue_diagnosis        0 non-null      float64\n",
      " 12  nausea_diagnosis         0 non-null      float64\n",
      " 13  hyperglycemia_diagnosis  0 non-null      float64\n",
      " 14  constipation_diagnosis   0 non-null      float64\n",
      " 15  diarrhea_diagnosis       0 non-null      float64\n",
      " 16  primary_diag_cd          0 non-null      object \n",
      " 17  diag_cd2                 0 non-null      object \n",
      " 18  diag_cd3                 0 non-null      object \n",
      " 19  pot                      0 non-null      object \n",
      " 20  util_cat                 0 non-null      object \n",
      " 21  hedis_pot                0 non-null      object \n",
      " 22  med_count                84 non-null     float64\n",
      " 23  ddi_ind                  0 non-null      float64\n",
      " 24  anticoag_ind             0 non-null      float64\n",
      " 25  diarrhea_treat_ind       0 non-null      float64\n",
      " 26  nausea_treat_ind         0 non-null      float64\n",
      " 27  seizure_treat_ind        0 non-null      float64\n",
      " 28  avg_supply_cnt           0 non-null      float64\n",
      " 29  avg_rx_cost              0 non-null      float64\n",
      " 30  avg_tot_cost             0 non-null      float64\n",
      " 31  avg_metric_strength      0 non-null      float64\n",
      " 32  generic_ind              0 non-null      object \n",
      " 33  maint_ind                0 non-null      object \n",
      " 34  hum_drug_class_desc      0 non-null      object \n",
      " 35  specialty_ind            0 non-null      object \n",
      " 36  rx_count                 84 non-null     float64\n",
      "dtypes: float64(23), int64(1), object(13)\n",
      "memory usage: 24.9+ KB\n"
     ]
    }
   ]
  },
  {
   "cell_type": "markdown",
   "source": [
    "## **Model building**"
   ],
   "metadata": {
    "id": "8x7xOQh1IbHP"
   }
  },
  {
   "cell_type": "code",
   "source": [
    "initial_pred = pd.DataFrame()"
   ],
   "metadata": {
    "id": "e_ZIUzfPIamn",
    "executionInfo": {
     "status": "ok",
     "timestamp": 1697376034732,
     "user_tz": 240,
     "elapsed": 6,
     "user": {
      "displayName": "Hao Huang",
      "userId": "01836457921775189398"
     }
    }
   },
   "execution_count": 99,
   "outputs": []
  },
  {
   "cell_type": "code",
   "source": [
    "#Adaboost\n",
    "\n",
    "bdt = AdaBoostClassifier(\n",
    "    estimator=tree.DecisionTreeClassifier(max_depth=3), algorithm ='SAMME', learning_rate = 0.5, n_estimators = 400\n",
    ")\n",
    "bdt.fit(x_train,y_train)"
   ],
   "metadata": {
    "id": "_Tr8sBoINXxi",
    "colab": {
     "base_uri": "https://localhost:8080/",
     "height": 117
    },
    "executionInfo": {
     "status": "ok",
     "timestamp": 1697376038067,
     "user_tz": 240,
     "elapsed": 3340,
     "user": {
      "displayName": "Hao Huang",
      "userId": "01836457921775189398"
     }
    },
    "outputId": "3030bddb-373f-4434-bb2e-ffe68cbd53ad"
   },
   "execution_count": 100,
   "outputs": [
    {
     "output_type": "execute_result",
     "data": {
      "text/plain": [
       "AdaBoostClassifier(algorithm='SAMME',\n",
       "                   estimator=DecisionTreeClassifier(max_depth=3),\n",
       "                   learning_rate=0.5, n_estimators=400)"
      ],
      "text/html": [
       "<style>#sk-container-id-1 {color: black;background-color: white;}#sk-container-id-1 pre{padding: 0;}#sk-container-id-1 div.sk-toggleable {background-color: white;}#sk-container-id-1 label.sk-toggleable__label {cursor: pointer;display: block;width: 100%;margin-bottom: 0;padding: 0.3em;box-sizing: border-box;text-align: center;}#sk-container-id-1 label.sk-toggleable__label-arrow:before {content: \"▸\";float: left;margin-right: 0.25em;color: #696969;}#sk-container-id-1 label.sk-toggleable__label-arrow:hover:before {color: black;}#sk-container-id-1 div.sk-estimator:hover label.sk-toggleable__label-arrow:before {color: black;}#sk-container-id-1 div.sk-toggleable__content {max-height: 0;max-width: 0;overflow: hidden;text-align: left;background-color: #f0f8ff;}#sk-container-id-1 div.sk-toggleable__content pre {margin: 0.2em;color: black;border-radius: 0.25em;background-color: #f0f8ff;}#sk-container-id-1 input.sk-toggleable__control:checked~div.sk-toggleable__content {max-height: 200px;max-width: 100%;overflow: auto;}#sk-container-id-1 input.sk-toggleable__control:checked~label.sk-toggleable__label-arrow:before {content: \"▾\";}#sk-container-id-1 div.sk-estimator input.sk-toggleable__control:checked~label.sk-toggleable__label {background-color: #d4ebff;}#sk-container-id-1 div.sk-label input.sk-toggleable__control:checked~label.sk-toggleable__label {background-color: #d4ebff;}#sk-container-id-1 input.sk-hidden--visually {border: 0;clip: rect(1px 1px 1px 1px);clip: rect(1px, 1px, 1px, 1px);height: 1px;margin: -1px;overflow: hidden;padding: 0;position: absolute;width: 1px;}#sk-container-id-1 div.sk-estimator {font-family: monospace;background-color: #f0f8ff;border: 1px dotted black;border-radius: 0.25em;box-sizing: border-box;margin-bottom: 0.5em;}#sk-container-id-1 div.sk-estimator:hover {background-color: #d4ebff;}#sk-container-id-1 div.sk-parallel-item::after {content: \"\";width: 100%;border-bottom: 1px solid gray;flex-grow: 1;}#sk-container-id-1 div.sk-label:hover label.sk-toggleable__label {background-color: #d4ebff;}#sk-container-id-1 div.sk-serial::before {content: \"\";position: absolute;border-left: 1px solid gray;box-sizing: border-box;top: 0;bottom: 0;left: 50%;z-index: 0;}#sk-container-id-1 div.sk-serial {display: flex;flex-direction: column;align-items: center;background-color: white;padding-right: 0.2em;padding-left: 0.2em;position: relative;}#sk-container-id-1 div.sk-item {position: relative;z-index: 1;}#sk-container-id-1 div.sk-parallel {display: flex;align-items: stretch;justify-content: center;background-color: white;position: relative;}#sk-container-id-1 div.sk-item::before, #sk-container-id-1 div.sk-parallel-item::before {content: \"\";position: absolute;border-left: 1px solid gray;box-sizing: border-box;top: 0;bottom: 0;left: 50%;z-index: -1;}#sk-container-id-1 div.sk-parallel-item {display: flex;flex-direction: column;z-index: 1;position: relative;background-color: white;}#sk-container-id-1 div.sk-parallel-item:first-child::after {align-self: flex-end;width: 50%;}#sk-container-id-1 div.sk-parallel-item:last-child::after {align-self: flex-start;width: 50%;}#sk-container-id-1 div.sk-parallel-item:only-child::after {width: 0;}#sk-container-id-1 div.sk-dashed-wrapped {border: 1px dashed gray;margin: 0 0.4em 0.5em 0.4em;box-sizing: border-box;padding-bottom: 0.4em;background-color: white;}#sk-container-id-1 div.sk-label label {font-family: monospace;font-weight: bold;display: inline-block;line-height: 1.2em;}#sk-container-id-1 div.sk-label-container {text-align: center;}#sk-container-id-1 div.sk-container {/* jupyter's `normalize.less` sets `[hidden] { display: none; }` but bootstrap.min.css set `[hidden] { display: none !important; }` so we also need the `!important` here to be able to override the default hidden behavior on the sphinx rendered scikit-learn.org. See: https://github.com/scikit-learn/scikit-learn/issues/21755 */display: inline-block !important;position: relative;}#sk-container-id-1 div.sk-text-repr-fallback {display: none;}</style><div id=\"sk-container-id-1\" class=\"sk-top-container\"><div class=\"sk-text-repr-fallback\"><pre>AdaBoostClassifier(algorithm=&#x27;SAMME&#x27;,\n",
       "                   estimator=DecisionTreeClassifier(max_depth=3),\n",
       "                   learning_rate=0.5, n_estimators=400)</pre><b>In a Jupyter environment, please rerun this cell to show the HTML representation or trust the notebook. <br />On GitHub, the HTML representation is unable to render, please try loading this page with nbviewer.org.</b></div><div class=\"sk-container\" hidden><div class=\"sk-item sk-dashed-wrapped\"><div class=\"sk-label-container\"><div class=\"sk-label sk-toggleable\"><input class=\"sk-toggleable__control sk-hidden--visually\" id=\"sk-estimator-id-1\" type=\"checkbox\" ><label for=\"sk-estimator-id-1\" class=\"sk-toggleable__label sk-toggleable__label-arrow\">AdaBoostClassifier</label><div class=\"sk-toggleable__content\"><pre>AdaBoostClassifier(algorithm=&#x27;SAMME&#x27;,\n",
       "                   estimator=DecisionTreeClassifier(max_depth=3),\n",
       "                   learning_rate=0.5, n_estimators=400)</pre></div></div></div><div class=\"sk-parallel\"><div class=\"sk-parallel-item\"><div class=\"sk-item\"><div class=\"sk-label-container\"><div class=\"sk-label sk-toggleable\"><input class=\"sk-toggleable__control sk-hidden--visually\" id=\"sk-estimator-id-2\" type=\"checkbox\" ><label for=\"sk-estimator-id-2\" class=\"sk-toggleable__label sk-toggleable__label-arrow\">estimator: DecisionTreeClassifier</label><div class=\"sk-toggleable__content\"><pre>DecisionTreeClassifier(max_depth=3)</pre></div></div></div><div class=\"sk-serial\"><div class=\"sk-item\"><div class=\"sk-estimator sk-toggleable\"><input class=\"sk-toggleable__control sk-hidden--visually\" id=\"sk-estimator-id-3\" type=\"checkbox\" ><label for=\"sk-estimator-id-3\" class=\"sk-toggleable__label sk-toggleable__label-arrow\">DecisionTreeClassifier</label><div class=\"sk-toggleable__content\"><pre>DecisionTreeClassifier(max_depth=3)</pre></div></div></div></div></div></div></div></div></div></div>"
      ]
     },
     "metadata": {},
     "execution_count": 100
    }
   ]
  },
  {
   "cell_type": "code",
   "source": [
    "prob = bdt.predict(x_test)\n",
    "initial_pred['ada'] = prob\n",
    "auc = roc_auc_score(y_test, prob)\n",
    "# RocCurveDisplay.from_predictions(y_val, prob, name=\"AdaBoost\")\n",
    "print(\"AUC = {:0.4f}\".format(auc))\n",
    "print(\"Accuracy:\",metrics.accuracy_score(y_test, prob))\n"
   ],
   "metadata": {
    "id": "ftTVLyxINX-s",
    "colab": {
     "base_uri": "https://localhost:8080/"
    },
    "executionInfo": {
     "status": "ok",
     "timestamp": 1697376038068,
     "user_tz": 240,
     "elapsed": 23,
     "user": {
      "displayName": "Hao Huang",
      "userId": "01836457921775189398"
     }
    },
    "outputId": "9e623352-7b44-4402-8ab2-003c31139fd3"
   },
   "execution_count": 101,
   "outputs": [
    {
     "output_type": "stream",
     "name": "stdout",
     "text": [
      "AUC = 0.6856\n",
      "Accuracy: 0.918429003021148\n"
     ]
    }
   ]
  },
  {
   "cell_type": "code",
   "source": [
    "# parameters = [{'n_estimators':[350,400,450], 'learning_rate':[0.1,0.5,1]}]\n",
    "\n",
    "# search = GridSearchCV(AdaBoostClassifier(tree.DecisionTreeClassifier(max_depth=3)), param_grid=parameters, scoring='roc_auc')\n",
    "# search.fit(x_train, y_train)\n",
    "\n",
    "# print(\"Best parameters set found on development set:\")\n",
    "# print()\n",
    "# print(search.best_params_)\n",
    "# print()\n",
    "# print(\"Grid scores on development set:\")\n",
    "# print()\n",
    "# means = search.cv_results_['mean_test_score']\n",
    "# stds = search.cv_results_['std_test_score']\n",
    "# for mean, std, params in zip(means, stds, search.cv_results_['params']):\n",
    "#     print(\"%0.3f (+/-%0.03f) for %r\"\n",
    "#             % (mean, std * 2, params))"
   ],
   "metadata": {
    "id": "bfjsdvNnUl8b",
    "executionInfo": {
     "status": "ok",
     "timestamp": 1697376038068,
     "user_tz": 240,
     "elapsed": 21,
     "user": {
      "displayName": "Hao Huang",
      "userId": "01836457921775189398"
     }
    }
   },
   "execution_count": 102,
   "outputs": []
  },
  {
   "cell_type": "code",
   "source": [
    "xgb_clf = xgb.XGBClassifier(\n",
    "    n_estimators=300,  # Number of boosting rounds (trees)\n",
    "    max_depth=2,        # Maximum depth of each tree\n",
    "    learning_rate=0.01,  # Learning rate (shrinkage)\n",
    "    subsample=0.8,      # Fraction of samples used for training each tree\n",
    "    colsample_bytree=0.8,  # Fraction of features used for training each tree\n",
    "    random_state=42,\n",
    "    growth_policy='depthwise'\n",
    ")\n",
    "xgb_clf.fit(x_train, y_train)"
   ],
   "metadata": {
    "id": "w579DlRSTIkb",
    "colab": {
     "base_uri": "https://localhost:8080/",
     "height": 339
    },
    "executionInfo": {
     "status": "ok",
     "timestamp": 1697376038068,
     "user_tz": 240,
     "elapsed": 21,
     "user": {
      "displayName": "Hao Huang",
      "userId": "01836457921775189398"
     }
    },
    "outputId": "f964e5c1-7812-4514-fd48-2e07080f11c7"
   },
   "execution_count": 103,
   "outputs": [
    {
     "output_type": "stream",
     "name": "stderr",
     "text": [
      "/usr/local/lib/python3.10/dist-packages/xgboost/core.py:160: UserWarning: [13:20:36] WARNING: /workspace/src/learner.cc:742: \n",
      "Parameters: { \"growth_policy\" } are not used.\n",
      "\n",
      "  warnings.warn(smsg, UserWarning)\n"
     ]
    },
    {
     "output_type": "execute_result",
     "data": {
      "text/plain": [
       "XGBClassifier(base_score=None, booster=None, callbacks=None,\n",
       "              colsample_bylevel=None, colsample_bynode=None,\n",
       "              colsample_bytree=0.8, device=None, early_stopping_rounds=None,\n",
       "              enable_categorical=False, eval_metric=None, feature_types=None,\n",
       "              gamma=None, grow_policy=None, growth_policy='depthwise',\n",
       "              importance_type=None, interaction_constraints=None,\n",
       "              learning_rate=0.01, max_bin=None, max_cat_threshold=None,\n",
       "              max_cat_to_onehot=None, max_delta_step=None, max_depth=2,\n",
       "              max_leaves=None, min_child_weight=None, missing=nan,\n",
       "              monotone_constraints=None, multi_strategy=None, n_estimators=300,\n",
       "              n_jobs=None, num_parallel_tree=None, ...)"
      ],
      "text/html": [
       "<style>#sk-container-id-2 {color: black;background-color: white;}#sk-container-id-2 pre{padding: 0;}#sk-container-id-2 div.sk-toggleable {background-color: white;}#sk-container-id-2 label.sk-toggleable__label {cursor: pointer;display: block;width: 100%;margin-bottom: 0;padding: 0.3em;box-sizing: border-box;text-align: center;}#sk-container-id-2 label.sk-toggleable__label-arrow:before {content: \"▸\";float: left;margin-right: 0.25em;color: #696969;}#sk-container-id-2 label.sk-toggleable__label-arrow:hover:before {color: black;}#sk-container-id-2 div.sk-estimator:hover label.sk-toggleable__label-arrow:before {color: black;}#sk-container-id-2 div.sk-toggleable__content {max-height: 0;max-width: 0;overflow: hidden;text-align: left;background-color: #f0f8ff;}#sk-container-id-2 div.sk-toggleable__content pre {margin: 0.2em;color: black;border-radius: 0.25em;background-color: #f0f8ff;}#sk-container-id-2 input.sk-toggleable__control:checked~div.sk-toggleable__content {max-height: 200px;max-width: 100%;overflow: auto;}#sk-container-id-2 input.sk-toggleable__control:checked~label.sk-toggleable__label-arrow:before {content: \"▾\";}#sk-container-id-2 div.sk-estimator input.sk-toggleable__control:checked~label.sk-toggleable__label {background-color: #d4ebff;}#sk-container-id-2 div.sk-label input.sk-toggleable__control:checked~label.sk-toggleable__label {background-color: #d4ebff;}#sk-container-id-2 input.sk-hidden--visually {border: 0;clip: rect(1px 1px 1px 1px);clip: rect(1px, 1px, 1px, 1px);height: 1px;margin: -1px;overflow: hidden;padding: 0;position: absolute;width: 1px;}#sk-container-id-2 div.sk-estimator {font-family: monospace;background-color: #f0f8ff;border: 1px dotted black;border-radius: 0.25em;box-sizing: border-box;margin-bottom: 0.5em;}#sk-container-id-2 div.sk-estimator:hover {background-color: #d4ebff;}#sk-container-id-2 div.sk-parallel-item::after {content: \"\";width: 100%;border-bottom: 1px solid gray;flex-grow: 1;}#sk-container-id-2 div.sk-label:hover label.sk-toggleable__label {background-color: #d4ebff;}#sk-container-id-2 div.sk-serial::before {content: \"\";position: absolute;border-left: 1px solid gray;box-sizing: border-box;top: 0;bottom: 0;left: 50%;z-index: 0;}#sk-container-id-2 div.sk-serial {display: flex;flex-direction: column;align-items: center;background-color: white;padding-right: 0.2em;padding-left: 0.2em;position: relative;}#sk-container-id-2 div.sk-item {position: relative;z-index: 1;}#sk-container-id-2 div.sk-parallel {display: flex;align-items: stretch;justify-content: center;background-color: white;position: relative;}#sk-container-id-2 div.sk-item::before, #sk-container-id-2 div.sk-parallel-item::before {content: \"\";position: absolute;border-left: 1px solid gray;box-sizing: border-box;top: 0;bottom: 0;left: 50%;z-index: -1;}#sk-container-id-2 div.sk-parallel-item {display: flex;flex-direction: column;z-index: 1;position: relative;background-color: white;}#sk-container-id-2 div.sk-parallel-item:first-child::after {align-self: flex-end;width: 50%;}#sk-container-id-2 div.sk-parallel-item:last-child::after {align-self: flex-start;width: 50%;}#sk-container-id-2 div.sk-parallel-item:only-child::after {width: 0;}#sk-container-id-2 div.sk-dashed-wrapped {border: 1px dashed gray;margin: 0 0.4em 0.5em 0.4em;box-sizing: border-box;padding-bottom: 0.4em;background-color: white;}#sk-container-id-2 div.sk-label label {font-family: monospace;font-weight: bold;display: inline-block;line-height: 1.2em;}#sk-container-id-2 div.sk-label-container {text-align: center;}#sk-container-id-2 div.sk-container {/* jupyter's `normalize.less` sets `[hidden] { display: none; }` but bootstrap.min.css set `[hidden] { display: none !important; }` so we also need the `!important` here to be able to override the default hidden behavior on the sphinx rendered scikit-learn.org. See: https://github.com/scikit-learn/scikit-learn/issues/21755 */display: inline-block !important;position: relative;}#sk-container-id-2 div.sk-text-repr-fallback {display: none;}</style><div id=\"sk-container-id-2\" class=\"sk-top-container\"><div class=\"sk-text-repr-fallback\"><pre>XGBClassifier(base_score=None, booster=None, callbacks=None,\n",
       "              colsample_bylevel=None, colsample_bynode=None,\n",
       "              colsample_bytree=0.8, device=None, early_stopping_rounds=None,\n",
       "              enable_categorical=False, eval_metric=None, feature_types=None,\n",
       "              gamma=None, grow_policy=None, growth_policy=&#x27;depthwise&#x27;,\n",
       "              importance_type=None, interaction_constraints=None,\n",
       "              learning_rate=0.01, max_bin=None, max_cat_threshold=None,\n",
       "              max_cat_to_onehot=None, max_delta_step=None, max_depth=2,\n",
       "              max_leaves=None, min_child_weight=None, missing=nan,\n",
       "              monotone_constraints=None, multi_strategy=None, n_estimators=300,\n",
       "              n_jobs=None, num_parallel_tree=None, ...)</pre><b>In a Jupyter environment, please rerun this cell to show the HTML representation or trust the notebook. <br />On GitHub, the HTML representation is unable to render, please try loading this page with nbviewer.org.</b></div><div class=\"sk-container\" hidden><div class=\"sk-item\"><div class=\"sk-estimator sk-toggleable\"><input class=\"sk-toggleable__control sk-hidden--visually\" id=\"sk-estimator-id-4\" type=\"checkbox\" checked><label for=\"sk-estimator-id-4\" class=\"sk-toggleable__label sk-toggleable__label-arrow\">XGBClassifier</label><div class=\"sk-toggleable__content\"><pre>XGBClassifier(base_score=None, booster=None, callbacks=None,\n",
       "              colsample_bylevel=None, colsample_bynode=None,\n",
       "              colsample_bytree=0.8, device=None, early_stopping_rounds=None,\n",
       "              enable_categorical=False, eval_metric=None, feature_types=None,\n",
       "              gamma=None, grow_policy=None, growth_policy=&#x27;depthwise&#x27;,\n",
       "              importance_type=None, interaction_constraints=None,\n",
       "              learning_rate=0.01, max_bin=None, max_cat_threshold=None,\n",
       "              max_cat_to_onehot=None, max_delta_step=None, max_depth=2,\n",
       "              max_leaves=None, min_child_weight=None, missing=nan,\n",
       "              monotone_constraints=None, multi_strategy=None, n_estimators=300,\n",
       "              n_jobs=None, num_parallel_tree=None, ...)</pre></div></div></div></div></div>"
      ]
     },
     "metadata": {},
     "execution_count": 103
    }
   ]
  },
  {
   "cell_type": "code",
   "source": [
    "prob = xgb_clf.predict(x_test)\n",
    "initial_pred['xgb'] = prob\n",
    "auc = roc_auc_score(y_test, prob)\n",
    "# RocCurveDisplay.from_predictions(y_test, prob, name=\"AdaBoost\")\n",
    "print(\"AUC = {:0.4f}\".format(auc))\n",
    "print(\"Accuracy:\",metrics.accuracy_score(y_test, prob))"
   ],
   "metadata": {
    "id": "UWpQko-VTm0M",
    "colab": {
     "base_uri": "https://localhost:8080/"
    },
    "executionInfo": {
     "status": "ok",
     "timestamp": 1697376038068,
     "user_tz": 240,
     "elapsed": 18,
     "user": {
      "displayName": "Hao Huang",
      "userId": "01836457921775189398"
     }
    },
    "outputId": "13d1ba48-a70a-42dc-f579-16690550d7f9"
   },
   "execution_count": 104,
   "outputs": [
    {
     "output_type": "stream",
     "name": "stdout",
     "text": [
      "AUC = 0.7226\n",
      "Accuracy: 0.9244712990936556\n"
     ]
    }
   ]
  },
  {
   "cell_type": "code",
   "source": [
    "# parameters = [{'n_estimators':[250,300,350], 'max_depth':[2,3,4], 'learning_rate':[0.005,0.01,0.05]}]\n",
    "\n",
    "# search = GridSearchCV(xgb.XGBClassifier(), param_grid=parameters, scoring='roc_auc')\n",
    "# search.fit(x_train, y_train)\n",
    "\n",
    "# print(\"Best parameters set found on development set:\")\n",
    "# print()\n",
    "# print(search.best_params_)\n",
    "# print()\n",
    "# print(\"Grid scores on development set:\")\n",
    "# print()\n",
    "# means = search.cv_results_['mean_test_score']\n",
    "# stds = search.cv_results_['std_test_score']\n",
    "# for mean, std, params in zip(means, stds, search.cv_results_['params']):\n",
    "#     print(\"%0.3f (+/-%0.03f) for %r\"\n",
    "#             % (mean, std * 2, params))"
   ],
   "metadata": {
    "id": "InHZGsEVUpih",
    "executionInfo": {
     "status": "ok",
     "timestamp": 1697376038068,
     "user_tz": 240,
     "elapsed": 16,
     "user": {
      "displayName": "Hao Huang",
      "userId": "01836457921775189398"
     }
    }
   },
   "execution_count": 105,
   "outputs": []
  },
  {
   "cell_type": "code",
   "source": [
    "# LightGBM\n",
    "import lightgbm as lgb\n",
    "\n",
    "light_clf = lgb.LGBMClassifier(n_estimators = 250,max_depth=2,learning_rate=0.05,boosting_type='dart')\n",
    "light_clf.fit(x_train, y_train)\n",
    "#y_pred=clf.predict(x_test)\n",
    "y_pred = light_clf.predict(x_test)\n",
    "initial_pred['light'] = y_pred\n",
    "#y_prob\n",
    "auc_score = roc_auc_score(y_test, y_pred)\n",
    "print(\"AUC Score:\", auc_score)\n",
    "print(\"Accuracy:\",metrics.accuracy_score(y_test, y_pred))"
   ],
   "metadata": {
    "id": "0je5rwab-IzW",
    "colab": {
     "base_uri": "https://localhost:8080/"
    },
    "executionInfo": {
     "status": "ok",
     "timestamp": 1697376038069,
     "user_tz": 240,
     "elapsed": 17,
     "user": {
      "displayName": "Hao Huang",
      "userId": "01836457921775189398"
     }
    },
    "outputId": "de2ac83d-d979-45e2-e041-fa74b2859e6e"
   },
   "execution_count": 106,
   "outputs": [
    {
     "output_type": "stream",
     "name": "stdout",
     "text": [
      "[LightGBM] [Info] Number of positive: 88, number of negative: 684\n",
      "[LightGBM] [Warning] Auto-choosing row-wise multi-threading, the overhead of testing was 0.000428 seconds.\n",
      "You can set `force_row_wise=true` to remove the overhead.\n",
      "And if memory is not enough, you can set `force_col_wise=true`.\n",
      "[LightGBM] [Info] Total Bins 1260\n",
      "[LightGBM] [Info] Number of data points in the train set: 772, number of used features: 29\n",
      "[LightGBM] [Info] [binary:BoostFromScore]: pavg=0.113990 -> initscore=-2.050621\n",
      "[LightGBM] [Info] Start training from score -2.050621\n",
      "AUC Score: 0.7514619883040936\n",
      "Accuracy: 0.9154078549848943\n"
     ]
    }
   ]
  },
  {
   "cell_type": "code",
   "source": [
    "lgb.plot_importance(light_clf)"
   ],
   "metadata": {
    "colab": {
     "base_uri": "https://localhost:8080/",
     "height": 490
    },
    "id": "r6Q-9kZ-fCHk",
    "executionInfo": {
     "status": "ok",
     "timestamp": 1697376050306,
     "user_tz": 240,
     "elapsed": 784,
     "user": {
      "displayName": "Hao Huang",
      "userId": "01836457921775189398"
     }
    },
    "outputId": "277d4a32-d8d9-4737-d2d0-ef9451ba0877"
   },
   "execution_count": 107,
   "outputs": [
    {
     "output_type": "execute_result",
     "data": {
      "text/plain": [
       "<Axes: title={'center': 'Feature importance'}, xlabel='Feature importance', ylabel='Features'>"
      ]
     },
     "metadata": {},
     "execution_count": 107
    },
    {
     "output_type": "display_data",
     "data": {
      "text/plain": [
       "<Figure size 640x480 with 1 Axes>"
      ],
      "image/png": "[encoded data removed]"
     },
     "metadata": {}
    }
   ]
  },
  {
   "cell_type": "code",
   "source": [
    "# parameters = [{'boosting_type':['gdbt', 'dart'], 'n_estimators':[150,200,250,300], 'max_depth':[2,3,4], 'learning_rate':[0.05,0.1,0.5]}]\n",
    "\n",
    "# search = GridSearchCV(lgb.LGBMClassifier(), param_grid=parameters, scoring='roc_auc')\n",
    "# search.fit(x_train, y_train)\n",
    "\n",
    "# print(\"Best parameters set found on development set:\")\n",
    "# print()\n",
    "# print(search.best_params_)\n",
    "# print()\n",
    "# print(\"Grid scores on development set:\")\n",
    "# print()\n",
    "# means = search.cv_results_['mean_test_score']\n",
    "# stds = search.cv_results_['std_test_score']\n",
    "# for mean, std, params in zip(means, stds, search.cv_results_['params']):\n",
    "#     print(\"%0.3f (+/-%0.03f) for %r\"\n",
    "#             % (mean, std * 2, params))"
   ],
   "metadata": {
    "id": "E81skDokUrSY"
   },
   "execution_count": null,
   "outputs": []
  },
  {
   "cell_type": "code",
   "source": [
    "logistic = LogisticRegression(C=0.5, solver='newton-cg', penalty='l2', max_iter=3000)\n",
    "\n",
    "logistic.fit(x_train, y_train)\n",
    "y_pred = logistic.predict(x_test)\n",
    "initial_pred['logistic'] = y_pred\n",
    "auc_score = roc_auc_score(y_test, y_pred)\n",
    "print(\"AUC Score:\", auc_score)\n",
    "print(\"Accuracy:\",metrics.accuracy_score(y_test, y_pred))"
   ],
   "metadata": {
    "id": "VrqWO5iZsIvh",
    "colab": {
     "base_uri": "https://localhost:8080/"
    },
    "executionInfo": {
     "status": "ok",
     "timestamp": 1697315389758,
     "user_tz": 240,
     "elapsed": 299,
     "user": {
      "displayName": "Hao Huang",
      "userId": "01836457921775189398"
     }
    },
    "outputId": "297c2633-cae5-48f0-f8bb-9d32aa90c552"
   },
   "execution_count": null,
   "outputs": [
    {
     "output_type": "stream",
     "name": "stdout",
     "text": [
      "AUC Score: 0.7613304093567251\n",
      "Accuracy: 0.9335347432024169\n"
     ]
    },
    {
     "output_type": "stream",
     "name": "stderr",
     "text": [
      "/usr/local/lib/python3.10/dist-packages/scipy/optimize/_linesearch.py:466: LineSearchWarning: The line search algorithm did not converge\n",
      "  warn('The line search algorithm did not converge', LineSearchWarning)\n",
      "/usr/local/lib/python3.10/dist-packages/scipy/optimize/_linesearch.py:314: LineSearchWarning: The line search algorithm did not converge\n",
      "  warn('The line search algorithm did not converge', LineSearchWarning)\n"
     ]
    }
   ]
  },
  {
   "cell_type": "code",
   "source": [
    "random_forest = RandomForestClassifier(max_depth=4, n_estimators=300, criterion='gini', random_state=42)\n",
    "\n",
    "random_forest.fit(x_train, y_train)\n",
    "y_pred = random_forest.predict(x_test)\n",
    "initial_pred['forest'] = y_pred\n",
    "auc_score = roc_auc_score(y_test, y_pred)\n",
    "print(\"AUC Score:\", auc_score)\n",
    "print(\"Accuracy:\",metrics.accuracy_score(y_test, y_pred))"
   ],
   "metadata": {
    "id": "2kzio1wbsI4U",
    "colab": {
     "base_uri": "https://localhost:8080/"
    },
    "executionInfo": {
     "status": "ok",
     "timestamp": 1697315390171,
     "user_tz": 240,
     "elapsed": 416,
     "user": {
      "displayName": "Hao Huang",
      "userId": "01836457921775189398"
     }
    },
    "outputId": "408af8dd-f39a-44d9-c789-894ef32dfb9e"
   },
   "execution_count": null,
   "outputs": [
    {
     "output_type": "stream",
     "name": "stdout",
     "text": [
      "AUC Score: 0.7107090643274854\n",
      "Accuracy: 0.9335347432024169\n"
     ]
    }
   ]
  },
  {
   "cell_type": "code",
   "source": [
    "# parameters = [{'n_estimators':[150,200,250,300], 'max_depth':[3,4,5]}]\n",
    "\n",
    "# search = GridSearchCV(RandomForestClassifier(), param_grid=parameters, scoring='roc_auc')\n",
    "# search.fit(x_train, y_train)\n",
    "\n",
    "# print(\"Best parameters set found on development set:\")\n",
    "# print()\n",
    "# print(search.best_params_)\n",
    "# print()\n",
    "# print(\"Grid scores on development set:\")\n",
    "# print()\n",
    "# means = search.cv_results_['mean_test_score']\n",
    "# stds = search.cv_results_['std_test_score']\n",
    "# for mean, std, params in zip(means, stds, search.cv_results_['params']):\n",
    "#     print(\"%0.3f (+/-%0.03f) for %r\"\n",
    "#             % (mean, std * 2, params))"
   ],
   "metadata": {
    "id": "3gWEIJYCUuf7"
   },
   "execution_count": null,
   "outputs": []
  },
  {
   "cell_type": "code",
   "source": [
    "cat_clf = CatBoostClassifier(depth=4, learning_rate=0.05)\n",
    "cat_clf.fit(x_train, y_train)\n",
    "#y_pred=clf.predict(x_test)\n",
    "y_pred = cat_clf.predict(x_test)\n",
    "initial_pred['cat'] = y_pred\n",
    "#y_prob\n",
    "auc_score = roc_auc_score(y_test, y_pred)\n",
    "print(\"AUC Score:\", auc_score)\n",
    "print(\"Accuracy:\",metrics.accuracy_score(y_test, y_pred))"
   ],
   "metadata": {
    "id": "U5R5LZiaTAGK",
    "colab": {
     "base_uri": "https://localhost:8080/"
    },
    "executionInfo": {
     "status": "ok",
     "timestamp": 1697315392655,
     "user_tz": 240,
     "elapsed": 2488,
     "user": {
      "displayName": "Hao Huang",
      "userId": "01836457921775189398"
     }
    },
    "outputId": "a167d8a7-f629-4be2-947c-e3e3b37a549c"
   },
   "execution_count": null,
   "outputs": [
    {
     "output_type": "stream",
     "name": "stdout",
     "text": [
      "0:\tlearn: 0.6100662\ttotal: 47.1ms\tremaining: 47s\n",
      "1:\tlearn: 0.5301989\ttotal: 47.9ms\tremaining: 23.9s\n",
      "2:\tlearn: 0.4874188\ttotal: 48.5ms\tremaining: 16.1s\n",
      "3:\tlearn: 0.4346670\ttotal: 49.2ms\tremaining: 12.3s\n",
      "4:\tlearn: 0.4014369\ttotal: 50ms\tremaining: 9.95s\n",
      "5:\tlearn: 0.3720220\ttotal: 50.8ms\tremaining: 8.42s\n",
      "6:\tlearn: 0.3570141\ttotal: 51.6ms\tremaining: 7.33s\n",
      "7:\tlearn: 0.3337079\ttotal: 53.3ms\tremaining: 6.61s\n",
      "8:\tlearn: 0.3161669\ttotal: 54.3ms\tremaining: 5.98s\n",
      "9:\tlearn: 0.2999455\ttotal: 55.1ms\tremaining: 5.46s\n",
      "10:\tlearn: 0.2791053\ttotal: 56ms\tremaining: 5.03s\n",
      "11:\tlearn: 0.2693471\ttotal: 57.3ms\tremaining: 4.72s\n",
      "12:\tlearn: 0.2568577\ttotal: 58.4ms\tremaining: 4.44s\n",
      "13:\tlearn: 0.2420951\ttotal: 59.5ms\tremaining: 4.19s\n",
      "14:\tlearn: 0.2302007\ttotal: 60.7ms\tremaining: 3.98s\n",
      "15:\tlearn: 0.2222868\ttotal: 64.3ms\tremaining: 3.96s\n",
      "16:\tlearn: 0.2129535\ttotal: 65.1ms\tremaining: 3.77s\n",
      "17:\tlearn: 0.2092899\ttotal: 66.2ms\tremaining: 3.61s\n",
      "18:\tlearn: 0.2003128\ttotal: 68ms\tremaining: 3.51s\n",
      "19:\tlearn: 0.1941348\ttotal: 70.4ms\tremaining: 3.45s\n",
      "20:\tlearn: 0.1858816\ttotal: 71.6ms\tremaining: 3.34s\n",
      "21:\tlearn: 0.1833285\ttotal: 72.4ms\tremaining: 3.22s\n",
      "22:\tlearn: 0.1800651\ttotal: 73.3ms\tremaining: 3.11s\n",
      "23:\tlearn: 0.1766789\ttotal: 74.6ms\tremaining: 3.03s\n",
      "24:\tlearn: 0.1729133\ttotal: 76.1ms\tremaining: 2.97s\n",
      "25:\tlearn: 0.1675992\ttotal: 77.1ms\tremaining: 2.89s\n",
      "26:\tlearn: 0.1650120\ttotal: 83.2ms\tremaining: 3s\n",
      "27:\tlearn: 0.1623697\ttotal: 84.3ms\tremaining: 2.92s\n",
      "28:\tlearn: 0.1592275\ttotal: 85.4ms\tremaining: 2.86s\n",
      "29:\tlearn: 0.1574078\ttotal: 87.2ms\tremaining: 2.82s\n",
      "30:\tlearn: 0.1559907\ttotal: 89ms\tremaining: 2.78s\n",
      "31:\tlearn: 0.1528710\ttotal: 90.7ms\tremaining: 2.74s\n",
      "32:\tlearn: 0.1506339\ttotal: 92.6ms\tremaining: 2.71s\n",
      "33:\tlearn: 0.1478479\ttotal: 94.4ms\tremaining: 2.68s\n",
      "34:\tlearn: 0.1455836\ttotal: 96.2ms\tremaining: 2.65s\n",
      "35:\tlearn: 0.1434620\ttotal: 98ms\tremaining: 2.62s\n",
      "36:\tlearn: 0.1414539\ttotal: 99.8ms\tremaining: 2.6s\n",
      "37:\tlearn: 0.1405132\ttotal: 102ms\tremaining: 2.58s\n",
      "38:\tlearn: 0.1390640\ttotal: 103ms\tremaining: 2.55s\n",
      "39:\tlearn: 0.1372498\ttotal: 105ms\tremaining: 2.53s\n",
      "40:\tlearn: 0.1358697\ttotal: 107ms\tremaining: 2.5s\n",
      "41:\tlearn: 0.1338603\ttotal: 110ms\tremaining: 2.5s\n",
      "42:\tlearn: 0.1325914\ttotal: 111ms\tremaining: 2.47s\n",
      "43:\tlearn: 0.1315268\ttotal: 114ms\tremaining: 2.47s\n",
      "44:\tlearn: 0.1304800\ttotal: 116ms\tremaining: 2.46s\n",
      "45:\tlearn: 0.1286096\ttotal: 118ms\tremaining: 2.44s\n",
      "46:\tlearn: 0.1273352\ttotal: 120ms\tremaining: 2.43s\n",
      "47:\tlearn: 0.1255820\ttotal: 121ms\tremaining: 2.41s\n",
      "48:\tlearn: 0.1245140\ttotal: 123ms\tremaining: 2.39s\n",
      "49:\tlearn: 0.1235027\ttotal: 125ms\tremaining: 2.38s\n",
      "50:\tlearn: 0.1225132\ttotal: 127ms\tremaining: 2.36s\n",
      "51:\tlearn: 0.1220246\ttotal: 129ms\tremaining: 2.35s\n",
      "52:\tlearn: 0.1215124\ttotal: 130ms\tremaining: 2.33s\n",
      "53:\tlearn: 0.1202237\ttotal: 132ms\tremaining: 2.31s\n",
      "54:\tlearn: 0.1187442\ttotal: 134ms\tremaining: 2.3s\n",
      "55:\tlearn: 0.1176760\ttotal: 136ms\tremaining: 2.29s\n",
      "56:\tlearn: 0.1168814\ttotal: 137ms\tremaining: 2.27s\n",
      "57:\tlearn: 0.1162667\ttotal: 139ms\tremaining: 2.26s\n",
      "58:\tlearn: 0.1151071\ttotal: 141ms\tremaining: 2.25s\n",
      "59:\tlearn: 0.1141886\ttotal: 145ms\tremaining: 2.27s\n",
      "60:\tlearn: 0.1137360\ttotal: 146ms\tremaining: 2.25s\n",
      "61:\tlearn: 0.1124036\ttotal: 148ms\tremaining: 2.24s\n",
      "62:\tlearn: 0.1116222\ttotal: 151ms\tremaining: 2.24s\n",
      "63:\tlearn: 0.1106537\ttotal: 152ms\tremaining: 2.23s\n",
      "64:\tlearn: 0.1098964\ttotal: 155ms\tremaining: 2.23s\n",
      "65:\tlearn: 0.1095692\ttotal: 156ms\tremaining: 2.21s\n",
      "66:\tlearn: 0.1090162\ttotal: 159ms\tremaining: 2.21s\n",
      "67:\tlearn: 0.1082843\ttotal: 160ms\tremaining: 2.2s\n",
      "68:\tlearn: 0.1077923\ttotal: 162ms\tremaining: 2.19s\n",
      "69:\tlearn: 0.1070291\ttotal: 165ms\tremaining: 2.19s\n",
      "70:\tlearn: 0.1059723\ttotal: 166ms\tremaining: 2.17s\n",
      "71:\tlearn: 0.1055706\ttotal: 168ms\tremaining: 2.17s\n",
      "72:\tlearn: 0.1048703\ttotal: 170ms\tremaining: 2.16s\n",
      "73:\tlearn: 0.1042344\ttotal: 172ms\tremaining: 2.15s\n",
      "74:\tlearn: 0.1036123\ttotal: 174ms\tremaining: 2.15s\n",
      "75:\tlearn: 0.1029664\ttotal: 175ms\tremaining: 2.13s\n",
      "76:\tlearn: 0.1026842\ttotal: 179ms\tremaining: 2.15s\n",
      "77:\tlearn: 0.1020185\ttotal: 180ms\tremaining: 2.13s\n",
      "78:\tlearn: 0.1013399\ttotal: 183ms\tremaining: 2.13s\n",
      "79:\tlearn: 0.1006657\ttotal: 185ms\tremaining: 2.12s\n",
      "80:\tlearn: 0.0999189\ttotal: 186ms\tremaining: 2.12s\n",
      "81:\tlearn: 0.0993587\ttotal: 189ms\tremaining: 2.11s\n",
      "82:\tlearn: 0.0988247\ttotal: 190ms\tremaining: 2.1s\n",
      "83:\tlearn: 0.0984814\ttotal: 192ms\tremaining: 2.1s\n",
      "84:\tlearn: 0.0981455\ttotal: 194ms\tremaining: 2.09s\n",
      "85:\tlearn: 0.0977836\ttotal: 196ms\tremaining: 2.08s\n",
      "86:\tlearn: 0.0976032\ttotal: 198ms\tremaining: 2.07s\n",
      "87:\tlearn: 0.0974386\ttotal: 199ms\tremaining: 2.07s\n",
      "88:\tlearn: 0.0967036\ttotal: 201ms\tremaining: 2.06s\n",
      "89:\tlearn: 0.0961110\ttotal: 203ms\tremaining: 2.05s\n",
      "90:\tlearn: 0.0957839\ttotal: 205ms\tremaining: 2.04s\n",
      "91:\tlearn: 0.0948881\ttotal: 206ms\tremaining: 2.04s\n",
      "92:\tlearn: 0.0946110\ttotal: 208ms\tremaining: 2.03s\n",
      "93:\tlearn: 0.0938608\ttotal: 210ms\tremaining: 2.02s\n",
      "94:\tlearn: 0.0935229\ttotal: 212ms\tremaining: 2.02s\n",
      "95:\tlearn: 0.0929980\ttotal: 214ms\tremaining: 2.01s\n",
      "96:\tlearn: 0.0919623\ttotal: 215ms\tremaining: 2s\n",
      "97:\tlearn: 0.0913740\ttotal: 217ms\tremaining: 2s\n",
      "98:\tlearn: 0.0910712\ttotal: 220ms\tremaining: 2s\n",
      "99:\tlearn: 0.0907376\ttotal: 223ms\tremaining: 2.01s\n",
      "100:\tlearn: 0.0895191\ttotal: 224ms\tremaining: 2s\n",
      "101:\tlearn: 0.0885009\ttotal: 227ms\tremaining: 1.99s\n",
      "102:\tlearn: 0.0883266\ttotal: 228ms\tremaining: 1.99s\n",
      "103:\tlearn: 0.0875572\ttotal: 230ms\tremaining: 1.98s\n",
      "104:\tlearn: 0.0872118\ttotal: 232ms\tremaining: 1.98s\n",
      "105:\tlearn: 0.0864255\ttotal: 235ms\tremaining: 1.98s\n",
      "106:\tlearn: 0.0861239\ttotal: 236ms\tremaining: 1.97s\n",
      "107:\tlearn: 0.0858877\ttotal: 238ms\tremaining: 1.96s\n",
      "108:\tlearn: 0.0852637\ttotal: 239ms\tremaining: 1.96s\n",
      "109:\tlearn: 0.0844356\ttotal: 241ms\tremaining: 1.95s\n",
      "110:\tlearn: 0.0840548\ttotal: 243ms\tremaining: 1.94s\n",
      "111:\tlearn: 0.0839919\ttotal: 245ms\tremaining: 1.94s\n",
      "112:\tlearn: 0.0837524\ttotal: 246ms\tremaining: 1.93s\n",
      "113:\tlearn: 0.0836172\ttotal: 248ms\tremaining: 1.93s\n",
      "114:\tlearn: 0.0830856\ttotal: 250ms\tremaining: 1.92s\n",
      "115:\tlearn: 0.0830220\ttotal: 253ms\tremaining: 1.92s\n",
      "116:\tlearn: 0.0823358\ttotal: 254ms\tremaining: 1.92s\n",
      "117:\tlearn: 0.0819847\ttotal: 257ms\tremaining: 1.92s\n",
      "118:\tlearn: 0.0814190\ttotal: 258ms\tremaining: 1.91s\n",
      "119:\tlearn: 0.0810473\ttotal: 259ms\tremaining: 1.9s\n",
      "120:\tlearn: 0.0804416\ttotal: 261ms\tremaining: 1.89s\n",
      "121:\tlearn: 0.0797717\ttotal: 263ms\tremaining: 1.89s\n",
      "122:\tlearn: 0.0791716\ttotal: 267ms\tremaining: 1.9s\n",
      "123:\tlearn: 0.0787921\ttotal: 268ms\tremaining: 1.9s\n",
      "124:\tlearn: 0.0786306\ttotal: 270ms\tremaining: 1.89s\n",
      "125:\tlearn: 0.0782058\ttotal: 272ms\tremaining: 1.89s\n",
      "126:\tlearn: 0.0779150\ttotal: 274ms\tremaining: 1.88s\n",
      "127:\tlearn: 0.0777517\ttotal: 276ms\tremaining: 1.88s\n",
      "128:\tlearn: 0.0774942\ttotal: 277ms\tremaining: 1.87s\n",
      "129:\tlearn: 0.0769803\ttotal: 279ms\tremaining: 1.87s\n",
      "130:\tlearn: 0.0763029\ttotal: 281ms\tremaining: 1.86s\n",
      "131:\tlearn: 0.0759790\ttotal: 283ms\tremaining: 1.86s\n",
      "132:\tlearn: 0.0752994\ttotal: 285ms\tremaining: 1.85s\n",
      "133:\tlearn: 0.0747103\ttotal: 286ms\tremaining: 1.85s\n",
      "134:\tlearn: 0.0745579\ttotal: 288ms\tremaining: 1.85s\n",
      "135:\tlearn: 0.0743769\ttotal: 290ms\tremaining: 1.84s\n",
      "136:\tlearn: 0.0737859\ttotal: 292ms\tremaining: 1.84s\n",
      "137:\tlearn: 0.0732016\ttotal: 294ms\tremaining: 1.83s\n",
      "138:\tlearn: 0.0728710\ttotal: 296ms\tremaining: 1.83s\n",
      "139:\tlearn: 0.0726033\ttotal: 298ms\tremaining: 1.83s\n",
      "140:\tlearn: 0.0721136\ttotal: 299ms\tremaining: 1.82s\n",
      "141:\tlearn: 0.0713542\ttotal: 301ms\tremaining: 1.82s\n",
      "142:\tlearn: 0.0711128\ttotal: 303ms\tremaining: 1.82s\n",
      "143:\tlearn: 0.0705746\ttotal: 305ms\tremaining: 1.81s\n",
      "144:\tlearn: 0.0694552\ttotal: 307ms\tremaining: 1.81s\n",
      "145:\tlearn: 0.0692232\ttotal: 308ms\tremaining: 1.8s\n",
      "146:\tlearn: 0.0690153\ttotal: 322ms\tremaining: 1.86s\n",
      "147:\tlearn: 0.0683094\ttotal: 324ms\tremaining: 1.87s\n",
      "148:\tlearn: 0.0679838\ttotal: 326ms\tremaining: 1.86s\n",
      "149:\tlearn: 0.0675219\ttotal: 328ms\tremaining: 1.86s\n",
      "150:\tlearn: 0.0673310\ttotal: 330ms\tremaining: 1.85s\n",
      "151:\tlearn: 0.0669985\ttotal: 332ms\tremaining: 1.85s\n",
      "152:\tlearn: 0.0664285\ttotal: 335ms\tremaining: 1.85s\n",
      "153:\tlearn: 0.0660592\ttotal: 337ms\tremaining: 1.85s\n",
      "154:\tlearn: 0.0657143\ttotal: 339ms\tremaining: 1.85s\n",
      "155:\tlearn: 0.0655858\ttotal: 340ms\tremaining: 1.84s\n",
      "156:\tlearn: 0.0652234\ttotal: 343ms\tremaining: 1.84s\n",
      "157:\tlearn: 0.0648345\ttotal: 344ms\tremaining: 1.83s\n",
      "158:\tlearn: 0.0646213\ttotal: 347ms\tremaining: 1.83s\n",
      "159:\tlearn: 0.0645166\ttotal: 348ms\tremaining: 1.82s\n",
      "160:\tlearn: 0.0643348\ttotal: 350ms\tremaining: 1.82s\n",
      "161:\tlearn: 0.0639988\ttotal: 352ms\tremaining: 1.82s\n",
      "162:\tlearn: 0.0633865\ttotal: 354ms\tremaining: 1.82s\n",
      "163:\tlearn: 0.0631626\ttotal: 356ms\tremaining: 1.81s\n",
      "164:\tlearn: 0.0629421\ttotal: 357ms\tremaining: 1.8s\n",
      "165:\tlearn: 0.0626129\ttotal: 359ms\tremaining: 1.8s\n",
      "166:\tlearn: 0.0621823\ttotal: 360ms\tremaining: 1.8s\n",
      "167:\tlearn: 0.0612609\ttotal: 362ms\tremaining: 1.79s\n",
      "168:\tlearn: 0.0608809\ttotal: 364ms\tremaining: 1.79s\n",
      "169:\tlearn: 0.0605450\ttotal: 366ms\tremaining: 1.79s\n",
      "170:\tlearn: 0.0604176\ttotal: 368ms\tremaining: 1.78s\n",
      "171:\tlearn: 0.0598087\ttotal: 369ms\tremaining: 1.78s\n",
      "172:\tlearn: 0.0589379\ttotal: 371ms\tremaining: 1.77s\n",
      "173:\tlearn: 0.0586206\ttotal: 373ms\tremaining: 1.77s\n",
      "174:\tlearn: 0.0584692\ttotal: 375ms\tremaining: 1.77s\n",
      "175:\tlearn: 0.0583239\ttotal: 377ms\tremaining: 1.76s\n",
      "176:\tlearn: 0.0579201\ttotal: 378ms\tremaining: 1.76s\n",
      "177:\tlearn: 0.0578136\ttotal: 380ms\tremaining: 1.75s\n",
      "178:\tlearn: 0.0575172\ttotal: 382ms\tremaining: 1.75s\n",
      "179:\tlearn: 0.0573764\ttotal: 384ms\tremaining: 1.75s\n",
      "180:\tlearn: 0.0571242\ttotal: 386ms\tremaining: 1.74s\n",
      "181:\tlearn: 0.0569238\ttotal: 388ms\tremaining: 1.75s\n",
      "182:\tlearn: 0.0565809\ttotal: 390ms\tremaining: 1.74s\n",
      "183:\tlearn: 0.0561810\ttotal: 400ms\tremaining: 1.77s\n",
      "184:\tlearn: 0.0558726\ttotal: 402ms\tremaining: 1.77s\n",
      "185:\tlearn: 0.0555409\ttotal: 406ms\tremaining: 1.77s\n",
      "186:\tlearn: 0.0551245\ttotal: 408ms\tremaining: 1.77s\n",
      "187:\tlearn: 0.0548091\ttotal: 411ms\tremaining: 1.77s\n",
      "188:\tlearn: 0.0546891\ttotal: 413ms\tremaining: 1.77s\n",
      "189:\tlearn: 0.0542285\ttotal: 415ms\tremaining: 1.77s\n",
      "190:\tlearn: 0.0534981\ttotal: 417ms\tremaining: 1.76s\n",
      "191:\tlearn: 0.0533870\ttotal: 419ms\tremaining: 1.76s\n",
      "192:\tlearn: 0.0531407\ttotal: 421ms\tremaining: 1.76s\n",
      "193:\tlearn: 0.0530361\ttotal: 423ms\tremaining: 1.75s\n",
      "194:\tlearn: 0.0528433\ttotal: 424ms\tremaining: 1.75s\n",
      "195:\tlearn: 0.0526000\ttotal: 426ms\tremaining: 1.75s\n",
      "196:\tlearn: 0.0518562\ttotal: 428ms\tremaining: 1.74s\n",
      "197:\tlearn: 0.0517270\ttotal: 430ms\tremaining: 1.74s\n",
      "198:\tlearn: 0.0515513\ttotal: 432ms\tremaining: 1.74s\n",
      "199:\tlearn: 0.0513757\ttotal: 434ms\tremaining: 1.73s\n",
      "200:\tlearn: 0.0510410\ttotal: 435ms\tremaining: 1.73s\n",
      "201:\tlearn: 0.0506793\ttotal: 437ms\tremaining: 1.73s\n",
      "202:\tlearn: 0.0504951\ttotal: 439ms\tremaining: 1.72s\n",
      "203:\tlearn: 0.0503984\ttotal: 441ms\tremaining: 1.72s\n",
      "204:\tlearn: 0.0502513\ttotal: 443ms\tremaining: 1.72s\n",
      "205:\tlearn: 0.0500190\ttotal: 444ms\tremaining: 1.71s\n",
      "206:\tlearn: 0.0496999\ttotal: 446ms\tremaining: 1.71s\n",
      "207:\tlearn: 0.0492325\ttotal: 448ms\tremaining: 1.71s\n",
      "208:\tlearn: 0.0490735\ttotal: 450ms\tremaining: 1.7s\n",
      "209:\tlearn: 0.0488010\ttotal: 452ms\tremaining: 1.7s\n",
      "210:\tlearn: 0.0487127\ttotal: 454ms\tremaining: 1.7s\n",
      "211:\tlearn: 0.0483959\ttotal: 456ms\tremaining: 1.69s\n",
      "212:\tlearn: 0.0481162\ttotal: 457ms\tremaining: 1.69s\n",
      "213:\tlearn: 0.0479621\ttotal: 459ms\tremaining: 1.69s\n",
      "214:\tlearn: 0.0477077\ttotal: 461ms\tremaining: 1.68s\n",
      "215:\tlearn: 0.0476178\ttotal: 463ms\tremaining: 1.68s\n",
      "216:\tlearn: 0.0473124\ttotal: 465ms\tremaining: 1.68s\n",
      "217:\tlearn: 0.0470707\ttotal: 466ms\tremaining: 1.67s\n",
      "218:\tlearn: 0.0464796\ttotal: 468ms\tremaining: 1.67s\n",
      "219:\tlearn: 0.0462308\ttotal: 470ms\tremaining: 1.67s\n",
      "220:\tlearn: 0.0461033\ttotal: 472ms\tremaining: 1.66s\n",
      "221:\tlearn: 0.0459617\ttotal: 474ms\tremaining: 1.66s\n",
      "222:\tlearn: 0.0456650\ttotal: 476ms\tremaining: 1.66s\n",
      "223:\tlearn: 0.0455062\ttotal: 477ms\tremaining: 1.65s\n",
      "224:\tlearn: 0.0452739\ttotal: 479ms\tremaining: 1.65s\n",
      "225:\tlearn: 0.0450583\ttotal: 481ms\tremaining: 1.65s\n",
      "226:\tlearn: 0.0448621\ttotal: 483ms\tremaining: 1.64s\n",
      "227:\tlearn: 0.0445897\ttotal: 484ms\tremaining: 1.64s\n",
      "228:\tlearn: 0.0443695\ttotal: 486ms\tremaining: 1.64s\n",
      "229:\tlearn: 0.0441670\ttotal: 488ms\tremaining: 1.63s\n",
      "230:\tlearn: 0.0439910\ttotal: 490ms\tremaining: 1.63s\n",
      "231:\tlearn: 0.0438634\ttotal: 492ms\tremaining: 1.63s\n",
      "232:\tlearn: 0.0436492\ttotal: 493ms\tremaining: 1.62s\n",
      "233:\tlearn: 0.0434695\ttotal: 497ms\tremaining: 1.63s\n",
      "234:\tlearn: 0.0432586\ttotal: 499ms\tremaining: 1.62s\n",
      "235:\tlearn: 0.0428462\ttotal: 501ms\tremaining: 1.62s\n",
      "236:\tlearn: 0.0423099\ttotal: 503ms\tremaining: 1.62s\n",
      "237:\tlearn: 0.0420647\ttotal: 505ms\tremaining: 1.61s\n",
      "238:\tlearn: 0.0419564\ttotal: 506ms\tremaining: 1.61s\n",
      "239:\tlearn: 0.0417690\ttotal: 508ms\tremaining: 1.61s\n",
      "240:\tlearn: 0.0416638\ttotal: 510ms\tremaining: 1.61s\n",
      "241:\tlearn: 0.0415523\ttotal: 514ms\tremaining: 1.61s\n",
      "242:\tlearn: 0.0413087\ttotal: 516ms\tremaining: 1.61s\n",
      "243:\tlearn: 0.0410275\ttotal: 518ms\tremaining: 1.6s\n",
      "244:\tlearn: 0.0408899\ttotal: 519ms\tremaining: 1.6s\n",
      "245:\tlearn: 0.0404421\ttotal: 521ms\tremaining: 1.6s\n",
      "246:\tlearn: 0.0402828\ttotal: 523ms\tremaining: 1.59s\n",
      "247:\tlearn: 0.0401705\ttotal: 525ms\tremaining: 1.59s\n",
      "248:\tlearn: 0.0399771\ttotal: 527ms\tremaining: 1.59s\n",
      "249:\tlearn: 0.0397278\ttotal: 529ms\tremaining: 1.59s\n",
      "250:\tlearn: 0.0396187\ttotal: 531ms\tremaining: 1.58s\n",
      "251:\tlearn: 0.0394473\ttotal: 532ms\tremaining: 1.58s\n",
      "252:\tlearn: 0.0393576\ttotal: 534ms\tremaining: 1.58s\n",
      "253:\tlearn: 0.0389565\ttotal: 536ms\tremaining: 1.57s\n",
      "254:\tlearn: 0.0387447\ttotal: 538ms\tremaining: 1.57s\n",
      "255:\tlearn: 0.0385854\ttotal: 540ms\tremaining: 1.57s\n",
      "256:\tlearn: 0.0385039\ttotal: 542ms\tremaining: 1.57s\n",
      "257:\tlearn: 0.0384007\ttotal: 544ms\tremaining: 1.56s\n",
      "258:\tlearn: 0.0382616\ttotal: 545ms\tremaining: 1.56s\n",
      "259:\tlearn: 0.0379222\ttotal: 547ms\tremaining: 1.56s\n",
      "260:\tlearn: 0.0378164\ttotal: 551ms\tremaining: 1.56s\n",
      "261:\tlearn: 0.0375589\ttotal: 552ms\tremaining: 1.55s\n",
      "262:\tlearn: 0.0374577\ttotal: 554ms\tremaining: 1.55s\n",
      "263:\tlearn: 0.0373580\ttotal: 555ms\tremaining: 1.55s\n",
      "264:\tlearn: 0.0369450\ttotal: 556ms\tremaining: 1.54s\n",
      "265:\tlearn: 0.0368049\ttotal: 558ms\tremaining: 1.54s\n",
      "266:\tlearn: 0.0366240\ttotal: 559ms\tremaining: 1.53s\n",
      "267:\tlearn: 0.0362872\ttotal: 560ms\tremaining: 1.53s\n",
      "268:\tlearn: 0.0360892\ttotal: 561ms\tremaining: 1.52s\n",
      "269:\tlearn: 0.0360197\ttotal: 562ms\tremaining: 1.52s\n",
      "270:\tlearn: 0.0359288\ttotal: 563ms\tremaining: 1.51s\n",
      "271:\tlearn: 0.0357868\ttotal: 564ms\tremaining: 1.51s\n",
      "272:\tlearn: 0.0356938\ttotal: 565ms\tremaining: 1.5s\n",
      "273:\tlearn: 0.0356062\ttotal: 566ms\tremaining: 1.5s\n",
      "274:\tlearn: 0.0355040\ttotal: 568ms\tremaining: 1.5s\n",
      "275:\tlearn: 0.0353573\ttotal: 569ms\tremaining: 1.49s\n",
      "276:\tlearn: 0.0352748\ttotal: 574ms\tremaining: 1.5s\n",
      "277:\tlearn: 0.0351862\ttotal: 577ms\tremaining: 1.5s\n",
      "278:\tlearn: 0.0349366\ttotal: 579ms\tremaining: 1.5s\n",
      "279:\tlearn: 0.0347340\ttotal: 581ms\tremaining: 1.49s\n",
      "280:\tlearn: 0.0346791\ttotal: 582ms\tremaining: 1.49s\n",
      "281:\tlearn: 0.0345507\ttotal: 585ms\tremaining: 1.49s\n",
      "282:\tlearn: 0.0343881\ttotal: 588ms\tremaining: 1.49s\n",
      "283:\tlearn: 0.0343420\ttotal: 590ms\tremaining: 1.49s\n",
      "284:\tlearn: 0.0342751\ttotal: 592ms\tremaining: 1.48s\n",
      "285:\tlearn: 0.0341915\ttotal: 594ms\tremaining: 1.48s\n",
      "286:\tlearn: 0.0341145\ttotal: 595ms\tremaining: 1.48s\n",
      "287:\tlearn: 0.0340147\ttotal: 597ms\tremaining: 1.48s\n",
      "288:\tlearn: 0.0338585\ttotal: 599ms\tremaining: 1.47s\n",
      "289:\tlearn: 0.0336390\ttotal: 601ms\tremaining: 1.47s\n",
      "290:\tlearn: 0.0334706\ttotal: 603ms\tremaining: 1.47s\n",
      "291:\tlearn: 0.0333207\ttotal: 604ms\tremaining: 1.47s\n",
      "292:\tlearn: 0.0332069\ttotal: 606ms\tremaining: 1.46s\n",
      "293:\tlearn: 0.0329553\ttotal: 608ms\tremaining: 1.46s\n",
      "294:\tlearn: 0.0328134\ttotal: 610ms\tremaining: 1.46s\n",
      "295:\tlearn: 0.0327346\ttotal: 612ms\tremaining: 1.45s\n",
      "296:\tlearn: 0.0325857\ttotal: 614ms\tremaining: 1.45s\n",
      "297:\tlearn: 0.0323450\ttotal: 615ms\tremaining: 1.45s\n",
      "298:\tlearn: 0.0321287\ttotal: 617ms\tremaining: 1.45s\n",
      "299:\tlearn: 0.0318246\ttotal: 619ms\tremaining: 1.44s\n",
      "300:\tlearn: 0.0318080\ttotal: 621ms\tremaining: 1.44s\n",
      "301:\tlearn: 0.0317338\ttotal: 623ms\tremaining: 1.44s\n",
      "302:\tlearn: 0.0316816\ttotal: 625ms\tremaining: 1.44s\n",
      "303:\tlearn: 0.0316276\ttotal: 626ms\tremaining: 1.43s\n",
      "304:\tlearn: 0.0314717\ttotal: 628ms\tremaining: 1.43s\n",
      "305:\tlearn: 0.0312924\ttotal: 631ms\tremaining: 1.43s\n",
      "306:\tlearn: 0.0311401\ttotal: 632ms\tremaining: 1.43s\n",
      "307:\tlearn: 0.0309788\ttotal: 637ms\tremaining: 1.43s\n",
      "308:\tlearn: 0.0309017\ttotal: 638ms\tremaining: 1.43s\n",
      "309:\tlearn: 0.0308564\ttotal: 640ms\tremaining: 1.42s\n",
      "310:\tlearn: 0.0307423\ttotal: 645ms\tremaining: 1.43s\n",
      "311:\tlearn: 0.0306939\ttotal: 646ms\tremaining: 1.43s\n",
      "312:\tlearn: 0.0304938\ttotal: 648ms\tremaining: 1.42s\n",
      "313:\tlearn: 0.0303609\ttotal: 650ms\tremaining: 1.42s\n",
      "314:\tlearn: 0.0301663\ttotal: 654ms\tremaining: 1.42s\n",
      "315:\tlearn: 0.0301100\ttotal: 655ms\tremaining: 1.42s\n",
      "316:\tlearn: 0.0297465\ttotal: 656ms\tremaining: 1.41s\n",
      "317:\tlearn: 0.0295797\ttotal: 659ms\tremaining: 1.41s\n",
      "318:\tlearn: 0.0294404\ttotal: 660ms\tremaining: 1.41s\n",
      "319:\tlearn: 0.0293367\ttotal: 663ms\tremaining: 1.41s\n",
      "320:\tlearn: 0.0292171\ttotal: 664ms\tremaining: 1.41s\n",
      "321:\tlearn: 0.0291347\ttotal: 667ms\tremaining: 1.41s\n",
      "322:\tlearn: 0.0290629\ttotal: 668ms\tremaining: 1.4s\n",
      "323:\tlearn: 0.0288990\ttotal: 671ms\tremaining: 1.4s\n",
      "324:\tlearn: 0.0287716\ttotal: 672ms\tremaining: 1.4s\n",
      "325:\tlearn: 0.0287229\ttotal: 673ms\tremaining: 1.39s\n",
      "326:\tlearn: 0.0286085\ttotal: 674ms\tremaining: 1.39s\n",
      "327:\tlearn: 0.0285006\ttotal: 678ms\tremaining: 1.39s\n",
      "328:\tlearn: 0.0284352\ttotal: 679ms\tremaining: 1.39s\n",
      "329:\tlearn: 0.0283461\ttotal: 681ms\tremaining: 1.38s\n",
      "330:\tlearn: 0.0282839\ttotal: 683ms\tremaining: 1.38s\n",
      "331:\tlearn: 0.0281401\ttotal: 685ms\tremaining: 1.38s\n",
      "332:\tlearn: 0.0280434\ttotal: 686ms\tremaining: 1.37s\n",
      "333:\tlearn: 0.0280008\ttotal: 688ms\tremaining: 1.37s\n",
      "334:\tlearn: 0.0279296\ttotal: 689ms\tremaining: 1.37s\n",
      "335:\tlearn: 0.0279170\ttotal: 691ms\tremaining: 1.36s\n",
      "336:\tlearn: 0.0277763\ttotal: 692ms\tremaining: 1.36s\n",
      "337:\tlearn: 0.0275121\ttotal: 693ms\tremaining: 1.36s\n",
      "338:\tlearn: 0.0273456\ttotal: 695ms\tremaining: 1.35s\n",
      "339:\tlearn: 0.0272634\ttotal: 696ms\tremaining: 1.35s\n",
      "340:\tlearn: 0.0272513\ttotal: 698ms\tremaining: 1.35s\n",
      "341:\tlearn: 0.0269784\ttotal: 700ms\tremaining: 1.35s\n",
      "342:\tlearn: 0.0266740\ttotal: 702ms\tremaining: 1.34s\n",
      "343:\tlearn: 0.0266342\ttotal: 704ms\tremaining: 1.34s\n",
      "344:\tlearn: 0.0265454\ttotal: 705ms\tremaining: 1.34s\n",
      "345:\tlearn: 0.0264477\ttotal: 707ms\tremaining: 1.34s\n",
      "346:\tlearn: 0.0263027\ttotal: 709ms\tremaining: 1.33s\n",
      "347:\tlearn: 0.0262502\ttotal: 711ms\tremaining: 1.33s\n",
      "348:\tlearn: 0.0261847\ttotal: 713ms\tremaining: 1.33s\n",
      "349:\tlearn: 0.0260816\ttotal: 714ms\tremaining: 1.33s\n",
      "350:\tlearn: 0.0259803\ttotal: 716ms\tremaining: 1.32s\n",
      "351:\tlearn: 0.0258911\ttotal: 718ms\tremaining: 1.32s\n",
      "352:\tlearn: 0.0258470\ttotal: 720ms\tremaining: 1.32s\n",
      "353:\tlearn: 0.0257840\ttotal: 721ms\tremaining: 1.32s\n",
      "354:\tlearn: 0.0256213\ttotal: 723ms\tremaining: 1.31s\n",
      "355:\tlearn: 0.0255608\ttotal: 725ms\tremaining: 1.31s\n",
      "356:\tlearn: 0.0254758\ttotal: 727ms\tremaining: 1.31s\n",
      "357:\tlearn: 0.0253909\ttotal: 729ms\tremaining: 1.31s\n",
      "358:\tlearn: 0.0252690\ttotal: 730ms\tremaining: 1.3s\n",
      "359:\tlearn: 0.0251155\ttotal: 732ms\tremaining: 1.3s\n",
      "360:\tlearn: 0.0249664\ttotal: 734ms\tremaining: 1.3s\n",
      "361:\tlearn: 0.0248115\ttotal: 736ms\tremaining: 1.3s\n",
      "362:\tlearn: 0.0245859\ttotal: 738ms\tremaining: 1.29s\n",
      "363:\tlearn: 0.0244591\ttotal: 740ms\tremaining: 1.29s\n",
      "364:\tlearn: 0.0244224\ttotal: 741ms\tremaining: 1.29s\n",
      "365:\tlearn: 0.0243874\ttotal: 743ms\tremaining: 1.29s\n",
      "366:\tlearn: 0.0243542\ttotal: 745ms\tremaining: 1.28s\n",
      "367:\tlearn: 0.0243053\ttotal: 747ms\tremaining: 1.28s\n",
      "368:\tlearn: 0.0242325\ttotal: 749ms\tremaining: 1.28s\n",
      "369:\tlearn: 0.0241924\ttotal: 757ms\tremaining: 1.29s\n",
      "370:\tlearn: 0.0239819\ttotal: 759ms\tremaining: 1.29s\n",
      "371:\tlearn: 0.0239271\ttotal: 761ms\tremaining: 1.28s\n",
      "372:\tlearn: 0.0237186\ttotal: 763ms\tremaining: 1.28s\n",
      "373:\tlearn: 0.0236490\ttotal: 764ms\tremaining: 1.28s\n",
      "374:\tlearn: 0.0235973\ttotal: 765ms\tremaining: 1.27s\n",
      "375:\tlearn: 0.0234989\ttotal: 767ms\tremaining: 1.27s\n",
      "376:\tlearn: 0.0234886\ttotal: 768ms\tremaining: 1.27s\n",
      "377:\tlearn: 0.0234077\ttotal: 770ms\tremaining: 1.27s\n",
      "378:\tlearn: 0.0233590\ttotal: 772ms\tremaining: 1.26s\n",
      "379:\tlearn: 0.0232908\ttotal: 775ms\tremaining: 1.26s\n",
      "380:\tlearn: 0.0232595\ttotal: 778ms\tremaining: 1.26s\n",
      "381:\tlearn: 0.0231478\ttotal: 779ms\tremaining: 1.26s\n",
      "382:\tlearn: 0.0231184\ttotal: 781ms\tremaining: 1.26s\n",
      "383:\tlearn: 0.0228629\ttotal: 783ms\tremaining: 1.26s\n",
      "384:\tlearn: 0.0227294\ttotal: 785ms\tremaining: 1.25s\n",
      "385:\tlearn: 0.0225521\ttotal: 786ms\tremaining: 1.25s\n",
      "386:\tlearn: 0.0225167\ttotal: 788ms\tremaining: 1.25s\n",
      "387:\tlearn: 0.0224869\ttotal: 790ms\tremaining: 1.25s\n",
      "388:\tlearn: 0.0224072\ttotal: 792ms\tremaining: 1.24s\n",
      "389:\tlearn: 0.0223626\ttotal: 794ms\tremaining: 1.24s\n",
      "390:\tlearn: 0.0222822\ttotal: 796ms\tremaining: 1.24s\n",
      "391:\tlearn: 0.0222684\ttotal: 797ms\tremaining: 1.24s\n",
      "392:\tlearn: 0.0222218\ttotal: 799ms\tremaining: 1.23s\n",
      "393:\tlearn: 0.0221077\ttotal: 801ms\tremaining: 1.23s\n",
      "394:\tlearn: 0.0219461\ttotal: 803ms\tremaining: 1.23s\n",
      "395:\tlearn: 0.0218195\ttotal: 804ms\tremaining: 1.23s\n",
      "396:\tlearn: 0.0218100\ttotal: 806ms\tremaining: 1.22s\n",
      "397:\tlearn: 0.0217759\ttotal: 808ms\tremaining: 1.22s\n",
      "398:\tlearn: 0.0216972\ttotal: 810ms\tremaining: 1.22s\n",
      "399:\tlearn: 0.0216165\ttotal: 813ms\tremaining: 1.22s\n",
      "400:\tlearn: 0.0215875\ttotal: 815ms\tremaining: 1.22s\n",
      "401:\tlearn: 0.0213646\ttotal: 817ms\tremaining: 1.22s\n",
      "402:\tlearn: 0.0213552\ttotal: 819ms\tremaining: 1.21s\n",
      "403:\tlearn: 0.0212871\ttotal: 821ms\tremaining: 1.21s\n",
      "404:\tlearn: 0.0212079\ttotal: 823ms\tremaining: 1.21s\n",
      "405:\tlearn: 0.0211647\ttotal: 825ms\tremaining: 1.21s\n",
      "406:\tlearn: 0.0211554\ttotal: 827ms\tremaining: 1.21s\n",
      "407:\tlearn: 0.0210393\ttotal: 829ms\tremaining: 1.2s\n",
      "408:\tlearn: 0.0208988\ttotal: 831ms\tremaining: 1.2s\n",
      "409:\tlearn: 0.0207804\ttotal: 833ms\tremaining: 1.2s\n",
      "410:\tlearn: 0.0207546\ttotal: 835ms\tremaining: 1.2s\n",
      "411:\tlearn: 0.0207244\ttotal: 836ms\tremaining: 1.19s\n",
      "412:\tlearn: 0.0207159\ttotal: 838ms\tremaining: 1.19s\n",
      "413:\tlearn: 0.0205127\ttotal: 840ms\tremaining: 1.19s\n",
      "414:\tlearn: 0.0204206\ttotal: 842ms\tremaining: 1.19s\n",
      "415:\tlearn: 0.0203806\ttotal: 844ms\tremaining: 1.18s\n",
      "416:\tlearn: 0.0203279\ttotal: 847ms\tremaining: 1.18s\n",
      "417:\tlearn: 0.0202941\ttotal: 848ms\tremaining: 1.18s\n",
      "418:\tlearn: 0.0201887\ttotal: 850ms\tremaining: 1.18s\n",
      "419:\tlearn: 0.0201803\ttotal: 852ms\tremaining: 1.18s\n",
      "420:\tlearn: 0.0201722\ttotal: 854ms\tremaining: 1.17s\n",
      "421:\tlearn: 0.0199748\ttotal: 855ms\tremaining: 1.17s\n",
      "422:\tlearn: 0.0197964\ttotal: 857ms\tremaining: 1.17s\n",
      "423:\tlearn: 0.0197250\ttotal: 859ms\tremaining: 1.17s\n",
      "424:\tlearn: 0.0196858\ttotal: 861ms\tremaining: 1.17s\n",
      "425:\tlearn: 0.0196778\ttotal: 863ms\tremaining: 1.16s\n",
      "426:\tlearn: 0.0196293\ttotal: 865ms\tremaining: 1.16s\n",
      "427:\tlearn: 0.0195163\ttotal: 867ms\tremaining: 1.16s\n",
      "428:\tlearn: 0.0194814\ttotal: 868ms\tremaining: 1.16s\n",
      "429:\tlearn: 0.0194784\ttotal: 870ms\tremaining: 1.15s\n",
      "430:\tlearn: 0.0193753\ttotal: 872ms\tremaining: 1.15s\n",
      "431:\tlearn: 0.0193675\ttotal: 874ms\tremaining: 1.15s\n",
      "432:\tlearn: 0.0193318\ttotal: 876ms\tremaining: 1.15s\n",
      "433:\tlearn: 0.0192513\ttotal: 878ms\tremaining: 1.14s\n",
      "434:\tlearn: 0.0190729\ttotal: 880ms\tremaining: 1.14s\n",
      "435:\tlearn: 0.0190183\ttotal: 881ms\tremaining: 1.14s\n",
      "436:\tlearn: 0.0188671\ttotal: 884ms\tremaining: 1.14s\n",
      "437:\tlearn: 0.0188641\ttotal: 886ms\tremaining: 1.14s\n",
      "438:\tlearn: 0.0188043\ttotal: 888ms\tremaining: 1.13s\n",
      "439:\tlearn: 0.0187716\ttotal: 890ms\tremaining: 1.13s\n",
      "440:\tlearn: 0.0187454\ttotal: 892ms\tremaining: 1.13s\n",
      "441:\tlearn: 0.0186688\ttotal: 893ms\tremaining: 1.13s\n",
      "442:\tlearn: 0.0186612\ttotal: 895ms\tremaining: 1.13s\n",
      "443:\tlearn: 0.0186174\ttotal: 897ms\tremaining: 1.12s\n",
      "444:\tlearn: 0.0184687\ttotal: 899ms\tremaining: 1.12s\n",
      "445:\tlearn: 0.0184129\ttotal: 901ms\tremaining: 1.12s\n",
      "446:\tlearn: 0.0183332\ttotal: 902ms\tremaining: 1.12s\n",
      "447:\tlearn: 0.0183257\ttotal: 904ms\tremaining: 1.11s\n",
      "448:\tlearn: 0.0182788\ttotal: 906ms\tremaining: 1.11s\n",
      "449:\tlearn: 0.0182759\ttotal: 908ms\tremaining: 1.11s\n",
      "450:\tlearn: 0.0181155\ttotal: 910ms\tremaining: 1.11s\n",
      "451:\tlearn: 0.0180935\ttotal: 911ms\tremaining: 1.1s\n",
      "452:\tlearn: 0.0180531\ttotal: 912ms\tremaining: 1.1s\n",
      "453:\tlearn: 0.0180180\ttotal: 913ms\tremaining: 1.1s\n",
      "454:\tlearn: 0.0179881\ttotal: 915ms\tremaining: 1.1s\n",
      "455:\tlearn: 0.0179350\ttotal: 917ms\tremaining: 1.09s\n",
      "456:\tlearn: 0.0179102\ttotal: 918ms\tremaining: 1.09s\n",
      "457:\tlearn: 0.0178244\ttotal: 919ms\tremaining: 1.09s\n",
      "458:\tlearn: 0.0176668\ttotal: 921ms\tremaining: 1.08s\n",
      "459:\tlearn: 0.0175693\ttotal: 923ms\tremaining: 1.08s\n",
      "460:\tlearn: 0.0175464\ttotal: 925ms\tremaining: 1.08s\n",
      "461:\tlearn: 0.0175395\ttotal: 927ms\tremaining: 1.08s\n",
      "462:\tlearn: 0.0175174\ttotal: 929ms\tremaining: 1.08s\n",
      "463:\tlearn: 0.0174966\ttotal: 931ms\tremaining: 1.07s\n",
      "464:\tlearn: 0.0174911\ttotal: 933ms\tremaining: 1.07s\n",
      "465:\tlearn: 0.0174571\ttotal: 935ms\tremaining: 1.07s\n",
      "466:\tlearn: 0.0174507\ttotal: 939ms\tremaining: 1.07s\n",
      "467:\tlearn: 0.0174446\ttotal: 940ms\tremaining: 1.07s\n",
      "468:\tlearn: 0.0174005\ttotal: 942ms\tremaining: 1.07s\n",
      "469:\tlearn: 0.0173623\ttotal: 944ms\tremaining: 1.06s\n",
      "470:\tlearn: 0.0173264\ttotal: 946ms\tremaining: 1.06s\n",
      "471:\tlearn: 0.0171846\ttotal: 948ms\tremaining: 1.06s\n",
      "472:\tlearn: 0.0170950\ttotal: 949ms\tremaining: 1.06s\n",
      "473:\tlearn: 0.0170208\ttotal: 951ms\tremaining: 1.05s\n",
      "474:\tlearn: 0.0169971\ttotal: 953ms\tremaining: 1.05s\n",
      "475:\tlearn: 0.0169323\ttotal: 955ms\tremaining: 1.05s\n",
      "476:\tlearn: 0.0168760\ttotal: 957ms\tremaining: 1.05s\n",
      "477:\tlearn: 0.0168510\ttotal: 959ms\tremaining: 1.05s\n",
      "478:\tlearn: 0.0168244\ttotal: 961ms\tremaining: 1.04s\n",
      "479:\tlearn: 0.0168217\ttotal: 962ms\tremaining: 1.04s\n",
      "480:\tlearn: 0.0167914\ttotal: 964ms\tremaining: 1.04s\n",
      "481:\tlearn: 0.0167891\ttotal: 966ms\tremaining: 1.04s\n",
      "482:\tlearn: 0.0167541\ttotal: 968ms\tremaining: 1.03s\n",
      "483:\tlearn: 0.0166824\ttotal: 970ms\tremaining: 1.03s\n",
      "484:\tlearn: 0.0166511\ttotal: 972ms\tremaining: 1.03s\n",
      "485:\tlearn: 0.0166286\ttotal: 973ms\tremaining: 1.03s\n",
      "486:\tlearn: 0.0166092\ttotal: 975ms\tremaining: 1.03s\n",
      "487:\tlearn: 0.0166036\ttotal: 977ms\tremaining: 1.02s\n",
      "488:\tlearn: 0.0165737\ttotal: 979ms\tremaining: 1.02s\n",
      "489:\tlearn: 0.0165492\ttotal: 980ms\tremaining: 1.02s\n",
      "490:\tlearn: 0.0165469\ttotal: 982ms\tremaining: 1.02s\n",
      "491:\tlearn: 0.0164167\ttotal: 984ms\tremaining: 1.02s\n",
      "492:\tlearn: 0.0163005\ttotal: 986ms\tremaining: 1.01s\n",
      "493:\tlearn: 0.0162221\ttotal: 988ms\tremaining: 1.01s\n",
      "494:\tlearn: 0.0162167\ttotal: 990ms\tremaining: 1.01s\n",
      "495:\tlearn: 0.0161079\ttotal: 992ms\tremaining: 1.01s\n",
      "496:\tlearn: 0.0160609\ttotal: 994ms\tremaining: 1s\n",
      "497:\tlearn: 0.0160412\ttotal: 996ms\tremaining: 1s\n",
      "498:\tlearn: 0.0159687\ttotal: 998ms\tremaining: 1s\n",
      "499:\tlearn: 0.0159361\ttotal: 999ms\tremaining: 999ms\n",
      "500:\tlearn: 0.0158796\ttotal: 1s\tremaining: 997ms\n",
      "501:\tlearn: 0.0158052\ttotal: 1s\tremaining: 995ms\n",
      "502:\tlearn: 0.0157571\ttotal: 1s\tremaining: 993ms\n",
      "503:\tlearn: 0.0157537\ttotal: 1.01s\tremaining: 991ms\n",
      "504:\tlearn: 0.0156363\ttotal: 1.01s\tremaining: 989ms\n",
      "505:\tlearn: 0.0155296\ttotal: 1.01s\tremaining: 987ms\n",
      "506:\tlearn: 0.0155023\ttotal: 1.01s\tremaining: 988ms\n",
      "507:\tlearn: 0.0154518\ttotal: 1.02s\tremaining: 986ms\n",
      "508:\tlearn: 0.0154019\ttotal: 1.02s\tremaining: 983ms\n",
      "509:\tlearn: 0.0152952\ttotal: 1.02s\tremaining: 983ms\n",
      "510:\tlearn: 0.0152274\ttotal: 1.02s\tremaining: 981ms\n",
      "511:\tlearn: 0.0152108\ttotal: 1.03s\tremaining: 979ms\n",
      "512:\tlearn: 0.0151853\ttotal: 1.03s\tremaining: 977ms\n",
      "513:\tlearn: 0.0151086\ttotal: 1.03s\tremaining: 975ms\n",
      "514:\tlearn: 0.0150691\ttotal: 1.03s\tremaining: 973ms\n",
      "515:\tlearn: 0.0150650\ttotal: 1.03s\tremaining: 970ms\n",
      "516:\tlearn: 0.0150342\ttotal: 1.04s\tremaining: 968ms\n",
      "517:\tlearn: 0.0149958\ttotal: 1.04s\tremaining: 966ms\n",
      "518:\tlearn: 0.0149801\ttotal: 1.04s\tremaining: 964ms\n",
      "519:\tlearn: 0.0148542\ttotal: 1.04s\tremaining: 962ms\n",
      "520:\tlearn: 0.0148187\ttotal: 1.04s\tremaining: 959ms\n",
      "521:\tlearn: 0.0148139\ttotal: 1.04s\tremaining: 957ms\n",
      "522:\tlearn: 0.0147987\ttotal: 1.05s\tremaining: 955ms\n",
      "523:\tlearn: 0.0147843\ttotal: 1.05s\tremaining: 953ms\n",
      "524:\tlearn: 0.0147795\ttotal: 1.05s\tremaining: 951ms\n",
      "525:\tlearn: 0.0147351\ttotal: 1.05s\tremaining: 949ms\n",
      "526:\tlearn: 0.0147118\ttotal: 1.05s\tremaining: 946ms\n",
      "527:\tlearn: 0.0146724\ttotal: 1.06s\tremaining: 944ms\n",
      "528:\tlearn: 0.0146543\ttotal: 1.06s\tremaining: 944ms\n",
      "529:\tlearn: 0.0146307\ttotal: 1.06s\tremaining: 942ms\n",
      "530:\tlearn: 0.0145794\ttotal: 1.06s\tremaining: 940ms\n",
      "531:\tlearn: 0.0145317\ttotal: 1.06s\tremaining: 938ms\n",
      "532:\tlearn: 0.0145271\ttotal: 1.07s\tremaining: 935ms\n",
      "533:\tlearn: 0.0144992\ttotal: 1.07s\tremaining: 933ms\n",
      "534:\tlearn: 0.0144587\ttotal: 1.07s\tremaining: 931ms\n",
      "535:\tlearn: 0.0144429\ttotal: 1.07s\tremaining: 929ms\n",
      "536:\tlearn: 0.0144271\ttotal: 1.07s\tremaining: 926ms\n",
      "537:\tlearn: 0.0144122\ttotal: 1.08s\tremaining: 924ms\n",
      "538:\tlearn: 0.0143978\ttotal: 1.08s\tremaining: 922ms\n",
      "539:\tlearn: 0.0143611\ttotal: 1.08s\tremaining: 920ms\n",
      "540:\tlearn: 0.0143160\ttotal: 1.08s\tremaining: 918ms\n",
      "541:\tlearn: 0.0142952\ttotal: 1.08s\tremaining: 915ms\n",
      "542:\tlearn: 0.0142691\ttotal: 1.08s\tremaining: 913ms\n",
      "543:\tlearn: 0.0142471\ttotal: 1.09s\tremaining: 911ms\n",
      "544:\tlearn: 0.0142306\ttotal: 1.09s\tremaining: 910ms\n",
      "545:\tlearn: 0.0141847\ttotal: 1.09s\tremaining: 907ms\n",
      "546:\tlearn: 0.0141502\ttotal: 1.1s\tremaining: 909ms\n",
      "547:\tlearn: 0.0140805\ttotal: 1.1s\tremaining: 907ms\n",
      "548:\tlearn: 0.0140789\ttotal: 1.1s\tremaining: 906ms\n",
      "549:\tlearn: 0.0140502\ttotal: 1.1s\tremaining: 903ms\n",
      "550:\tlearn: 0.0140485\ttotal: 1.1s\tremaining: 901ms\n",
      "551:\tlearn: 0.0140253\ttotal: 1.11s\tremaining: 899ms\n",
      "552:\tlearn: 0.0140046\ttotal: 1.11s\tremaining: 897ms\n",
      "553:\tlearn: 0.0139800\ttotal: 1.11s\tremaining: 894ms\n",
      "554:\tlearn: 0.0139190\ttotal: 1.11s\tremaining: 892ms\n",
      "555:\tlearn: 0.0139172\ttotal: 1.11s\tremaining: 890ms\n",
      "556:\tlearn: 0.0138511\ttotal: 1.12s\tremaining: 888ms\n",
      "557:\tlearn: 0.0137829\ttotal: 1.12s\tremaining: 886ms\n",
      "558:\tlearn: 0.0137693\ttotal: 1.12s\tremaining: 883ms\n",
      "559:\tlearn: 0.0136689\ttotal: 1.12s\tremaining: 881ms\n",
      "560:\tlearn: 0.0136206\ttotal: 1.12s\tremaining: 879ms\n",
      "561:\tlearn: 0.0135853\ttotal: 1.13s\tremaining: 877ms\n",
      "562:\tlearn: 0.0135041\ttotal: 1.13s\tremaining: 875ms\n",
      "563:\tlearn: 0.0135024\ttotal: 1.13s\tremaining: 873ms\n",
      "564:\tlearn: 0.0134465\ttotal: 1.13s\tremaining: 870ms\n",
      "565:\tlearn: 0.0134434\ttotal: 1.13s\tremaining: 868ms\n",
      "566:\tlearn: 0.0133635\ttotal: 1.13s\tremaining: 866ms\n",
      "567:\tlearn: 0.0133040\ttotal: 1.14s\tremaining: 864ms\n",
      "568:\tlearn: 0.0133000\ttotal: 1.14s\tremaining: 862ms\n",
      "569:\tlearn: 0.0132809\ttotal: 1.14s\tremaining: 860ms\n",
      "570:\tlearn: 0.0132217\ttotal: 1.14s\tremaining: 858ms\n",
      "571:\tlearn: 0.0131882\ttotal: 1.14s\tremaining: 855ms\n",
      "572:\tlearn: 0.0130976\ttotal: 1.14s\tremaining: 853ms\n",
      "573:\tlearn: 0.0130937\ttotal: 1.15s\tremaining: 851ms\n",
      "574:\tlearn: 0.0130572\ttotal: 1.15s\tremaining: 849ms\n",
      "575:\tlearn: 0.0130448\ttotal: 1.15s\tremaining: 847ms\n",
      "576:\tlearn: 0.0130395\ttotal: 1.15s\tremaining: 845ms\n",
      "577:\tlearn: 0.0130075\ttotal: 1.15s\tremaining: 843ms\n",
      "578:\tlearn: 0.0130023\ttotal: 1.16s\tremaining: 841ms\n",
      "579:\tlearn: 0.0129488\ttotal: 1.16s\tremaining: 838ms\n",
      "580:\tlearn: 0.0129239\ttotal: 1.16s\tremaining: 836ms\n",
      "581:\tlearn: 0.0129209\ttotal: 1.16s\tremaining: 834ms\n",
      "582:\tlearn: 0.0129008\ttotal: 1.16s\tremaining: 832ms\n",
      "583:\tlearn: 0.0128887\ttotal: 1.17s\tremaining: 830ms\n",
      "584:\tlearn: 0.0128771\ttotal: 1.17s\tremaining: 828ms\n",
      "585:\tlearn: 0.0128577\ttotal: 1.17s\tremaining: 826ms\n",
      "586:\tlearn: 0.0128394\ttotal: 1.17s\tremaining: 824ms\n",
      "587:\tlearn: 0.0128228\ttotal: 1.17s\tremaining: 822ms\n",
      "588:\tlearn: 0.0127892\ttotal: 1.17s\tremaining: 820ms\n",
      "589:\tlearn: 0.0127483\ttotal: 1.18s\tremaining: 818ms\n",
      "590:\tlearn: 0.0127463\ttotal: 1.18s\tremaining: 815ms\n",
      "591:\tlearn: 0.0127427\ttotal: 1.18s\tremaining: 813ms\n",
      "592:\tlearn: 0.0127131\ttotal: 1.19s\tremaining: 815ms\n",
      "593:\tlearn: 0.0127095\ttotal: 1.19s\tremaining: 814ms\n",
      "594:\tlearn: 0.0127059\ttotal: 1.19s\tremaining: 812ms\n",
      "595:\tlearn: 0.0126767\ttotal: 1.19s\tremaining: 809ms\n",
      "596:\tlearn: 0.0126462\ttotal: 1.2s\tremaining: 807ms\n",
      "597:\tlearn: 0.0126155\ttotal: 1.2s\tremaining: 805ms\n",
      "598:\tlearn: 0.0126129\ttotal: 1.2s\tremaining: 803ms\n",
      "599:\tlearn: 0.0125627\ttotal: 1.2s\tremaining: 801ms\n",
      "600:\tlearn: 0.0125505\ttotal: 1.2s\tremaining: 799ms\n",
      "601:\tlearn: 0.0124823\ttotal: 1.21s\tremaining: 797ms\n",
      "602:\tlearn: 0.0124809\ttotal: 1.21s\tremaining: 795ms\n",
      "603:\tlearn: 0.0123892\ttotal: 1.21s\tremaining: 793ms\n",
      "604:\tlearn: 0.0123484\ttotal: 1.21s\tremaining: 791ms\n",
      "605:\tlearn: 0.0123373\ttotal: 1.21s\tremaining: 789ms\n",
      "606:\tlearn: 0.0122574\ttotal: 1.21s\tremaining: 786ms\n",
      "607:\tlearn: 0.0122540\ttotal: 1.22s\tremaining: 785ms\n",
      "608:\tlearn: 0.0122436\ttotal: 1.22s\tremaining: 784ms\n",
      "609:\tlearn: 0.0122252\ttotal: 1.23s\tremaining: 783ms\n",
      "610:\tlearn: 0.0122219\ttotal: 1.23s\tremaining: 782ms\n",
      "611:\tlearn: 0.0121946\ttotal: 1.23s\tremaining: 781ms\n",
      "612:\tlearn: 0.0121486\ttotal: 1.23s\tremaining: 780ms\n",
      "613:\tlearn: 0.0121203\ttotal: 1.24s\tremaining: 778ms\n",
      "614:\tlearn: 0.0120742\ttotal: 1.24s\tremaining: 776ms\n",
      "615:\tlearn: 0.0120718\ttotal: 1.24s\tremaining: 774ms\n",
      "616:\tlearn: 0.0120450\ttotal: 1.24s\tremaining: 772ms\n",
      "617:\tlearn: 0.0120418\ttotal: 1.25s\tremaining: 770ms\n",
      "618:\tlearn: 0.0120240\ttotal: 1.25s\tremaining: 768ms\n",
      "619:\tlearn: 0.0120216\ttotal: 1.25s\tremaining: 766ms\n",
      "620:\tlearn: 0.0120140\ttotal: 1.25s\tremaining: 764ms\n",
      "621:\tlearn: 0.0119882\ttotal: 1.25s\tremaining: 761ms\n",
      "622:\tlearn: 0.0119859\ttotal: 1.25s\tremaining: 760ms\n",
      "623:\tlearn: 0.0119597\ttotal: 1.26s\tremaining: 758ms\n",
      "624:\tlearn: 0.0119566\ttotal: 1.26s\tremaining: 755ms\n",
      "625:\tlearn: 0.0119414\ttotal: 1.26s\tremaining: 753ms\n",
      "626:\tlearn: 0.0119386\ttotal: 1.26s\tremaining: 752ms\n",
      "627:\tlearn: 0.0119242\ttotal: 1.26s\tremaining: 749ms\n",
      "628:\tlearn: 0.0118608\ttotal: 1.27s\tremaining: 747ms\n",
      "629:\tlearn: 0.0118448\ttotal: 1.27s\tremaining: 749ms\n",
      "630:\tlearn: 0.0118427\ttotal: 1.28s\tremaining: 747ms\n",
      "631:\tlearn: 0.0118320\ttotal: 1.28s\tremaining: 746ms\n",
      "632:\tlearn: 0.0118128\ttotal: 1.28s\tremaining: 743ms\n",
      "633:\tlearn: 0.0117888\ttotal: 1.28s\tremaining: 741ms\n",
      "634:\tlearn: 0.0117867\ttotal: 1.28s\tremaining: 739ms\n",
      "635:\tlearn: 0.0117486\ttotal: 1.29s\tremaining: 737ms\n",
      "636:\tlearn: 0.0117345\ttotal: 1.29s\tremaining: 735ms\n",
      "637:\tlearn: 0.0117162\ttotal: 1.29s\tremaining: 733ms\n",
      "638:\tlearn: 0.0116994\ttotal: 1.29s\tremaining: 730ms\n",
      "639:\tlearn: 0.0116270\ttotal: 1.29s\tremaining: 728ms\n",
      "640:\tlearn: 0.0116096\ttotal: 1.3s\tremaining: 726ms\n",
      "641:\tlearn: 0.0115573\ttotal: 1.3s\tremaining: 724ms\n",
      "642:\tlearn: 0.0115484\ttotal: 1.3s\tremaining: 722ms\n",
      "643:\tlearn: 0.0115316\ttotal: 1.3s\tremaining: 720ms\n",
      "644:\tlearn: 0.0115151\ttotal: 1.3s\tremaining: 718ms\n",
      "645:\tlearn: 0.0114960\ttotal: 1.3s\tremaining: 715ms\n",
      "646:\tlearn: 0.0114417\ttotal: 1.31s\tremaining: 713ms\n",
      "647:\tlearn: 0.0114257\ttotal: 1.31s\tremaining: 711ms\n",
      "648:\tlearn: 0.0114061\ttotal: 1.31s\tremaining: 709ms\n",
      "649:\tlearn: 0.0113842\ttotal: 1.31s\tremaining: 707ms\n",
      "650:\tlearn: 0.0113610\ttotal: 1.31s\tremaining: 705ms\n",
      "651:\tlearn: 0.0113285\ttotal: 1.32s\tremaining: 703ms\n",
      "652:\tlearn: 0.0113149\ttotal: 1.32s\tremaining: 701ms\n",
      "653:\tlearn: 0.0112432\ttotal: 1.32s\tremaining: 698ms\n",
      "654:\tlearn: 0.0112147\ttotal: 1.32s\tremaining: 696ms\n",
      "655:\tlearn: 0.0112126\ttotal: 1.32s\tremaining: 694ms\n",
      "656:\tlearn: 0.0111822\ttotal: 1.32s\tremaining: 692ms\n",
      "657:\tlearn: 0.0111680\ttotal: 1.33s\tremaining: 690ms\n",
      "658:\tlearn: 0.0111660\ttotal: 1.33s\tremaining: 688ms\n",
      "659:\tlearn: 0.0111395\ttotal: 1.33s\tremaining: 686ms\n",
      "660:\tlearn: 0.0111307\ttotal: 1.33s\tremaining: 684ms\n",
      "661:\tlearn: 0.0111221\ttotal: 1.33s\tremaining: 682ms\n",
      "662:\tlearn: 0.0111202\ttotal: 1.34s\tremaining: 680ms\n",
      "663:\tlearn: 0.0110742\ttotal: 1.34s\tremaining: 678ms\n",
      "664:\tlearn: 0.0110717\ttotal: 1.34s\tremaining: 675ms\n",
      "665:\tlearn: 0.0110481\ttotal: 1.34s\tremaining: 673ms\n",
      "666:\tlearn: 0.0110277\ttotal: 1.34s\tremaining: 671ms\n",
      "667:\tlearn: 0.0109922\ttotal: 1.35s\tremaining: 669ms\n",
      "668:\tlearn: 0.0109726\ttotal: 1.35s\tremaining: 667ms\n",
      "669:\tlearn: 0.0109502\ttotal: 1.35s\tremaining: 665ms\n",
      "670:\tlearn: 0.0108872\ttotal: 1.35s\tremaining: 663ms\n",
      "671:\tlearn: 0.0108550\ttotal: 1.35s\tremaining: 661ms\n",
      "672:\tlearn: 0.0107894\ttotal: 1.36s\tremaining: 659ms\n",
      "673:\tlearn: 0.0107484\ttotal: 1.36s\tremaining: 657ms\n",
      "674:\tlearn: 0.0107241\ttotal: 1.36s\tremaining: 655ms\n",
      "675:\tlearn: 0.0107025\ttotal: 1.36s\tremaining: 655ms\n",
      "676:\tlearn: 0.0106939\ttotal: 1.37s\tremaining: 652ms\n",
      "677:\tlearn: 0.0106920\ttotal: 1.37s\tremaining: 650ms\n",
      "678:\tlearn: 0.0106703\ttotal: 1.37s\tremaining: 648ms\n",
      "679:\tlearn: 0.0106679\ttotal: 1.37s\tremaining: 646ms\n",
      "680:\tlearn: 0.0106293\ttotal: 1.37s\tremaining: 644ms\n",
      "681:\tlearn: 0.0105781\ttotal: 1.38s\tremaining: 642ms\n",
      "682:\tlearn: 0.0105571\ttotal: 1.38s\tremaining: 640ms\n",
      "683:\tlearn: 0.0105483\ttotal: 1.38s\tremaining: 638ms\n",
      "684:\tlearn: 0.0105278\ttotal: 1.38s\tremaining: 636ms\n",
      "685:\tlearn: 0.0105260\ttotal: 1.38s\tremaining: 634ms\n",
      "686:\tlearn: 0.0105136\ttotal: 1.39s\tremaining: 632ms\n",
      "687:\tlearn: 0.0104973\ttotal: 1.39s\tremaining: 629ms\n",
      "688:\tlearn: 0.0104961\ttotal: 1.39s\tremaining: 627ms\n",
      "689:\tlearn: 0.0104872\ttotal: 1.39s\tremaining: 625ms\n",
      "690:\tlearn: 0.0104500\ttotal: 1.39s\tremaining: 623ms\n",
      "691:\tlearn: 0.0104114\ttotal: 1.4s\tremaining: 621ms\n",
      "692:\tlearn: 0.0103902\ttotal: 1.4s\tremaining: 619ms\n",
      "693:\tlearn: 0.0103778\ttotal: 1.4s\tremaining: 617ms\n",
      "694:\tlearn: 0.0103755\ttotal: 1.4s\tremaining: 615ms\n",
      "695:\tlearn: 0.0103135\ttotal: 1.4s\tremaining: 613ms\n",
      "696:\tlearn: 0.0102857\ttotal: 1.41s\tremaining: 611ms\n",
      "697:\tlearn: 0.0102778\ttotal: 1.41s\tremaining: 609ms\n",
      "698:\tlearn: 0.0102754\ttotal: 1.41s\tremaining: 607ms\n",
      "699:\tlearn: 0.0102678\ttotal: 1.41s\tremaining: 604ms\n",
      "700:\tlearn: 0.0102564\ttotal: 1.41s\tremaining: 602ms\n",
      "701:\tlearn: 0.0102450\ttotal: 1.41s\tremaining: 600ms\n",
      "702:\tlearn: 0.0102329\ttotal: 1.42s\tremaining: 598ms\n",
      "703:\tlearn: 0.0101988\ttotal: 1.42s\tremaining: 596ms\n",
      "704:\tlearn: 0.0101965\ttotal: 1.42s\tremaining: 594ms\n",
      "705:\tlearn: 0.0101942\ttotal: 1.42s\tremaining: 592ms\n",
      "706:\tlearn: 0.0101595\ttotal: 1.42s\tremaining: 590ms\n",
      "707:\tlearn: 0.0101241\ttotal: 1.42s\tremaining: 588ms\n",
      "708:\tlearn: 0.0101223\ttotal: 1.43s\tremaining: 586ms\n",
      "709:\tlearn: 0.0101007\ttotal: 1.43s\tremaining: 583ms\n",
      "710:\tlearn: 0.0100657\ttotal: 1.43s\tremaining: 581ms\n",
      "711:\tlearn: 0.0100640\ttotal: 1.43s\tremaining: 579ms\n",
      "712:\tlearn: 0.0100148\ttotal: 1.43s\tremaining: 577ms\n",
      "713:\tlearn: 0.0099597\ttotal: 1.44s\tremaining: 575ms\n",
      "714:\tlearn: 0.0099576\ttotal: 1.44s\tremaining: 573ms\n",
      "715:\tlearn: 0.0099317\ttotal: 1.44s\tremaining: 571ms\n",
      "716:\tlearn: 0.0099299\ttotal: 1.44s\tremaining: 569ms\n",
      "717:\tlearn: 0.0099230\ttotal: 1.44s\tremaining: 567ms\n",
      "718:\tlearn: 0.0099114\ttotal: 1.45s\tremaining: 565ms\n",
      "719:\tlearn: 0.0099092\ttotal: 1.45s\tremaining: 563ms\n",
      "720:\tlearn: 0.0098896\ttotal: 1.45s\tremaining: 562ms\n",
      "721:\tlearn: 0.0098880\ttotal: 1.45s\tremaining: 560ms\n",
      "722:\tlearn: 0.0098645\ttotal: 1.46s\tremaining: 559ms\n",
      "723:\tlearn: 0.0098629\ttotal: 1.46s\tremaining: 557ms\n",
      "724:\tlearn: 0.0098413\ttotal: 1.46s\tremaining: 555ms\n",
      "725:\tlearn: 0.0098391\ttotal: 1.46s\tremaining: 552ms\n",
      "726:\tlearn: 0.0098046\ttotal: 1.47s\tremaining: 550ms\n",
      "727:\tlearn: 0.0097567\ttotal: 1.47s\tremaining: 548ms\n",
      "728:\tlearn: 0.0097552\ttotal: 1.47s\tremaining: 545ms\n",
      "729:\tlearn: 0.0097147\ttotal: 1.47s\tremaining: 543ms\n",
      "730:\tlearn: 0.0097015\ttotal: 1.47s\tremaining: 541ms\n",
      "731:\tlearn: 0.0096759\ttotal: 1.47s\tremaining: 538ms\n",
      "732:\tlearn: 0.0096619\ttotal: 1.47s\tremaining: 536ms\n",
      "733:\tlearn: 0.0096314\ttotal: 1.47s\tremaining: 534ms\n",
      "734:\tlearn: 0.0096300\ttotal: 1.47s\tremaining: 531ms\n",
      "735:\tlearn: 0.0096041\ttotal: 1.47s\tremaining: 529ms\n",
      "736:\tlearn: 0.0095885\ttotal: 1.47s\tremaining: 526ms\n",
      "737:\tlearn: 0.0095757\ttotal: 1.48s\tremaining: 524ms\n",
      "738:\tlearn: 0.0095742\ttotal: 1.48s\tremaining: 522ms\n",
      "739:\tlearn: 0.0095633\ttotal: 1.48s\tremaining: 519ms\n",
      "740:\tlearn: 0.0095339\ttotal: 1.48s\tremaining: 517ms\n",
      "741:\tlearn: 0.0095147\ttotal: 1.48s\tremaining: 515ms\n",
      "742:\tlearn: 0.0094819\ttotal: 1.48s\tremaining: 512ms\n",
      "743:\tlearn: 0.0094428\ttotal: 1.48s\tremaining: 510ms\n",
      "744:\tlearn: 0.0093790\ttotal: 1.48s\tremaining: 508ms\n",
      "745:\tlearn: 0.0093685\ttotal: 1.48s\tremaining: 505ms\n",
      "746:\tlearn: 0.0093593\ttotal: 1.49s\tremaining: 503ms\n",
      "747:\tlearn: 0.0093575\ttotal: 1.49s\tremaining: 501ms\n",
      "748:\tlearn: 0.0093463\ttotal: 1.49s\tremaining: 500ms\n",
      "749:\tlearn: 0.0093453\ttotal: 1.49s\tremaining: 498ms\n",
      "750:\tlearn: 0.0093358\ttotal: 1.5s\tremaining: 497ms\n",
      "751:\tlearn: 0.0093340\ttotal: 1.5s\tremaining: 495ms\n",
      "752:\tlearn: 0.0093242\ttotal: 1.5s\tremaining: 493ms\n",
      "753:\tlearn: 0.0093174\ttotal: 1.5s\tremaining: 490ms\n",
      "754:\tlearn: 0.0093163\ttotal: 1.5s\tremaining: 488ms\n",
      "755:\tlearn: 0.0092980\ttotal: 1.5s\tremaining: 486ms\n",
      "756:\tlearn: 0.0092963\ttotal: 1.5s\tremaining: 483ms\n",
      "757:\tlearn: 0.0092721\ttotal: 1.51s\tremaining: 481ms\n",
      "758:\tlearn: 0.0092420\ttotal: 1.51s\tremaining: 479ms\n",
      "759:\tlearn: 0.0092406\ttotal: 1.51s\tremaining: 477ms\n",
      "760:\tlearn: 0.0092322\ttotal: 1.51s\tremaining: 474ms\n",
      "761:\tlearn: 0.0092221\ttotal: 1.51s\tremaining: 472ms\n",
      "762:\tlearn: 0.0091982\ttotal: 1.51s\tremaining: 470ms\n",
      "763:\tlearn: 0.0091554\ttotal: 1.51s\tremaining: 468ms\n",
      "764:\tlearn: 0.0091388\ttotal: 1.52s\tremaining: 466ms\n",
      "765:\tlearn: 0.0090980\ttotal: 1.52s\tremaining: 464ms\n",
      "766:\tlearn: 0.0090895\ttotal: 1.52s\tremaining: 462ms\n",
      "767:\tlearn: 0.0090556\ttotal: 1.52s\tremaining: 459ms\n",
      "768:\tlearn: 0.0090466\ttotal: 1.52s\tremaining: 457ms\n",
      "769:\tlearn: 0.0090082\ttotal: 1.52s\tremaining: 455ms\n",
      "770:\tlearn: 0.0089925\ttotal: 1.52s\tremaining: 453ms\n",
      "771:\tlearn: 0.0089906\ttotal: 1.53s\tremaining: 452ms\n",
      "772:\tlearn: 0.0089832\ttotal: 1.53s\tremaining: 451ms\n",
      "773:\tlearn: 0.0089760\ttotal: 1.54s\tremaining: 449ms\n",
      "774:\tlearn: 0.0089742\ttotal: 1.54s\tremaining: 447ms\n",
      "775:\tlearn: 0.0089669\ttotal: 1.54s\tremaining: 446ms\n",
      "776:\tlearn: 0.0089651\ttotal: 1.55s\tremaining: 444ms\n",
      "777:\tlearn: 0.0089582\ttotal: 1.55s\tremaining: 442ms\n",
      "778:\tlearn: 0.0089489\ttotal: 1.55s\tremaining: 441ms\n",
      "779:\tlearn: 0.0089475\ttotal: 1.56s\tremaining: 439ms\n",
      "780:\tlearn: 0.0089356\ttotal: 1.56s\tremaining: 437ms\n",
      "781:\tlearn: 0.0089207\ttotal: 1.56s\tremaining: 435ms\n",
      "782:\tlearn: 0.0089195\ttotal: 1.56s\tremaining: 433ms\n",
      "783:\tlearn: 0.0089128\ttotal: 1.57s\tremaining: 431ms\n",
      "784:\tlearn: 0.0089115\ttotal: 1.57s\tremaining: 429ms\n",
      "785:\tlearn: 0.0089049\ttotal: 1.57s\tremaining: 427ms\n",
      "786:\tlearn: 0.0089033\ttotal: 1.57s\tremaining: 425ms\n",
      "787:\tlearn: 0.0088917\ttotal: 1.57s\tremaining: 423ms\n",
      "788:\tlearn: 0.0088901\ttotal: 1.58s\tremaining: 422ms\n",
      "789:\tlearn: 0.0088417\ttotal: 1.58s\tremaining: 420ms\n",
      "790:\tlearn: 0.0088404\ttotal: 1.58s\tremaining: 418ms\n",
      "791:\tlearn: 0.0088171\ttotal: 1.58s\tremaining: 416ms\n",
      "792:\tlearn: 0.0088154\ttotal: 1.58s\tremaining: 413ms\n",
      "793:\tlearn: 0.0087882\ttotal: 1.59s\tremaining: 412ms\n",
      "794:\tlearn: 0.0087866\ttotal: 1.59s\tremaining: 410ms\n",
      "795:\tlearn: 0.0087851\ttotal: 1.59s\tremaining: 408ms\n",
      "796:\tlearn: 0.0087556\ttotal: 1.59s\tremaining: 406ms\n",
      "797:\tlearn: 0.0087545\ttotal: 1.59s\tremaining: 404ms\n",
      "798:\tlearn: 0.0087483\ttotal: 1.6s\tremaining: 402ms\n",
      "799:\tlearn: 0.0087341\ttotal: 1.6s\tremaining: 400ms\n",
      "800:\tlearn: 0.0087257\ttotal: 1.6s\tremaining: 398ms\n",
      "801:\tlearn: 0.0087030\ttotal: 1.6s\tremaining: 396ms\n",
      "802:\tlearn: 0.0087020\ttotal: 1.61s\tremaining: 394ms\n",
      "803:\tlearn: 0.0086958\ttotal: 1.61s\tremaining: 392ms\n",
      "804:\tlearn: 0.0086745\ttotal: 1.61s\tremaining: 390ms\n",
      "805:\tlearn: 0.0086526\ttotal: 1.61s\tremaining: 388ms\n",
      "806:\tlearn: 0.0086436\ttotal: 1.61s\tremaining: 386ms\n",
      "807:\tlearn: 0.0086422\ttotal: 1.62s\tremaining: 384ms\n",
      "808:\tlearn: 0.0086361\ttotal: 1.62s\tremaining: 382ms\n",
      "809:\tlearn: 0.0086350\ttotal: 1.62s\tremaining: 380ms\n",
      "810:\tlearn: 0.0086291\ttotal: 1.62s\tremaining: 378ms\n",
      "811:\tlearn: 0.0085931\ttotal: 1.62s\tremaining: 376ms\n",
      "812:\tlearn: 0.0085917\ttotal: 1.62s\tremaining: 373ms\n",
      "813:\tlearn: 0.0085903\ttotal: 1.62s\tremaining: 371ms\n",
      "814:\tlearn: 0.0085645\ttotal: 1.62s\tremaining: 369ms\n",
      "815:\tlearn: 0.0085482\ttotal: 1.63s\tremaining: 366ms\n",
      "816:\tlearn: 0.0085391\ttotal: 1.63s\tremaining: 364ms\n",
      "817:\tlearn: 0.0085377\ttotal: 1.63s\tremaining: 362ms\n",
      "818:\tlearn: 0.0085363\ttotal: 1.63s\tremaining: 360ms\n",
      "819:\tlearn: 0.0085029\ttotal: 1.63s\tremaining: 358ms\n",
      "820:\tlearn: 0.0084798\ttotal: 1.63s\tremaining: 355ms\n",
      "821:\tlearn: 0.0084566\ttotal: 1.63s\tremaining: 353ms\n",
      "822:\tlearn: 0.0084557\ttotal: 1.63s\tremaining: 351ms\n",
      "823:\tlearn: 0.0084412\ttotal: 1.63s\tremaining: 349ms\n",
      "824:\tlearn: 0.0084399\ttotal: 1.63s\tremaining: 347ms\n",
      "825:\tlearn: 0.0084039\ttotal: 1.63s\tremaining: 344ms\n",
      "826:\tlearn: 0.0084029\ttotal: 1.64s\tremaining: 342ms\n",
      "827:\tlearn: 0.0083970\ttotal: 1.64s\tremaining: 340ms\n",
      "828:\tlearn: 0.0083958\ttotal: 1.64s\tremaining: 338ms\n",
      "829:\tlearn: 0.0083897\ttotal: 1.64s\tremaining: 336ms\n",
      "830:\tlearn: 0.0083733\ttotal: 1.64s\tremaining: 333ms\n",
      "831:\tlearn: 0.0083190\ttotal: 1.64s\tremaining: 331ms\n",
      "832:\tlearn: 0.0083107\ttotal: 1.64s\tremaining: 329ms\n",
      "833:\tlearn: 0.0083098\ttotal: 1.64s\tremaining: 327ms\n",
      "834:\tlearn: 0.0082805\ttotal: 1.64s\tremaining: 325ms\n",
      "835:\tlearn: 0.0082647\ttotal: 1.64s\tremaining: 323ms\n",
      "836:\tlearn: 0.0082389\ttotal: 1.65s\tremaining: 320ms\n",
      "837:\tlearn: 0.0081932\ttotal: 1.65s\tremaining: 318ms\n",
      "838:\tlearn: 0.0081923\ttotal: 1.65s\tremaining: 316ms\n",
      "839:\tlearn: 0.0081661\ttotal: 1.65s\tremaining: 314ms\n",
      "840:\tlearn: 0.0081652\ttotal: 1.65s\tremaining: 312ms\n",
      "841:\tlearn: 0.0081305\ttotal: 1.65s\tremaining: 310ms\n",
      "842:\tlearn: 0.0081293\ttotal: 1.65s\tremaining: 307ms\n",
      "843:\tlearn: 0.0081105\ttotal: 1.65s\tremaining: 305ms\n",
      "844:\tlearn: 0.0080789\ttotal: 1.65s\tremaining: 303ms\n",
      "845:\tlearn: 0.0080603\ttotal: 1.65s\tremaining: 301ms\n",
      "846:\tlearn: 0.0080420\ttotal: 1.65s\tremaining: 299ms\n",
      "847:\tlearn: 0.0080408\ttotal: 1.66s\tremaining: 297ms\n",
      "848:\tlearn: 0.0080211\ttotal: 1.66s\tremaining: 295ms\n",
      "849:\tlearn: 0.0080015\ttotal: 1.66s\tremaining: 294ms\n",
      "850:\tlearn: 0.0079864\ttotal: 1.67s\tremaining: 292ms\n",
      "851:\tlearn: 0.0079851\ttotal: 1.67s\tremaining: 290ms\n",
      "852:\tlearn: 0.0079602\ttotal: 1.67s\tremaining: 288ms\n",
      "853:\tlearn: 0.0079592\ttotal: 1.67s\tremaining: 286ms\n",
      "854:\tlearn: 0.0079533\ttotal: 1.67s\tremaining: 283ms\n",
      "855:\tlearn: 0.0079521\ttotal: 1.67s\tremaining: 281ms\n",
      "856:\tlearn: 0.0079302\ttotal: 1.67s\tremaining: 279ms\n",
      "857:\tlearn: 0.0079106\ttotal: 1.67s\tremaining: 277ms\n",
      "858:\tlearn: 0.0079094\ttotal: 1.68s\tremaining: 275ms\n",
      "859:\tlearn: 0.0079082\ttotal: 1.68s\tremaining: 273ms\n",
      "860:\tlearn: 0.0078990\ttotal: 1.68s\tremaining: 271ms\n",
      "861:\tlearn: 0.0078980\ttotal: 1.68s\tremaining: 269ms\n",
      "862:\tlearn: 0.0078775\ttotal: 1.68s\tremaining: 267ms\n",
      "863:\tlearn: 0.0078764\ttotal: 1.68s\tremaining: 264ms\n",
      "864:\tlearn: 0.0078581\ttotal: 1.68s\tremaining: 262ms\n",
      "865:\tlearn: 0.0078570\ttotal: 1.68s\tremaining: 260ms\n",
      "866:\tlearn: 0.0078520\ttotal: 1.68s\tremaining: 258ms\n",
      "867:\tlearn: 0.0078508\ttotal: 1.68s\tremaining: 256ms\n",
      "868:\tlearn: 0.0078417\ttotal: 1.68s\tremaining: 254ms\n",
      "869:\tlearn: 0.0078409\ttotal: 1.69s\tremaining: 252ms\n",
      "870:\tlearn: 0.0078269\ttotal: 1.69s\tremaining: 250ms\n",
      "871:\tlearn: 0.0078199\ttotal: 1.69s\tremaining: 248ms\n",
      "872:\tlearn: 0.0077963\ttotal: 1.69s\tremaining: 246ms\n",
      "873:\tlearn: 0.0077886\ttotal: 1.69s\tremaining: 244ms\n",
      "874:\tlearn: 0.0077695\ttotal: 1.69s\tremaining: 241ms\n",
      "875:\tlearn: 0.0077690\ttotal: 1.69s\tremaining: 239ms\n",
      "876:\tlearn: 0.0077213\ttotal: 1.69s\tremaining: 237ms\n",
      "877:\tlearn: 0.0077201\ttotal: 1.69s\tremaining: 235ms\n",
      "878:\tlearn: 0.0077028\ttotal: 1.69s\tremaining: 233ms\n",
      "879:\tlearn: 0.0076942\ttotal: 1.69s\tremaining: 231ms\n",
      "880:\tlearn: 0.0076732\ttotal: 1.7s\tremaining: 229ms\n",
      "881:\tlearn: 0.0076559\ttotal: 1.7s\tremaining: 227ms\n",
      "882:\tlearn: 0.0076423\ttotal: 1.7s\tremaining: 225ms\n",
      "883:\tlearn: 0.0076299\ttotal: 1.7s\tremaining: 223ms\n",
      "884:\tlearn: 0.0076294\ttotal: 1.7s\tremaining: 221ms\n",
      "885:\tlearn: 0.0076167\ttotal: 1.7s\tremaining: 219ms\n",
      "886:\tlearn: 0.0076052\ttotal: 1.7s\tremaining: 217ms\n",
      "887:\tlearn: 0.0075977\ttotal: 1.7s\tremaining: 215ms\n",
      "888:\tlearn: 0.0075565\ttotal: 1.7s\tremaining: 213ms\n",
      "889:\tlearn: 0.0075434\ttotal: 1.7s\tremaining: 211ms\n",
      "890:\tlearn: 0.0075194\ttotal: 1.71s\tremaining: 209ms\n",
      "891:\tlearn: 0.0075129\ttotal: 1.71s\tremaining: 207ms\n",
      "892:\tlearn: 0.0075118\ttotal: 1.71s\tremaining: 205ms\n",
      "893:\tlearn: 0.0074949\ttotal: 1.71s\tremaining: 203ms\n",
      "894:\tlearn: 0.0074804\ttotal: 1.71s\tremaining: 201ms\n",
      "895:\tlearn: 0.0074683\ttotal: 1.71s\tremaining: 199ms\n",
      "896:\tlearn: 0.0074543\ttotal: 1.71s\tremaining: 197ms\n",
      "897:\tlearn: 0.0074304\ttotal: 1.72s\tremaining: 195ms\n",
      "898:\tlearn: 0.0074293\ttotal: 1.72s\tremaining: 193ms\n",
      "899:\tlearn: 0.0074234\ttotal: 1.72s\tremaining: 191ms\n",
      "900:\tlearn: 0.0074104\ttotal: 1.72s\tremaining: 189ms\n",
      "901:\tlearn: 0.0073995\ttotal: 1.72s\tremaining: 187ms\n",
      "902:\tlearn: 0.0073702\ttotal: 1.72s\tremaining: 185ms\n",
      "903:\tlearn: 0.0073564\ttotal: 1.72s\tremaining: 183ms\n",
      "904:\tlearn: 0.0073557\ttotal: 1.72s\tremaining: 181ms\n",
      "905:\tlearn: 0.0073402\ttotal: 1.72s\tremaining: 179ms\n",
      "906:\tlearn: 0.0073391\ttotal: 1.72s\tremaining: 177ms\n",
      "907:\tlearn: 0.0072968\ttotal: 1.72s\tremaining: 175ms\n",
      "908:\tlearn: 0.0072825\ttotal: 1.72s\tremaining: 173ms\n",
      "909:\tlearn: 0.0072701\ttotal: 1.73s\tremaining: 171ms\n",
      "910:\tlearn: 0.0072607\ttotal: 1.73s\tremaining: 169ms\n",
      "911:\tlearn: 0.0072546\ttotal: 1.73s\tremaining: 167ms\n",
      "912:\tlearn: 0.0072333\ttotal: 1.73s\tremaining: 165ms\n",
      "913:\tlearn: 0.0072127\ttotal: 1.73s\tremaining: 163ms\n",
      "914:\tlearn: 0.0072121\ttotal: 1.73s\tremaining: 161ms\n",
      "915:\tlearn: 0.0072076\ttotal: 1.73s\tremaining: 159ms\n",
      "916:\tlearn: 0.0072071\ttotal: 1.73s\tremaining: 157ms\n",
      "917:\tlearn: 0.0071992\ttotal: 1.74s\tremaining: 155ms\n",
      "918:\tlearn: 0.0071844\ttotal: 1.74s\tremaining: 153ms\n",
      "919:\tlearn: 0.0071703\ttotal: 1.74s\tremaining: 151ms\n",
      "920:\tlearn: 0.0071598\ttotal: 1.74s\tremaining: 149ms\n",
      "921:\tlearn: 0.0071531\ttotal: 1.74s\tremaining: 147ms\n",
      "922:\tlearn: 0.0071456\ttotal: 1.74s\tremaining: 145ms\n",
      "923:\tlearn: 0.0071363\ttotal: 1.74s\tremaining: 143ms\n",
      "924:\tlearn: 0.0071221\ttotal: 1.74s\tremaining: 141ms\n",
      "925:\tlearn: 0.0071163\ttotal: 1.74s\tremaining: 139ms\n",
      "926:\tlearn: 0.0071157\ttotal: 1.74s\tremaining: 137ms\n",
      "927:\tlearn: 0.0071108\ttotal: 1.74s\tremaining: 135ms\n",
      "928:\tlearn: 0.0070816\ttotal: 1.75s\tremaining: 133ms\n",
      "929:\tlearn: 0.0070780\ttotal: 1.75s\tremaining: 131ms\n",
      "930:\tlearn: 0.0070775\ttotal: 1.75s\tremaining: 130ms\n",
      "931:\tlearn: 0.0070664\ttotal: 1.75s\tremaining: 128ms\n",
      "932:\tlearn: 0.0070659\ttotal: 1.75s\tremaining: 126ms\n",
      "933:\tlearn: 0.0070581\ttotal: 1.75s\tremaining: 124ms\n",
      "934:\tlearn: 0.0070468\ttotal: 1.75s\tremaining: 122ms\n",
      "935:\tlearn: 0.0070100\ttotal: 1.75s\tremaining: 120ms\n",
      "936:\tlearn: 0.0069963\ttotal: 1.75s\tremaining: 118ms\n",
      "937:\tlearn: 0.0069856\ttotal: 1.75s\tremaining: 116ms\n",
      "938:\tlearn: 0.0069703\ttotal: 1.75s\tremaining: 114ms\n",
      "939:\tlearn: 0.0069698\ttotal: 1.76s\tremaining: 112ms\n",
      "940:\tlearn: 0.0069590\ttotal: 1.76s\tremaining: 110ms\n",
      "941:\tlearn: 0.0069585\ttotal: 1.76s\tremaining: 108ms\n",
      "942:\tlearn: 0.0069370\ttotal: 1.76s\tremaining: 106ms\n",
      "943:\tlearn: 0.0069226\ttotal: 1.76s\tremaining: 104ms\n",
      "944:\tlearn: 0.0069099\ttotal: 1.76s\tremaining: 102ms\n",
      "945:\tlearn: 0.0068978\ttotal: 1.76s\tremaining: 101ms\n",
      "946:\tlearn: 0.0068883\ttotal: 1.76s\tremaining: 98.7ms\n",
      "947:\tlearn: 0.0068879\ttotal: 1.76s\tremaining: 96.8ms\n",
      "948:\tlearn: 0.0068773\ttotal: 1.76s\tremaining: 94.8ms\n",
      "949:\tlearn: 0.0068448\ttotal: 1.76s\tremaining: 92.9ms\n",
      "950:\tlearn: 0.0068344\ttotal: 1.77s\tremaining: 91ms\n",
      "951:\tlearn: 0.0068274\ttotal: 1.77s\tremaining: 89.1ms\n",
      "952:\tlearn: 0.0068084\ttotal: 1.77s\tremaining: 87.2ms\n",
      "953:\tlearn: 0.0068075\ttotal: 1.77s\tremaining: 85.3ms\n",
      "954:\tlearn: 0.0068001\ttotal: 1.77s\tremaining: 83.4ms\n",
      "955:\tlearn: 0.0067953\ttotal: 1.77s\tremaining: 81.5ms\n",
      "956:\tlearn: 0.0067877\ttotal: 1.77s\tremaining: 79.6ms\n",
      "957:\tlearn: 0.0067867\ttotal: 1.77s\tremaining: 77.7ms\n",
      "958:\tlearn: 0.0067825\ttotal: 1.77s\tremaining: 75.8ms\n",
      "959:\tlearn: 0.0067731\ttotal: 1.77s\tremaining: 74ms\n",
      "960:\tlearn: 0.0067660\ttotal: 1.77s\tremaining: 72.1ms\n",
      "961:\tlearn: 0.0067653\ttotal: 1.78s\tremaining: 70.2ms\n",
      "962:\tlearn: 0.0067535\ttotal: 1.78s\tremaining: 68.3ms\n",
      "963:\tlearn: 0.0067526\ttotal: 1.78s\tremaining: 66.4ms\n",
      "964:\tlearn: 0.0067458\ttotal: 1.78s\tremaining: 64.6ms\n",
      "965:\tlearn: 0.0067426\ttotal: 1.78s\tremaining: 62.7ms\n",
      "966:\tlearn: 0.0067367\ttotal: 1.78s\tremaining: 60.8ms\n",
      "967:\tlearn: 0.0067357\ttotal: 1.78s\tremaining: 58.9ms\n",
      "968:\tlearn: 0.0067263\ttotal: 1.78s\tremaining: 57.1ms\n",
      "969:\tlearn: 0.0067253\ttotal: 1.78s\tremaining: 55.2ms\n",
      "970:\tlearn: 0.0067139\ttotal: 1.78s\tremaining: 53.3ms\n",
      "971:\tlearn: 0.0067043\ttotal: 1.79s\tremaining: 51.5ms\n",
      "972:\tlearn: 0.0066991\ttotal: 1.79s\tremaining: 49.6ms\n",
      "973:\tlearn: 0.0066930\ttotal: 1.79s\tremaining: 47.8ms\n",
      "974:\tlearn: 0.0066594\ttotal: 1.79s\tremaining: 45.9ms\n",
      "975:\tlearn: 0.0066563\ttotal: 1.79s\tremaining: 44.1ms\n",
      "976:\tlearn: 0.0066466\ttotal: 1.79s\tremaining: 42.2ms\n",
      "977:\tlearn: 0.0066308\ttotal: 1.79s\tremaining: 40.4ms\n",
      "978:\tlearn: 0.0066065\ttotal: 1.8s\tremaining: 38.5ms\n",
      "979:\tlearn: 0.0065976\ttotal: 1.8s\tremaining: 36.7ms\n",
      "980:\tlearn: 0.0065934\ttotal: 1.8s\tremaining: 34.8ms\n",
      "981:\tlearn: 0.0065897\ttotal: 1.8s\tremaining: 33ms\n",
      "982:\tlearn: 0.0065893\ttotal: 1.8s\tremaining: 31.2ms\n",
      "983:\tlearn: 0.0065852\ttotal: 1.8s\tremaining: 29.4ms\n",
      "984:\tlearn: 0.0065489\ttotal: 1.81s\tremaining: 27.5ms\n",
      "985:\tlearn: 0.0065433\ttotal: 1.81s\tremaining: 25.7ms\n",
      "986:\tlearn: 0.0065394\ttotal: 1.81s\tremaining: 23.8ms\n",
      "987:\tlearn: 0.0065273\ttotal: 1.81s\tremaining: 22ms\n",
      "988:\tlearn: 0.0065128\ttotal: 1.81s\tremaining: 20.1ms\n",
      "989:\tlearn: 0.0065018\ttotal: 1.81s\tremaining: 18.3ms\n",
      "990:\tlearn: 0.0065014\ttotal: 1.81s\tremaining: 16.5ms\n",
      "991:\tlearn: 0.0064976\ttotal: 1.81s\tremaining: 14.6ms\n",
      "992:\tlearn: 0.0064927\ttotal: 1.81s\tremaining: 12.8ms\n",
      "993:\tlearn: 0.0064919\ttotal: 1.81s\tremaining: 11ms\n",
      "994:\tlearn: 0.0064881\ttotal: 1.82s\tremaining: 9.13ms\n",
      "995:\tlearn: 0.0064874\ttotal: 1.82s\tremaining: 7.3ms\n",
      "996:\tlearn: 0.0064837\ttotal: 1.82s\tremaining: 5.47ms\n",
      "997:\tlearn: 0.0064830\ttotal: 1.82s\tremaining: 3.65ms\n",
      "998:\tlearn: 0.0064793\ttotal: 1.82s\tremaining: 1.82ms\n",
      "999:\tlearn: 0.0064602\ttotal: 1.82s\tremaining: 0us\n",
      "AUC Score: 0.717714424951267\n",
      "Accuracy: 0.9154078549848943\n"
     ]
    }
   ]
  },
  {
   "cell_type": "code",
   "source": [
    "# parameters = [{'learning_rate':[0.05,0.1,0.5], 'depth':[2,3,4]}]\n",
    "\n",
    "# search = GridSearchCV(CatBoostClassifier(), param_grid=parameters, scoring='roc_auc')\n",
    "# search.fit(x_train, y_train)\n",
    "\n",
    "# print(\"Best parameters set found on development set:\")\n",
    "# print()\n",
    "# print(search.best_params_)\n",
    "# print()\n",
    "# print(\"Grid scores on development set:\")\n",
    "# print()\n",
    "# means = search.cv_results_['mean_test_score']\n",
    "# stds = search.cv_results_['std_test_score']\n",
    "# for mean, std, params in zip(means, stds, search.cv_results_['params']):\n",
    "#     print(\"%0.3f (+/-%0.03f) for %r\"\n",
    "#             % (mean, std * 2, params))"
   ],
   "metadata": {
    "id": "k3gTOFQ1TARn"
   },
   "execution_count": null,
   "outputs": []
  },
  {
   "cell_type": "code",
   "source": [
    "QDA = QuadraticDiscriminantAnalysis()\n",
    "\n",
    "QDA.fit(x_train, y_train)\n",
    "y_pred = QDA.predict(x_test)\n",
    "initial_pred['qda'] = y_pred\n",
    "auc_score = roc_auc_score(y_test, y_pred)\n",
    "print(\"AUC Score:\", auc_score)\n",
    "print(\"Accuracy:\",metrics.accuracy_score(y_test, y_pred))"
   ],
   "metadata": {
    "id": "wJS5nqqcuDsn",
    "colab": {
     "base_uri": "https://localhost:8080/"
    },
    "executionInfo": {
     "status": "ok",
     "timestamp": 1697315392655,
     "user_tz": 240,
     "elapsed": 59,
     "user": {
      "displayName": "Hao Huang",
      "userId": "01836457921775189398"
     }
    },
    "outputId": "61bdc256-90d1-476a-d7a0-6790bc0186eb"
   },
   "execution_count": null,
   "outputs": [
    {
     "output_type": "stream",
     "name": "stdout",
     "text": [
      "AUC Score: 0.7605994152046784\n",
      "Accuracy: 0.7462235649546828\n"
     ]
    },
    {
     "output_type": "stream",
     "name": "stderr",
     "text": [
      "/usr/local/lib/python3.10/dist-packages/sklearn/discriminant_analysis.py:926: UserWarning: Variables are collinear\n",
      "  warnings.warn(\"Variables are collinear\")\n"
     ]
    }
   ]
  },
  {
   "cell_type": "code",
   "source": [
    "initial_pred"
   ],
   "metadata": {
    "id": "OfPdueMZM3kq",
    "colab": {
     "base_uri": "https://localhost:8080/",
     "height": 423
    },
    "executionInfo": {
     "status": "ok",
     "timestamp": 1697315392656,
     "user_tz": 240,
     "elapsed": 35,
     "user": {
      "displayName": "Hao Huang",
      "userId": "01836457921775189398"
     }
    },
    "outputId": "06b2c369-0a28-482b-dd50-62a1a03b3694"
   },
   "execution_count": null,
   "outputs": [
    {
     "output_type": "execute_result",
     "data": {
      "text/plain": [
       "     ada  xgb  light  logistic  forest  cat  qda\n",
       "0      0    0      0         0       0    0    0\n",
       "1      0    0      0         0       0    0    0\n",
       "2      0    0      0         0       0    0    0\n",
       "3      0    0      0         0       0    0    0\n",
       "4      0    0      0         0       0    0    1\n",
       "..   ...  ...    ...       ...     ...  ...  ...\n",
       "326    0    0      0         0       0    0    0\n",
       "327    0    0      0         0       0    0    0\n",
       "328    0    0      0         0       0    0    0\n",
       "329    0    0      0         0       0    0    0\n",
       "330    0    0      0         0       0    0    0\n",
       "\n",
       "[331 rows x 7 columns]"
      ],
      "text/html": [
       "\n",
       "  <div id=\"df-d8ec5bc1-1717-4441-9db6-18b8eac53559\" class=\"colab-df-container\">\n",
       "    <div>\n",
       "<style scoped>\n",
       "    .dataframe tbody tr th:only-of-type {\n",
       "        vertical-align: middle;\n",
       "    }\n",
       "\n",
       "    .dataframe tbody tr th {\n",
       "        vertical-align: top;\n",
       "    }\n",
       "\n",
       "    .dataframe thead th {\n",
       "        text-align: right;\n",
       "    }\n",
       "</style>\n",
       "<table border=\"1\" class=\"dataframe\">\n",
       "  <thead>\n",
       "    <tr style=\"text-align: right;\">\n",
       "      <th></th>\n",
       "      <th>ada</th>\n",
       "      <th>xgb</th>\n",
       "      <th>light</th>\n",
       "      <th>logistic</th>\n",
       "      <th>forest</th>\n",
       "      <th>cat</th>\n",
       "      <th>qda</th>\n",
       "    </tr>\n",
       "  </thead>\n",
       "  <tbody>\n",
       "    <tr>\n",
       "      <th>0</th>\n",
       "      <td>0</td>\n",
       "      <td>0</td>\n",
       "      <td>0</td>\n",
       "      <td>0</td>\n",
       "      <td>0</td>\n",
       "      <td>0</td>\n",
       "      <td>0</td>\n",
       "    </tr>\n",
       "    <tr>\n",
       "      <th>1</th>\n",
       "      <td>0</td>\n",
       "      <td>0</td>\n",
       "      <td>0</td>\n",
       "      <td>0</td>\n",
       "      <td>0</td>\n",
       "      <td>0</td>\n",
       "      <td>0</td>\n",
       "    </tr>\n",
       "    <tr>\n",
       "      <th>2</th>\n",
       "      <td>0</td>\n",
       "      <td>0</td>\n",
       "      <td>0</td>\n",
       "      <td>0</td>\n",
       "      <td>0</td>\n",
       "      <td>0</td>\n",
       "      <td>0</td>\n",
       "    </tr>\n",
       "    <tr>\n",
       "      <th>3</th>\n",
       "      <td>0</td>\n",
       "      <td>0</td>\n",
       "      <td>0</td>\n",
       "      <td>0</td>\n",
       "      <td>0</td>\n",
       "      <td>0</td>\n",
       "      <td>0</td>\n",
       "    </tr>\n",
       "    <tr>\n",
       "      <th>4</th>\n",
       "      <td>0</td>\n",
       "      <td>0</td>\n",
       "      <td>0</td>\n",
       "      <td>0</td>\n",
       "      <td>0</td>\n",
       "      <td>0</td>\n",
       "      <td>1</td>\n",
       "    </tr>\n",
       "    <tr>\n",
       "      <th>...</th>\n",
       "      <td>...</td>\n",
       "      <td>...</td>\n",
       "      <td>...</td>\n",
       "      <td>...</td>\n",
       "      <td>...</td>\n",
       "      <td>...</td>\n",
       "      <td>...</td>\n",
       "    </tr>\n",
       "    <tr>\n",
       "      <th>326</th>\n",
       "      <td>0</td>\n",
       "      <td>0</td>\n",
       "      <td>0</td>\n",
       "      <td>0</td>\n",
       "      <td>0</td>\n",
       "      <td>0</td>\n",
       "      <td>0</td>\n",
       "    </tr>\n",
       "    <tr>\n",
       "      <th>327</th>\n",
       "      <td>0</td>\n",
       "      <td>0</td>\n",
       "      <td>0</td>\n",
       "      <td>0</td>\n",
       "      <td>0</td>\n",
       "      <td>0</td>\n",
       "      <td>0</td>\n",
       "    </tr>\n",
       "    <tr>\n",
       "      <th>328</th>\n",
       "      <td>0</td>\n",
       "      <td>0</td>\n",
       "      <td>0</td>\n",
       "      <td>0</td>\n",
       "      <td>0</td>\n",
       "      <td>0</td>\n",
       "      <td>0</td>\n",
       "    </tr>\n",
       "    <tr>\n",
       "      <th>329</th>\n",
       "      <td>0</td>\n",
       "      <td>0</td>\n",
       "      <td>0</td>\n",
       "      <td>0</td>\n",
       "      <td>0</td>\n",
       "      <td>0</td>\n",
       "      <td>0</td>\n",
       "    </tr>\n",
       "    <tr>\n",
       "      <th>330</th>\n",
       "      <td>0</td>\n",
       "      <td>0</td>\n",
       "      <td>0</td>\n",
       "      <td>0</td>\n",
       "      <td>0</td>\n",
       "      <td>0</td>\n",
       "      <td>0</td>\n",
       "    </tr>\n",
       "  </tbody>\n",
       "</table>\n",
       "<p>331 rows × 7 columns</p>\n",
       "</div>\n",
       "    <div class=\"colab-df-buttons\">\n",
       "\n",
       "  <div class=\"colab-df-container\">\n",
       "    <button class=\"colab-df-convert\" onclick=\"convertToInteractive('df-d8ec5bc1-1717-4441-9db6-18b8eac53559')\"\n",
       "            title=\"Convert this dataframe to an interactive table.\"\n",
       "            style=\"display:none;\">\n",
       "\n",
       "  <svg xmlns=\"http://www.w3.org/2000/svg\" height=\"24px\" viewBox=\"0 -960 960 960\">\n",
       "    <path d=\"M120-120v-720h720v720H120Zm60-500h600v-160H180v160Zm220 220h160v-160H400v160Zm0 220h160v-160H400v160ZM180-400h160v-160H180v160Zm440 0h160v-160H620v160ZM180-180h160v-160H180v160Zm440 0h160v-160H620v160Z\"/>\n",
       "  </svg>\n",
       "    </button>\n",
       "\n",
       "  <style>\n",
       "    .colab-df-container {\n",
       "      display:flex;\n",
       "      gap: 12px;\n",
       "    }\n",
       "\n",
       "    .colab-df-convert {\n",
       "      background-color: #E8F0FE;\n",
       "      border: none;\n",
       "      border-radius: 50%;\n",
       "      cursor: pointer;\n",
       "      display: none;\n",
       "      fill: #1967D2;\n",
       "      height: 32px;\n",
       "      padding: 0 0 0 0;\n",
       "      width: 32px;\n",
       "    }\n",
       "\n",
       "    .colab-df-convert:hover {\n",
       "      background-color: #E2EBFA;\n",
       "      box-shadow: 0px 1px 2px rgba(60, 64, 67, 0.3), 0px 1px 3px 1px rgba(60, 64, 67, 0.15);\n",
       "      fill: #174EA6;\n",
       "    }\n",
       "\n",
       "    .colab-df-buttons div {\n",
       "      margin-bottom: 4px;\n",
       "    }\n",
       "\n",
       "    [theme=dark] .colab-df-convert {\n",
       "      background-color: #3B4455;\n",
       "      fill: #D2E3FC;\n",
       "    }\n",
       "\n",
       "    [theme=dark] .colab-df-convert:hover {\n",
       "      background-color: #434B5C;\n",
       "      box-shadow: 0px 1px 3px 1px rgba(0, 0, 0, 0.15);\n",
       "      filter: drop-shadow(0px 1px 2px rgba(0, 0, 0, 0.3));\n",
       "      fill: #FFFFFF;\n",
       "    }\n",
       "  </style>\n",
       "\n",
       "    <script>\n",
       "      const buttonEl =\n",
       "        document.querySelector('#df-d8ec5bc1-1717-4441-9db6-18b8eac53559 button.colab-df-convert');\n",
       "      buttonEl.style.display =\n",
       "        google.colab.kernel.accessAllowed ? 'block' : 'none';\n",
       "\n",
       "      async function convertToInteractive(key) {\n",
       "        const element = document.querySelector('#df-d8ec5bc1-1717-4441-9db6-18b8eac53559');\n",
       "        const dataTable =\n",
       "          await google.colab.kernel.invokeFunction('convertToInteractive',\n",
       "                                                    [key], {});\n",
       "        if (!dataTable) return;\n",
       "\n",
       "        const docLinkHtml = 'Like what you see? Visit the ' +\n",
       "          '<a target=\"_blank\" href=https://colab.research.google.com/notebooks/data_table.ipynb>data table notebook</a>'\n",
       "          + ' to learn more about interactive tables.';\n",
       "        element.innerHTML = '';\n",
       "        dataTable['output_type'] = 'display_data';\n",
       "        await google.colab.output.renderOutput(dataTable, element);\n",
       "        const docLink = document.createElement('div');\n",
       "        docLink.innerHTML = docLinkHtml;\n",
       "        element.appendChild(docLink);\n",
       "      }\n",
       "    </script>\n",
       "  </div>\n",
       "\n",
       "\n",
       "<div id=\"df-93c281b3-9254-464e-9abd-c12fb468cd01\">\n",
       "  <button class=\"colab-df-quickchart\" onclick=\"quickchart('df-93c281b3-9254-464e-9abd-c12fb468cd01')\"\n",
       "            title=\"Suggest charts.\"\n",
       "            style=\"display:none;\">\n",
       "\n",
       "<svg xmlns=\"http://www.w3.org/2000/svg\" height=\"24px\"viewBox=\"0 0 24 24\"\n",
       "     width=\"24px\">\n",
       "    <g>\n",
       "        <path d=\"M19 3H5c-1.1 0-2 .9-2 2v14c0 1.1.9 2 2 2h14c1.1 0 2-.9 2-2V5c0-1.1-.9-2-2-2zM9 17H7v-7h2v7zm4 0h-2V7h2v10zm4 0h-2v-4h2v4z\"/>\n",
       "    </g>\n",
       "</svg>\n",
       "  </button>\n",
       "\n",
       "<style>\n",
       "  .colab-df-quickchart {\n",
       "      --bg-color: #E8F0FE;\n",
       "      --fill-color: #1967D2;\n",
       "      --hover-bg-color: #E2EBFA;\n",
       "      --hover-fill-color: #174EA6;\n",
       "      --disabled-fill-color: #AAA;\n",
       "      --disabled-bg-color: #DDD;\n",
       "  }\n",
       "\n",
       "  [theme=dark] .colab-df-quickchart {\n",
       "      --bg-color: #3B4455;\n",
       "      --fill-color: #D2E3FC;\n",
       "      --hover-bg-color: #434B5C;\n",
       "      --hover-fill-color: #FFFFFF;\n",
       "      --disabled-bg-color: #3B4455;\n",
       "      --disabled-fill-color: #666;\n",
       "  }\n",
       "\n",
       "  .colab-df-quickchart {\n",
       "    background-color: var(--bg-color);\n",
       "    border: none;\n",
       "    border-radius: 50%;\n",
       "    cursor: pointer;\n",
       "    display: none;\n",
       "    fill: var(--fill-color);\n",
       "    height: 32px;\n",
       "    padding: 0;\n",
       "    width: 32px;\n",
       "  }\n",
       "\n",
       "  .colab-df-quickchart:hover {\n",
       "    background-color: var(--hover-bg-color);\n",
       "    box-shadow: 0 1px 2px rgba(60, 64, 67, 0.3), 0 1px 3px 1px rgba(60, 64, 67, 0.15);\n",
       "    fill: var(--button-hover-fill-color);\n",
       "  }\n",
       "\n",
       "  .colab-df-quickchart-complete:disabled,\n",
       "  .colab-df-quickchart-complete:disabled:hover {\n",
       "    background-color: var(--disabled-bg-color);\n",
       "    fill: var(--disabled-fill-color);\n",
       "    box-shadow: none;\n",
       "  }\n",
       "\n",
       "  .colab-df-spinner {\n",
       "    border: 2px solid var(--fill-color);\n",
       "    border-color: transparent;\n",
       "    border-bottom-color: var(--fill-color);\n",
       "    animation:\n",
       "      spin 1s steps(1) infinite;\n",
       "  }\n",
       "\n",
       "  @keyframes spin {\n",
       "    0% {\n",
       "      border-color: transparent;\n",
       "      border-bottom-color: var(--fill-color);\n",
       "      border-left-color: var(--fill-color);\n",
       "    }\n",
       "    20% {\n",
       "      border-color: transparent;\n",
       "      border-left-color: var(--fill-color);\n",
       "      border-top-color: var(--fill-color);\n",
       "    }\n",
       "    30% {\n",
       "      border-color: transparent;\n",
       "      border-left-color: var(--fill-color);\n",
       "      border-top-color: var(--fill-color);\n",
       "      border-right-color: var(--fill-color);\n",
       "    }\n",
       "    40% {\n",
       "      border-color: transparent;\n",
       "      border-right-color: var(--fill-color);\n",
       "      border-top-color: var(--fill-color);\n",
       "    }\n",
       "    60% {\n",
       "      border-color: transparent;\n",
       "      border-right-color: var(--fill-color);\n",
       "    }\n",
       "    80% {\n",
       "      border-color: transparent;\n",
       "      border-right-color: var(--fill-color);\n",
       "      border-bottom-color: var(--fill-color);\n",
       "    }\n",
       "    90% {\n",
       "      border-color: transparent;\n",
       "      border-bottom-color: var(--fill-color);\n",
       "    }\n",
       "  }\n",
       "</style>\n",
       "\n",
       "  <script>\n",
       "    async function quickchart(key) {\n",
       "      const quickchartButtonEl =\n",
       "        document.querySelector('#' + key + ' button');\n",
       "      quickchartButtonEl.disabled = true;  // To prevent multiple clicks.\n",
       "      quickchartButtonEl.classList.add('colab-df-spinner');\n",
       "      try {\n",
       "        const charts = await google.colab.kernel.invokeFunction(\n",
       "            'suggestCharts', [key], {});\n",
       "      } catch (error) {\n",
       "        console.error('Error during call to suggestCharts:', error);\n",
       "      }\n",
       "      quickchartButtonEl.classList.remove('colab-df-spinner');\n",
       "      quickchartButtonEl.classList.add('colab-df-quickchart-complete');\n",
       "    }\n",
       "    (() => {\n",
       "      let quickchartButtonEl =\n",
       "        document.querySelector('#df-93c281b3-9254-464e-9abd-c12fb468cd01 button');\n",
       "      quickchartButtonEl.style.display =\n",
       "        google.colab.kernel.accessAllowed ? 'block' : 'none';\n",
       "    })();\n",
       "  </script>\n",
       "</div>\n",
       "    </div>\n",
       "  </div>\n"
      ]
     },
     "metadata": {},
     "execution_count": 114
    }
   ]
  },
  {
   "cell_type": "code",
   "source": [
    "cv = StratifiedKFold(n_splits = 10,\n",
    "                    shuffle = True,\n",
    "                    random_state = 42)\n",
    "\n",
    "meta_model = LogisticRegression(solver='newton-cholesky', max_iter=2000, C=2)\n",
    "score_list, accuracy_list = [], []\n",
    "\n",
    "for i, (train_val, test_val) in enumerate(cv.split(initial_pred,y_test)):\n",
    "    X_learn, X_see = initial_pred.iloc[train_val], initial_pred.iloc[test_val]\n",
    "    y_learn, y_see = y_test.iloc[train_val], y_test.iloc[test_val]\n",
    "\n",
    "    meta_model.fit(X_learn, y_learn)\n",
    "\n",
    "    y_pred = meta_model.predict_proba(X_see)[:,1]\n",
    "    score = roc_auc_score(y_see, y_pred)\n",
    "    score_list.append(score)\n",
    "    y_pred = meta_model.predict(X_see)\n",
    "    accuracy_list.append(metrics.accuracy_score(y_see, y_pred))\n",
    "\n",
    "    print(f\"Fold {i+1} AUC Score: {score:.5f}\")\n",
    "\n",
    "print('Average AUC Score: ', sum(score_list) / len(score_list))\n",
    "print(\"Accuracy: \",sum(accuracy_list) / len(accuracy_list))"
   ],
   "metadata": {
    "id": "qWuT5FAjNcZe",
    "colab": {
     "base_uri": "https://localhost:8080/"
    },
    "executionInfo": {
     "status": "ok",
     "timestamp": 1697315392656,
     "user_tz": 240,
     "elapsed": 34,
     "user": {
      "displayName": "Hao Huang",
      "userId": "01836457921775189398"
     }
    },
    "outputId": "4265eb47-9fff-4f62-8136-a03ef12a09cd"
   },
   "execution_count": null,
   "outputs": [
    {
     "output_type": "stream",
     "name": "stdout",
     "text": [
      "Fold 1 AUC Score: 1.00000\n",
      "Fold 2 AUC Score: 1.00000\n",
      "Fold 3 AUC Score: 0.73387\n",
      "Fold 4 AUC Score: 0.98387\n",
      "Fold 5 AUC Score: 0.78333\n",
      "Fold 6 AUC Score: 0.93333\n",
      "Fold 7 AUC Score: 0.70556\n",
      "Fold 8 AUC Score: 0.96111\n",
      "Fold 9 AUC Score: 0.97778\n",
      "Fold 10 AUC Score: 0.51111\n",
      "Average AUC Score:  0.8589964157706094\n",
      "Accuracy:  0.9275401069518718\n"
     ]
    }
   ]
  },
  {
   "cell_type": "code",
   "source": [
    "# parameters = [{'C':[1,1.5,2], 'solver':['newton-cholesky', 'lbfgs'], 'max_iter':[1000,2000,3000]}]\n",
    "\n",
    "# search = GridSearchCV(LogisticRegression(), param_grid=parameters, scoring='roc_auc')\n",
    "# search.fit(initial_pred, y_test)\n",
    "\n",
    "# print(\"Best parameters set found on development set:\")\n",
    "# print()\n",
    "# print(search.best_params_)\n",
    "# print()\n",
    "# print(\"Grid scores on development set:\")\n",
    "# print()\n",
    "# means = search.cv_results_['mean_test_score']\n",
    "# stds = search.cv_results_['std_test_score']\n",
    "# for mean, std, params in zip(means, stds, search.cv_results_['params']):\n",
    "#     print(\"%0.3f (+/-%0.03f) for %r\"\n",
    "#             % (mean, std * 2, params))"
   ],
   "metadata": {
    "id": "98rBuvxQRon8"
   },
   "execution_count": null,
   "outputs": []
  },
  {
   "cell_type": "markdown",
   "source": [
    "## **Apply model**"
   ],
   "metadata": {
    "id": "5xGSQrJs7Xl1"
   }
  },
  {
   "cell_type": "code",
   "source": [
    "lazy_people_train[lazy_people_train['ground_truth']==1]"
   ],
   "metadata": {
    "id": "9oXrvErw1hyT",
    "executionInfo": {
     "status": "ok",
     "timestamp": 1697315392656,
     "user_tz": 240,
     "elapsed": 30,
     "user": {
      "displayName": "Hao Huang",
      "userId": "01836457921775189398"
     }
    },
    "colab": {
     "base_uri": "https://localhost:8080/",
     "height": 231
    },
    "outputId": "d68598d2-5882-4f59-8303-4191b970866a"
   },
   "execution_count": null,
   "outputs": [
    {
     "output_type": "execute_result",
     "data": {
      "text/plain": [
       "             id             therapy_id            therapy_start_date  \\\n",
       "211  1078555806  1078555806-TAGRISSO-1  2019-11-11T00:00:00.000+0000   \n",
       "729  1100138510  1100138510-TAGRISSO-1  2020-11-02T00:00:00.000+0000   \n",
       "\n",
       "    therapy_end_date  tgt_ade_dc_ind  race_cd  est_age sex_cd  \\\n",
       "211       2019-12-11               1      3.0     68.0      F   \n",
       "729       2020-12-02               1      4.0     66.0      F   \n",
       "\n",
       "     cms_disabled_ind  cms_low_income_ind  ...  avg_supply_cnt  avg_rx_cost  \\\n",
       "211               0.0                 0.0  ...             NaN          NaN   \n",
       "729               0.0                 0.0  ...             NaN          NaN   \n",
       "\n",
       "     avg_tot_cost  avg_metric_strength  generic_ind  maint_ind  \\\n",
       "211           NaN                  NaN          NaN        NaN   \n",
       "729           NaN                  NaN          NaN        NaN   \n",
       "\n",
       "     hum_drug_class_desc  specialty_ind rx_count ground_truth  \n",
       "211                  NaN            NaN      0.0            1  \n",
       "729                  NaN            NaN      0.0            1  \n",
       "\n",
       "[2 rows x 40 columns]"
      ],
      "text/html": [
       "\n",
       "  <div id=\"df-eae26803-6084-4475-8d98-57905fb88e77\" class=\"colab-df-container\">\n",
       "    <div>\n",
       "<style scoped>\n",
       "    .dataframe tbody tr th:only-of-type {\n",
       "        vertical-align: middle;\n",
       "    }\n",
       "\n",
       "    .dataframe tbody tr th {\n",
       "        vertical-align: top;\n",
       "    }\n",
       "\n",
       "    .dataframe thead th {\n",
       "        text-align: right;\n",
       "    }\n",
       "</style>\n",
       "<table border=\"1\" class=\"dataframe\">\n",
       "  <thead>\n",
       "    <tr style=\"text-align: right;\">\n",
       "      <th></th>\n",
       "      <th>id</th>\n",
       "      <th>therapy_id</th>\n",
       "      <th>therapy_start_date</th>\n",
       "      <th>therapy_end_date</th>\n",
       "      <th>tgt_ade_dc_ind</th>\n",
       "      <th>race_cd</th>\n",
       "      <th>est_age</th>\n",
       "      <th>sex_cd</th>\n",
       "      <th>cms_disabled_ind</th>\n",
       "      <th>cms_low_income_ind</th>\n",
       "      <th>...</th>\n",
       "      <th>avg_supply_cnt</th>\n",
       "      <th>avg_rx_cost</th>\n",
       "      <th>avg_tot_cost</th>\n",
       "      <th>avg_metric_strength</th>\n",
       "      <th>generic_ind</th>\n",
       "      <th>maint_ind</th>\n",
       "      <th>hum_drug_class_desc</th>\n",
       "      <th>specialty_ind</th>\n",
       "      <th>rx_count</th>\n",
       "      <th>ground_truth</th>\n",
       "    </tr>\n",
       "  </thead>\n",
       "  <tbody>\n",
       "    <tr>\n",
       "      <th>211</th>\n",
       "      <td>1078555806</td>\n",
       "      <td>1078555806-TAGRISSO-1</td>\n",
       "      <td>2019-11-11T00:00:00.000+0000</td>\n",
       "      <td>2019-12-11</td>\n",
       "      <td>1</td>\n",
       "      <td>3.0</td>\n",
       "      <td>68.0</td>\n",
       "      <td>F</td>\n",
       "      <td>0.0</td>\n",
       "      <td>0.0</td>\n",
       "      <td>...</td>\n",
       "      <td>NaN</td>\n",
       "      <td>NaN</td>\n",
       "      <td>NaN</td>\n",
       "      <td>NaN</td>\n",
       "      <td>NaN</td>\n",
       "      <td>NaN</td>\n",
       "      <td>NaN</td>\n",
       "      <td>NaN</td>\n",
       "      <td>0.0</td>\n",
       "      <td>1</td>\n",
       "    </tr>\n",
       "    <tr>\n",
       "      <th>729</th>\n",
       "      <td>1100138510</td>\n",
       "      <td>1100138510-TAGRISSO-1</td>\n",
       "      <td>2020-11-02T00:00:00.000+0000</td>\n",
       "      <td>2020-12-02</td>\n",
       "      <td>1</td>\n",
       "      <td>4.0</td>\n",
       "      <td>66.0</td>\n",
       "      <td>F</td>\n",
       "      <td>0.0</td>\n",
       "      <td>0.0</td>\n",
       "      <td>...</td>\n",
       "      <td>NaN</td>\n",
       "      <td>NaN</td>\n",
       "      <td>NaN</td>\n",
       "      <td>NaN</td>\n",
       "      <td>NaN</td>\n",
       "      <td>NaN</td>\n",
       "      <td>NaN</td>\n",
       "      <td>NaN</td>\n",
       "      <td>0.0</td>\n",
       "      <td>1</td>\n",
       "    </tr>\n",
       "  </tbody>\n",
       "</table>\n",
       "<p>2 rows × 40 columns</p>\n",
       "</div>\n",
       "    <div class=\"colab-df-buttons\">\n",
       "\n",
       "  <div class=\"colab-df-container\">\n",
       "    <button class=\"colab-df-convert\" onclick=\"convertToInteractive('df-eae26803-6084-4475-8d98-57905fb88e77')\"\n",
       "            title=\"Convert this dataframe to an interactive table.\"\n",
       "            style=\"display:none;\">\n",
       "\n",
       "  <svg xmlns=\"http://www.w3.org/2000/svg\" height=\"24px\" viewBox=\"0 -960 960 960\">\n",
       "    <path d=\"M120-120v-720h720v720H120Zm60-500h600v-160H180v160Zm220 220h160v-160H400v160Zm0 220h160v-160H400v160ZM180-400h160v-160H180v160Zm440 0h160v-160H620v160ZM180-180h160v-160H180v160Zm440 0h160v-160H620v160Z\"/>\n",
       "  </svg>\n",
       "    </button>\n",
       "\n",
       "  <style>\n",
       "    .colab-df-container {\n",
       "      display:flex;\n",
       "      gap: 12px;\n",
       "    }\n",
       "\n",
       "    .colab-df-convert {\n",
       "      background-color: #E8F0FE;\n",
       "      border: none;\n",
       "      border-radius: 50%;\n",
       "      cursor: pointer;\n",
       "      display: none;\n",
       "      fill: #1967D2;\n",
       "      height: 32px;\n",
       "      padding: 0 0 0 0;\n",
       "      width: 32px;\n",
       "    }\n",
       "\n",
       "    .colab-df-convert:hover {\n",
       "      background-color: #E2EBFA;\n",
       "      box-shadow: 0px 1px 2px rgba(60, 64, 67, 0.3), 0px 1px 3px 1px rgba(60, 64, 67, 0.15);\n",
       "      fill: #174EA6;\n",
       "    }\n",
       "\n",
       "    .colab-df-buttons div {\n",
       "      margin-bottom: 4px;\n",
       "    }\n",
       "\n",
       "    [theme=dark] .colab-df-convert {\n",
       "      background-color: #3B4455;\n",
       "      fill: #D2E3FC;\n",
       "    }\n",
       "\n",
       "    [theme=dark] .colab-df-convert:hover {\n",
       "      background-color: #434B5C;\n",
       "      box-shadow: 0px 1px 3px 1px rgba(0, 0, 0, 0.15);\n",
       "      filter: drop-shadow(0px 1px 2px rgba(0, 0, 0, 0.3));\n",
       "      fill: #FFFFFF;\n",
       "    }\n",
       "  </style>\n",
       "\n",
       "    <script>\n",
       "      const buttonEl =\n",
       "        document.querySelector('#df-eae26803-6084-4475-8d98-57905fb88e77 button.colab-df-convert');\n",
       "      buttonEl.style.display =\n",
       "        google.colab.kernel.accessAllowed ? 'block' : 'none';\n",
       "\n",
       "      async function convertToInteractive(key) {\n",
       "        const element = document.querySelector('#df-eae26803-6084-4475-8d98-57905fb88e77');\n",
       "        const dataTable =\n",
       "          await google.colab.kernel.invokeFunction('convertToInteractive',\n",
       "                                                    [key], {});\n",
       "        if (!dataTable) return;\n",
       "\n",
       "        const docLinkHtml = 'Like what you see? Visit the ' +\n",
       "          '<a target=\"_blank\" href=https://colab.research.google.com/notebooks/data_table.ipynb>data table notebook</a>'\n",
       "          + ' to learn more about interactive tables.';\n",
       "        element.innerHTML = '';\n",
       "        dataTable['output_type'] = 'display_data';\n",
       "        await google.colab.output.renderOutput(dataTable, element);\n",
       "        const docLink = document.createElement('div');\n",
       "        docLink.innerHTML = docLinkHtml;\n",
       "        element.appendChild(docLink);\n",
       "      }\n",
       "    </script>\n",
       "  </div>\n",
       "\n",
       "\n",
       "<div id=\"df-1830be13-60b6-43ed-ac64-9aa94b41fa63\">\n",
       "  <button class=\"colab-df-quickchart\" onclick=\"quickchart('df-1830be13-60b6-43ed-ac64-9aa94b41fa63')\"\n",
       "            title=\"Suggest charts.\"\n",
       "            style=\"display:none;\">\n",
       "\n",
       "<svg xmlns=\"http://www.w3.org/2000/svg\" height=\"24px\"viewBox=\"0 0 24 24\"\n",
       "     width=\"24px\">\n",
       "    <g>\n",
       "        <path d=\"M19 3H5c-1.1 0-2 .9-2 2v14c0 1.1.9 2 2 2h14c1.1 0 2-.9 2-2V5c0-1.1-.9-2-2-2zM9 17H7v-7h2v7zm4 0h-2V7h2v10zm4 0h-2v-4h2v4z\"/>\n",
       "    </g>\n",
       "</svg>\n",
       "  </button>\n",
       "\n",
       "<style>\n",
       "  .colab-df-quickchart {\n",
       "      --bg-color: #E8F0FE;\n",
       "      --fill-color: #1967D2;\n",
       "      --hover-bg-color: #E2EBFA;\n",
       "      --hover-fill-color: #174EA6;\n",
       "      --disabled-fill-color: #AAA;\n",
       "      --disabled-bg-color: #DDD;\n",
       "  }\n",
       "\n",
       "  [theme=dark] .colab-df-quickchart {\n",
       "      --bg-color: #3B4455;\n",
       "      --fill-color: #D2E3FC;\n",
       "      --hover-bg-color: #434B5C;\n",
       "      --hover-fill-color: #FFFFFF;\n",
       "      --disabled-bg-color: #3B4455;\n",
       "      --disabled-fill-color: #666;\n",
       "  }\n",
       "\n",
       "  .colab-df-quickchart {\n",
       "    background-color: var(--bg-color);\n",
       "    border: none;\n",
       "    border-radius: 50%;\n",
       "    cursor: pointer;\n",
       "    display: none;\n",
       "    fill: var(--fill-color);\n",
       "    height: 32px;\n",
       "    padding: 0;\n",
       "    width: 32px;\n",
       "  }\n",
       "\n",
       "  .colab-df-quickchart:hover {\n",
       "    background-color: var(--hover-bg-color);\n",
       "    box-shadow: 0 1px 2px rgba(60, 64, 67, 0.3), 0 1px 3px 1px rgba(60, 64, 67, 0.15);\n",
       "    fill: var(--button-hover-fill-color);\n",
       "  }\n",
       "\n",
       "  .colab-df-quickchart-complete:disabled,\n",
       "  .colab-df-quickchart-complete:disabled:hover {\n",
       "    background-color: var(--disabled-bg-color);\n",
       "    fill: var(--disabled-fill-color);\n",
       "    box-shadow: none;\n",
       "  }\n",
       "\n",
       "  .colab-df-spinner {\n",
       "    border: 2px solid var(--fill-color);\n",
       "    border-color: transparent;\n",
       "    border-bottom-color: var(--fill-color);\n",
       "    animation:\n",
       "      spin 1s steps(1) infinite;\n",
       "  }\n",
       "\n",
       "  @keyframes spin {\n",
       "    0% {\n",
       "      border-color: transparent;\n",
       "      border-bottom-color: var(--fill-color);\n",
       "      border-left-color: var(--fill-color);\n",
       "    }\n",
       "    20% {\n",
       "      border-color: transparent;\n",
       "      border-left-color: var(--fill-color);\n",
       "      border-top-color: var(--fill-color);\n",
       "    }\n",
       "    30% {\n",
       "      border-color: transparent;\n",
       "      border-left-color: var(--fill-color);\n",
       "      border-top-color: var(--fill-color);\n",
       "      border-right-color: var(--fill-color);\n",
       "    }\n",
       "    40% {\n",
       "      border-color: transparent;\n",
       "      border-right-color: var(--fill-color);\n",
       "      border-top-color: var(--fill-color);\n",
       "    }\n",
       "    60% {\n",
       "      border-color: transparent;\n",
       "      border-right-color: var(--fill-color);\n",
       "    }\n",
       "    80% {\n",
       "      border-color: transparent;\n",
       "      border-right-color: var(--fill-color);\n",
       "      border-bottom-color: var(--fill-color);\n",
       "    }\n",
       "    90% {\n",
       "      border-color: transparent;\n",
       "      border-bottom-color: var(--fill-color);\n",
       "    }\n",
       "  }\n",
       "</style>\n",
       "\n",
       "  <script>\n",
       "    async function quickchart(key) {\n",
       "      const quickchartButtonEl =\n",
       "        document.querySelector('#' + key + ' button');\n",
       "      quickchartButtonEl.disabled = true;  // To prevent multiple clicks.\n",
       "      quickchartButtonEl.classList.add('colab-df-spinner');\n",
       "      try {\n",
       "        const charts = await google.colab.kernel.invokeFunction(\n",
       "            'suggestCharts', [key], {});\n",
       "      } catch (error) {\n",
       "        console.error('Error during call to suggestCharts:', error);\n",
       "      }\n",
       "      quickchartButtonEl.classList.remove('colab-df-spinner');\n",
       "      quickchartButtonEl.classList.add('colab-df-quickchart-complete');\n",
       "    }\n",
       "    (() => {\n",
       "      let quickchartButtonEl =\n",
       "        document.querySelector('#df-1830be13-60b6-43ed-ac64-9aa94b41fa63 button');\n",
       "      quickchartButtonEl.style.display =\n",
       "        google.colab.kernel.accessAllowed ? 'block' : 'none';\n",
       "    })();\n",
       "  </script>\n",
       "</div>\n",
       "    </div>\n",
       "  </div>\n"
      ]
     },
     "metadata": {},
     "execution_count": 117
    }
   ]
  },
  {
   "cell_type": "code",
   "source": [
    "lazy_people_train.cms_low_income_ind.sum()"
   ],
   "metadata": {
    "id": "vvwKg41V2UvO",
    "executionInfo": {
     "status": "ok",
     "timestamp": 1697315392656,
     "user_tz": 240,
     "elapsed": 29,
     "user": {
      "displayName": "Hao Huang",
      "userId": "01836457921775189398"
     }
    },
    "colab": {
     "base_uri": "https://localhost:8080/"
    },
    "outputId": "2deb9a8a-f331-4e9a-ec9d-abeb84cd8804"
   },
   "execution_count": null,
   "outputs": [
    {
     "output_type": "execute_result",
     "data": {
      "text/plain": [
       "10.0"
      ]
     },
     "metadata": {},
     "execution_count": 118
    }
   ]
  },
  {
   "cell_type": "code",
   "source": [
    "# x_holdout = val_df\n",
    "# x_holdout.loc[:, x_holdout.dtypes == 'object'] =\\\n",
    "#     x_holdout.select_dtypes(['object'])\\\n",
    "#     .apply(lambda x: x.astype('category'))"
   ],
   "metadata": {
    "id": "QCUiCNyqFLII"
   },
   "execution_count": null,
   "outputs": []
  },
  {
   "cell_type": "code",
   "source": [
    "prob = light_clf.predict_proba(val_df)\n",
    "score = pd.DataFrame(prob[:,1]).reset_index()\n",
    "id = pd.DataFrame(patient_id).reset_index()\n",
    "\n",
    "result = pd.concat([id,score],axis=1)\n",
    "result.drop(columns = 'index',inplace = True)\n",
    "result.rename(columns = {0:'score'}, inplace = True)"
   ],
   "metadata": {
    "id": "noPm9A1XBLP1"
   },
   "execution_count": null,
   "outputs": []
  },
  {
   "cell_type": "code",
   "source": [
    "lazy = pd.DataFrame(lazy_people_val).reset_index()\n",
    "lazy['score'] = 0\n",
    "lazy = lazy[['id','score']]"
   ],
   "metadata": {
    "id": "axrBAV8sDZOB"
   },
   "execution_count": null,
   "outputs": []
  },
  {
   "cell_type": "code",
   "source": [
    "result = pd.concat([result,lazy],axis=0)\n",
    "result[\"RANK\"] = result[\"score\"].rank(ascending=False)\n",
    "\n",
    "# sorting w.r.t name column\n",
    "result.sort_values(\"score\", inplace = True, ascending=False)\n",
    "result.rename(columns={'id': 'ID', 'score': 'SCORE'}, inplace=True)\n",
    "result[\"RANK\"] = result[\"RANK\"].astype(int)"
   ],
   "metadata": {
    "id": "INBjsqb5GMLs"
   },
   "execution_count": null,
   "outputs": []
  },
  {
   "cell_type": "code",
   "source": [
    "result.info()"
   ],
   "metadata": {
    "id": "SsgoN37nYBb-",
    "executionInfo": {
     "status": "ok",
     "timestamp": 1697315392855,
     "user_tz": 240,
     "elapsed": 9,
     "user": {
      "displayName": "Hao Huang",
      "userId": "01836457921775189398"
     }
    },
    "colab": {
     "base_uri": "https://localhost:8080/"
    },
    "outputId": "7c0af6ad-1039-4d71-8c03-3b51f0b7b0d5"
   },
   "execution_count": null,
   "outputs": [
    {
     "output_type": "stream",
     "name": "stdout",
     "text": [
      "<class 'pandas.core.frame.DataFrame'>\n",
      "Int64Index: 420 entries, 258 to 83\n",
      "Data columns (total 3 columns):\n",
      " #   Column  Non-Null Count  Dtype  \n",
      "---  ------  --------------  -----  \n",
      " 0   ID      420 non-null    int64  \n",
      " 1   SCORE   420 non-null    float64\n",
      " 2   RANK    420 non-null    int64  \n",
      "dtypes: float64(1), int64(2)\n",
      "memory usage: 13.1 KB\n"
     ]
    }
   ]
  },
  {
   "cell_type": "code",
   "source": [
    "result.to_csv('2023CaseCompetition_Hao_Huang_20231006.csv')"
   ],
   "metadata": {
    "id": "xii2uXvIFAuD"
   },
   "execution_count": null,
   "outputs": []
  }
 ]
}
